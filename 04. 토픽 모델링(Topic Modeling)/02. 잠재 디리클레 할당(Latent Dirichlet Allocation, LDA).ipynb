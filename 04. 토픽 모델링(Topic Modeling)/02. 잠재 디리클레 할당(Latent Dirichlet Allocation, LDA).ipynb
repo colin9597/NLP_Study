{
 "cells": [
  {
   "cell_type": "markdown",
   "id": "f9090339",
   "metadata": {},
   "source": [
    "## 1. 실습1 - gensim 사용"
   ]
  },
  {
   "cell_type": "markdown",
   "id": "4a70c3f6",
   "metadata": {},
   "source": [
    "### 1) 정수 인코딩과 단어 집합 만들기"
   ]
  },
  {
   "cell_type": "markdown",
   "id": "02b302b6",
   "metadata": {},
   "source": [
    "- 뉴스그룹 데이터 불러오기"
   ]
  },
  {
   "cell_type": "code",
   "execution_count": 1,
   "id": "870f1c6a",
   "metadata": {},
   "outputs": [],
   "source": [
    "import pandas as pd\n",
    "from sklearn.datasets import fetch_20newsgroups\n",
    "dataset = fetch_20newsgroups(shuffle=True, random_state=1, remove=('headers', 'footers', 'quotes'))\n",
    "documents = dataset.data"
   ]
  },
  {
   "cell_type": "markdown",
   "id": "6ddc917e",
   "metadata": {},
   "source": [
    "- 텍스트 데이터 전처리"
   ]
  },
  {
   "cell_type": "code",
   "execution_count": 2,
   "id": "d8841ee1",
   "metadata": {},
   "outputs": [
    {
     "name": "stderr",
     "output_type": "stream",
     "text": [
      "<ipython-input-2-b4124dfb5e6a>:3: FutureWarning: The default value of regex will change from True to False in a future version.\n",
      "  news_df['clean_doc'] = news_df['document'].str.replace(\"[^a-zA-Z]\", \" \")\n"
     ]
    }
   ],
   "source": [
    "news_df = pd.DataFrame({'document':documents})\n",
    "# 특수 문자 제거\n",
    "news_df['clean_doc'] = news_df['document'].str.replace(\"[^a-zA-Z]\", \" \")\n",
    "# 길이가 3이하인 단어는 제거 (길이가 짧은 단어 제거)\n",
    "news_df['clean_doc'] = news_df['clean_doc'].apply(lambda x: ' '.join([w for w in x.split() if len(w)>3]))\n",
    "# 전체 단어에 대한 소문자 변환\n",
    "news_df['clean_doc'] = news_df['clean_doc'].apply(lambda x: x.lower())"
   ]
  },
  {
   "cell_type": "code",
   "execution_count": 3,
   "id": "6497ffd9",
   "metadata": {},
   "outputs": [],
   "source": [
    "from nltk.corpus import stopwords\n",
    "stop_words = stopwords.words('english') # NLTK로부터 불용어를 받아옴.\n",
    "tokenized_doc = news_df['clean_doc'].apply(lambda x: x.split()) # 토큰화\n",
    "tokenized_doc = tokenized_doc.apply(lambda x: [item for item in x if item not in stop_words])"
   ]
  },
  {
   "cell_type": "code",
   "execution_count": 4,
   "id": "dba62c78",
   "metadata": {
    "scrolled": true
   },
   "outputs": [
    {
     "data": {
      "text/plain": [
       "0    [well, sure, story, seem, biased, disagree, st...\n",
       "1    [yeah, expect, people, read, actually, accept,...\n",
       "2    [although, realize, principle, strongest, poin...\n",
       "3    [notwithstanding, legitimate, fuss, proposal, ...\n",
       "4    [well, change, scoring, playoff, pool, unfortu...\n",
       "Name: clean_doc, dtype: object"
      ]
     },
     "execution_count": 4,
     "metadata": {},
     "output_type": "execute_result"
    }
   ],
   "source": [
    "tokenized_doc[:5]"
   ]
  },
  {
   "cell_type": "markdown",
   "id": "344b697e",
   "metadata": {},
   "source": [
    "- 각 단어를 (word_id, word_frequency)의 형태로 바꾸고자 함.  \n",
    "\\- word_id : 단어가 정수 인코딩된 값  \n",
    "\\- word_frequency : 해당 뉴스에서의 해당 단어의 빈도수"
   ]
  },
  {
   "cell_type": "code",
   "execution_count": 5,
   "id": "441dba53",
   "metadata": {},
   "outputs": [
    {
     "name": "stderr",
     "output_type": "stream",
     "text": [
      "C:\\Users\\colin\\anaconda3\\envs\\DH\\lib\\site-packages\\gensim\\similarities\\__init__.py:15: UserWarning: The gensim.similarities.levenshtein submodule is disabled, because the optional Levenshtein package <https://pypi.org/project/python-Levenshtein/> is unavailable. Install Levenhstein (e.g. `pip install python-Levenshtein`) to suppress this warning.\n",
      "  warnings.warn(msg)\n"
     ]
    },
    {
     "name": "stdout",
     "output_type": "stream",
     "text": [
      "[(52, 1), (55, 1), (56, 1), (57, 1), (58, 1), (59, 1), (60, 1), (61, 1), (62, 1), (63, 1), (64, 1), (65, 1), (66, 2), (67, 1), (68, 1), (69, 1), (70, 1), (71, 2), (72, 1), (73, 1), (74, 1), (75, 1), (76, 1), (77, 1), (78, 2), (79, 1), (80, 1), (81, 1), (82, 1), (83, 1), (84, 1), (85, 2), (86, 1), (87, 1), (88, 1), (89, 1)]\n"
     ]
    }
   ],
   "source": [
    "from gensim import corpora\n",
    "# 전체 뉴스에 대해서 정수 인코딩\n",
    "dictionary = corpora.Dictionary(tokenized_doc)\n",
    "corpus = [dictionary.doc2bow(text) for text in tokenized_doc]\n",
    "print(corpus[1]) # 수행된 결과에서 두번째 뉴스 출력. 첫번째 문서의 인덱스는 0"
   ]
  },
  {
   "cell_type": "markdown",
   "id": "baf630b7",
   "metadata": {},
   "source": [
    "> (66, 2)는 정수 인코딩이 66으로 할당된 단어가 두번째 뉴스에서는 두 번 등장하였음을 의미"
   ]
  },
  {
   "cell_type": "code",
   "execution_count": 6,
   "id": "7684d505",
   "metadata": {},
   "outputs": [
    {
     "name": "stdout",
     "output_type": "stream",
     "text": [
      "faith\n"
     ]
    }
   ],
   "source": [
    "print(dictionary[66])"
   ]
  },
  {
   "cell_type": "markdown",
   "id": "78f71fde",
   "metadata": {},
   "source": [
    "> 66이라는 값을 가지는 단어는 'faith'임."
   ]
  },
  {
   "cell_type": "code",
   "execution_count": 7,
   "id": "b5eef8c8",
   "metadata": {},
   "outputs": [
    {
     "data": {
      "text/plain": [
       "64281"
      ]
     },
     "execution_count": 7,
     "metadata": {},
     "output_type": "execute_result"
    }
   ],
   "source": [
    "len(dictionary)"
   ]
  },
  {
   "cell_type": "markdown",
   "id": "82b61c97",
   "metadata": {},
   "source": [
    "> 총 학습된 단어의 개수 : 64281개"
   ]
  },
  {
   "cell_type": "markdown",
   "id": "077ccd4c",
   "metadata": {},
   "source": [
    "### 2) LDA 모델 훈련시키기"
   ]
  },
  {
   "cell_type": "code",
   "execution_count": 8,
   "id": "1c9cd9c7",
   "metadata": {},
   "outputs": [
    {
     "name": "stdout",
     "output_type": "stream",
     "text": [
      "(0, '0.014*\"information\" + 0.013*\"available\" + 0.012*\"data\" + 0.010*\"university\"')\n",
      "(1, '0.019*\"file\" + 0.012*\"program\" + 0.009*\"files\" + 0.008*\"window\"')\n",
      "(2, '0.088*\"space\" + 0.025*\"nasa\" + 0.019*\"launch\" + 0.015*\"satellite\"')\n",
      "(3, '0.017*\"islam\" + 0.016*\"book\" + 0.015*\"remark\" + 0.013*\"theory\"')\n",
      "(4, '0.024*\"insurance\" + 0.015*\"symbol\" + 0.012*\"germany\" + 0.010*\"france\"')\n",
      "(5, '0.021*\"game\" + 0.020*\"team\" + 0.015*\"games\" + 0.015*\"play\"')\n",
      "(6, '0.026*\"wire\" + 0.026*\"ground\" + 0.015*\"wiring\" + 0.014*\"electrical\"')\n",
      "(7, '0.017*\"runs\" + 0.015*\"year\" + 0.011*\"lost\" + 0.010*\"ball\"')\n",
      "(8, '0.019*\"hockey\" + 0.010*\"city\" + 0.010*\"sports\" + 0.009*\"roger\"')\n",
      "(9, '0.015*\"would\" + 0.012*\"like\" + 0.010*\"think\" + 0.010*\"know\"')\n",
      "(10, '0.010*\"would\" + 0.009*\"drive\" + 0.009*\"thanks\" + 0.009*\"system\"')\n",
      "(11, '0.009*\"jesus\" + 0.009*\"would\" + 0.008*\"people\" + 0.007*\"believe\"')\n",
      "(12, '0.011*\"government\" + 0.008*\"people\" + 0.007*\"armenian\" + 0.006*\"armenians\"')\n",
      "(13, '0.044*\"image\" + 0.021*\"images\" + 0.018*\"graphics\" + 0.012*\"picture\"')\n",
      "(14, '0.007*\"would\" + 0.006*\"israel\" + 0.006*\"president\" + 0.005*\"people\"')\n",
      "(15, '0.021*\"bike\" + 0.011*\"engine\" + 0.010*\"cover\" + 0.009*\"miles\"')\n",
      "(16, '0.012*\"eisa\" + 0.012*\"circuits\" + 0.010*\"yankees\" + 0.010*\"accelerator\"')\n",
      "(17, '0.026*\"scsi\" + 0.012*\"bytes\" + 0.009*\"byte\" + 0.007*\"column\"')\n",
      "(18, '0.017*\"water\" + 0.012*\"henrik\" + 0.010*\"radar\" + 0.007*\"nuclear\"')\n",
      "(19, '0.014*\"dept\" + 0.009*\"food\" + 0.009*\"chinese\" + 0.007*\"part\"')\n"
     ]
    }
   ],
   "source": [
    "import gensim\n",
    "NUM_TOPICS = 20 #20개의 토픽, k=20\n",
    "ldamodel = gensim.models.ldamodel.LdaModel(corpus, num_topics = NUM_TOPICS, id2word=dictionary, passes=15)\n",
    "topics = ldamodel.print_topics(num_words=4)\n",
    "for topic in topics:\n",
    "    print(topic)"
   ]
  },
  {
   "cell_type": "markdown",
   "id": "b5c7b0ae",
   "metadata": {},
   "source": [
    "> 각 단어 앞에 붙은 수치는 단어의 해당 토픽에 대한 기여도를 보여줌.  \n",
    "> passes : 알고리즘의 동작 횟수. 토픽의 값이 적절히 수렴할 수 있도록 충분한 횟수를 정해줌.  \n",
    "> num_words=n : 총 n개의 단어만 출력. (default = 10)"
   ]
  },
  {
   "cell_type": "markdown",
   "id": "36887dc3",
   "metadata": {},
   "source": [
    "### 3) LDA 시각화 하기"
   ]
  },
  {
   "cell_type": "code",
   "execution_count": 9,
   "id": "ad3bbf72",
   "metadata": {},
   "outputs": [
    {
     "data": {
      "text/html": [
       "\n",
       "<link rel=\"stylesheet\" type=\"text/css\" href=\"https://cdn.jsdelivr.net/gh/bmabey/pyLDAvis@3.3.1/pyLDAvis/js/ldavis.v1.0.0.css\">\n",
       "\n",
       "\n",
       "<div id=\"ldavis_el283220741771256167350532966\"></div>\n",
       "<script type=\"text/javascript\">\n",
       "\n",
       "var ldavis_el283220741771256167350532966_data = {\"mdsDat\": {\"x\": [-0.30284178511999, -0.28075303497962023, -0.2549213691602778, -0.28093658927326093, -0.21703006286361665, -0.26203462644766956, -0.14876997537962763, -0.0016244247054395579, 0.08464603048791929, 0.1086936091127923, 0.11980670342823595, 0.11594971471961682, 0.14063977734575567, 0.1442076010393547, 0.19133064156861454, 0.1248015593538647, 0.14423200445353326, 0.16596850483758377, 0.20109193062565225, 0.20754379095657885], \"y\": [-0.11822818878831286, 0.06231882180718826, -0.04520503205799788, -0.06022342608522596, -0.028335067245655914, 0.1465642660661791, 0.20651627717503143, -0.26454426923434887, -0.019916187323365885, 0.009527698668137385, 0.016950350783354103, 0.13816610714038544, 0.03873909679742081, -0.08245368567263636, 0.009983375817667558, -0.1060727364700137, 0.04210787896444753, 0.02451987486264316, 0.017920985748148592, 0.011663859046954111], \"topics\": [1, 2, 3, 4, 5, 6, 7, 8, 9, 10, 11, 12, 13, 14, 15, 16, 17, 18, 19, 20], \"cluster\": [1, 1, 1, 1, 1, 1, 1, 1, 1, 1, 1, 1, 1, 1, 1, 1, 1, 1, 1, 1], \"Freq\": [23.7633275733625, 12.094131735182813, 11.328262879629342, 11.017080715579121, 10.444671309037405, 9.930926437926693, 5.841734873276878, 3.6158827214891933, 1.6736717098538385, 1.3213153100060038, 1.3151197455728483, 1.313792899337087, 1.0714608655707314, 1.040815772229873, 1.025682096871416, 0.980600693191231, 0.8912143782962525, 0.6705669825707765, 0.40413345858590605, 0.2556078424300808]}, \"tinfo\": {\"Term\": [\"space\", \"file\", \"year\", \"image\", \"game\", \"people\", \"available\", \"program\", \"scsi\", \"government\", \"information\", \"drive\", \"team\", \"jesus\", \"data\", \"last\", \"graphics\", \"would\", \"files\", \"book\", \"windows\", \"know\", \"first\", \"think\", \"like\", \"play\", \"system\", \"power\", \"games\", \"window\", \"yeah\", \"apartment\", \"stupid\", \"eyes\", \"afraid\", \"sumgait\", \"karina\", \"caught\", \"damn\", \"gone\", \"walk\", \"mamma\", \"burning\", \"funny\", \"thoughts\", \"neighbor\", \"accident\", \"shit\", \"awful\", \"homosexual\", \"pitcher\", \"married\", \"homosexuals\", \"crazy\", \"watched\", \"rational\", \"letting\", \"fallacy\", \"walked\", \"truck\", \"worse\", \"guys\", \"happened\", \"spoke\", \"hurt\", \"flame\", \"happen\", \"started\", \"went\", \"face\", \"pain\", \"maybe\", \"remember\", \"telling\", \"took\", \"really\", \"doctor\", \"told\", \"enough\", \"going\", \"back\", \"think\", \"little\", \"like\", \"around\", \"said\", \"good\", \"take\", \"something\", \"thought\", \"well\", \"time\", \"even\", \"know\", \"still\", \"would\", \"much\", \"never\", \"better\", \"could\", \"right\", \"people\", \"thing\", \"want\", \"come\", \"make\", \"sure\", \"things\", \"first\", \"also\", \"years\", \"disk\", \"drives\", \"controller\", \"floppy\", \"printer\", \"motherboard\", \"bios\", \"install\", \"simms\", \"upgrade\", \"cache\", \"adapter\", \"ports\", \"sony\", \"manuals\", \"battery\", \"stereo\", \"adaptec\", \"nubus\", \"connector\", \"macs\", \"tapes\", \"svga\", \"diamond\", \"borland\", \"slots\", \"specs\", \"vram\", \"sells\", \"wires\", \"card\", \"drive\", \"monitor\", \"modem\", \"disks\", \"shipping\", \"apple\", \"video\", \"port\", \"sale\", \"memory\", \"drivers\", \"tape\", \"thanks\", \"cards\", \"cable\", \"driver\", \"advance\", \"price\", \"serial\", \"offer\", \"windows\", \"please\", \"anyone\", \"system\", \"speed\", \"hard\", \"need\", \"looking\", \"used\", \"problem\", \"know\", \"would\", \"like\", \"using\", \"work\", \"also\", \"mail\", \"software\", \"good\", \"help\", \"could\", \"computer\", \"much\", \"israeli\", \"jobs\", \"arab\", \"health\", \"disease\", \"patients\", \"billion\", \"medicine\", \"palestinian\", \"arabs\", \"cancer\", \"diseases\", \"aids\", \"lebanon\", \"palestine\", \"income\", \"palestinians\", \"israelis\", \"investment\", \"rockefeller\", \"lebanese\", \"hicnet\", \"gaza\", \"terminals\", \"infection\", \"senator\", \"syria\", \"iran\", \"prevention\", \"republicans\", \"israel\", \"medical\", \"myers\", \"senior\", \"president\", \"funds\", \"treatment\", \"benefits\", \"study\", \"education\", \"studies\", \"russia\", \"meeting\", \"community\", \"economy\", \"bush\", \"american\", \"drugs\", \"groups\", \"states\", \"continue\", \"years\", \"care\", \"money\", \"among\", \"administration\", \"support\", \"jews\", \"would\", \"people\", \"work\", \"research\", \"year\", \"also\", \"many\", \"important\", \"said\", \"think\", \"going\", \"make\", \"time\", \"made\", \"jesus\", \"bible\", \"church\", \"christians\", \"faith\", \"christ\", \"christianity\", \"belief\", \"lord\", \"beliefs\", \"atheism\", \"atheists\", \"morality\", \"judas\", \"religions\", \"catholic\", \"scripture\", \"atheist\", \"biblical\", \"worship\", \"secular\", \"passages\", \"satan\", \"divine\", \"assumption\", \"resurrection\", \"revelation\", \"testament\", \"sabbath\", \"gospel\", \"christian\", \"religion\", \"matthew\", \"universe\", \"heaven\", \"eternal\", \"spirit\", \"holy\", \"religious\", \"truth\", \"moral\", \"argument\", \"existence\", \"evidence\", \"believe\", \"life\", \"exist\", \"true\", \"therefore\", \"word\", \"claim\", \"people\", \"must\", \"question\", \"would\", \"many\", \"cannot\", \"world\", \"human\", \"point\", \"think\", \"even\", \"also\", \"fact\", \"things\", \"read\", \"however\", \"know\", \"encryption\", \"turkish\", \"armenian\", \"court\", \"turkey\", \"secret\", \"crime\", \"armenia\", \"turks\", \"firearms\", \"genocide\", \"criminals\", \"escrow\", \"amendment\", \"constitution\", \"filename\", \"tobacco\", \"militia\", \"villages\", \"agents\", \"greece\", \"karabakh\", \"crimes\", \"wiretap\", \"argic\", \"crypt\", \"ottoman\", \"smokeless\", \"serdar\", \"weapons\", \"clipper\", \"encrypted\", \"secure\", \"enforcement\", \"guns\", \"armenians\", \"azerbaijan\", \"cryptography\", \"government\", \"criminal\", \"rights\", \"protect\", \"police\", \"citizens\", \"security\", \"federal\", \"keys\", \"legal\", \"public\", \"killed\", \"state\", \"military\", \"chip\", \"people\", \"laws\", \"control\", \"right\", \"states\", \"would\", \"first\", \"used\", \"server\", \"motif\", \"widget\", \"contrib\", \"entries\", \"printf\", \"char\", \"null\", \"ripem\", \"xterm\", \"client\", \"string\", \"uuencode\", \"xlib\", \"widgets\", \"servers\", \"clients\", \"judges\", \"toolkit\", \"compile\", \"guidelines\", \"openwindows\", \"sunos\", \"skepticism\", \"colormap\", \"xview\", \"prog\", \"echo\", \"pixmap\", \"tiff\", \"file\", \"files\", \"entry\", \"font\", \"window\", \"stream\", \"output\", \"export\", \"postscript\", \"comp\", \"code\", \"application\", \"directory\", \"program\", \"display\", \"section\", \"function\", \"version\", \"text\", \"user\", \"format\", \"info\", \"line\", \"build\", \"using\", \"source\", \"windows\", \"check\", \"available\", \"name\", \"subject\", \"read\", \"number\", \"also\", \"information\", \"proceedings\", \"visualization\", \"suite\", \"silicon\", \"pacific\", \"molecular\", \"ieee\", \"integration\", \"tasks\", \"prof\", \"siggraph\", \"ozone\", \"sensing\", \"consortium\", \"presentations\", \"databases\", \"programmers\", \"tutorial\", \"dial\", \"profile\", \"laboratories\", \"allocated\", \"intrinsics\", \"hangs\", \"bethesda\", \"seminar\", \"confidential\", \"australian\", \"advances\", \"centaur\", \"avenue\", \"laboratory\", \"award\", \"internet\", \"computing\", \"university\", \"addresses\", \"processing\", \"mailing\", \"engineering\", \"australia\", \"electronic\", \"institute\", \"database\", \"anonymous\", \"technical\", \"technology\", \"navy\", \"contact\", \"analysis\", \"available\", \"data\", \"systems\", \"information\", \"volume\", \"research\", \"users\", \"computer\", \"list\", \"june\", \"software\", \"mail\", \"address\", \"commercial\", \"includes\", \"package\", \"service\", \"conference\", \"center\", \"email\", \"system\", \"national\", \"based\", \"also\", \"send\", \"general\", \"program\", \"include\", \"number\", \"detroit\", \"montreal\", \"puck\", \"calgary\", \"scorer\", \"scoring\", \"playoffs\", \"quebec\", \"flyers\", \"hartford\", \"pens\", \"espn\", \"winnipeg\", \"sharks\", \"lemieux\", \"season\", \"traded\", \"lindros\", \"murray\", \"tampa\", \"edmonton\", \"defenseman\", \"finals\", \"gilmour\", \"gretzky\", \"jagr\", \"blues\", \"clemens\", \"recchi\", \"goalie\", \"rangers\", \"games\", \"team\", \"game\", \"toronto\", \"teams\", \"philadelphia\", \"pittsburgh\", \"islanders\", \"play\", \"player\", \"baseball\", \"boston\", \"players\", \"league\", \"kings\", \"jose\", \"period\", \"chicago\", \"played\", \"minnesota\", \"goal\", \"year\", \"hockey\", \"first\", \"power\", \"second\", \"third\", \"points\", \"last\", \"best\", \"bike\", \"motorcycle\", \"bikes\", \"rider\", \"rear\", \"honda\", \"tires\", \"gear\", \"motorcycles\", \"tire\", \"financial\", \"cooper\", \"powerbook\", \"cylinder\", \"ghost\", \"hulk\", \"erzurum\", \"torque\", \"twin\", \"wolverine\", \"comics\", \"ireland\", \"throttle\", \"nords\", \"xsun\", \"boots\", \"brakes\", \"burnt\", \"pipes\", \"evans\", \"ride\", \"riding\", \"engine\", \"miles\", \"lock\", \"cover\", \"cars\", \"road\", \"copies\", \"annual\", \"front\", \"appears\", \"edge\", \"colorado\", \"left\", \"excellent\", \"issue\", \"henrik\", \"radar\", \"candida\", \"detector\", \"temperature\", \"tower\", \"illness\", \"deck\", \"plants\", \"detectors\", \"yeast\", \"males\", \"isaiah\", \"mainstream\", \"measurements\", \"steam\", \"altitude\", \"particle\", \"volt\", \"quack\", \"fake\", \"sega\", \"planes\", \"albicans\", \"towers\", \"thumbs\", \"basketball\", \"therapies\", \"bloom\", \"armies\", \"water\", \"plane\", \"radius\", \"antenna\", \"cooling\", \"degrees\", \"nuclear\", \"heat\", \"river\", \"cycle\", \"aviation\", \"japanese\", \"constant\", \"mass\", \"weight\", \"plant\", \"flat\", \"power\", \"test\", \"cold\", \"april\", \"center\", \"launch\", \"shuttle\", \"lunar\", \"solar\", \"satellites\", \"launched\", \"compass\", \"mars\", \"orbital\", \"orbit\", \"payload\", \"ciphertext\", \"launches\", \"exploration\", \"pseudo\", \"titan\", \"orbiter\", \"ingr\", \"seagate\", \"expos\", \"moon\", \"catbyte\", \"dtmedin\", \"wales\", \"atlas\", \"abort\", \"huntsville\", \"orbiting\", \"ariane\", \"propulsion\", \"satellite\", \"space\", \"stanley\", \"flight\", \"planetary\", \"mission\", \"nasa\", \"spacecraft\", \"rocket\", \"missions\", \"earth\", \"station\", \"astronomy\", \"telescope\", \"star\", \"vehicle\", \"first\", \"cost\", \"sleeve\", \"listserv\", \"forsale\", \"ctrl\", \"astronomical\", \"magellan\", \"ncsa\", \"packard\", \"olwm\", \"hewlett\", \"accessories\", \"scanned\", \"rayshade\", \"viewers\", \"chars\", \"lens\", \"pluto\", \"lang\", \"obfuscation\", \"sentra\", \"collision\", \"informatik\", \"viewing\", \"pbmplus\", \"mapped\", \"tracer\", \"probe\", \"workspace\", \"darryl\", \"compliant\", \"sequences\", \"images\", \"image\", \"probes\", \"jupiter\", \"camera\", \"picture\", \"gamma\", \"imaging\", \"observatory\", \"venus\", \"handler\", \"graphics\", \"requests\", \"maps\", \"clip\", \"amiga\", \"digest\", \"mercury\", \"scope\", \"request\", \"formats\", \"scale\", \"objects\", \"send\", \"jpeg\", \"archive\", \"object\", \"shareware\", \"contact\", \"body\", \"format\", \"surface\", \"islam\", \"remark\", \"helmet\", \"mormon\", \"obfuscate\", \"mormons\", \"trinity\", \"traditions\", \"weiss\", \"countersteering\", \"blessed\", \"lucifer\", \"nerve\", \"auth\", \"muscles\", \"theist\", \"messenger\", \"logos\", \"physicist\", \"dawn\", \"rushdie\", \"quran\", \"calculation\", \"harddisk\", \"hebrews\", \"questioning\", \"serpent\", \"celebrate\", \"titled\", \"explanations\", \"stephen\", \"unto\", \"netcom\", \"leather\", \"riders\", \"harley\", \"theory\", \"romans\", \"islamic\", \"books\", \"book\", \"ancient\", \"compact\", \"muslims\", \"james\", \"michael\", \"john\", \"muslim\", \"robert\", \"principles\", \"smith\", \"criticism\", \"title\", \"guide\", \"sports\", \"weaver\", \"sweden\", \"bruins\", \"hawks\", \"maine\", \"arena\", \"dallas\", \"tyre\", \"indians\", \"wrist\", \"franchise\", \"championships\", \"roger\", \"caps\", \"gainey\", \"canadiens\", \"moncton\", \"providence\", \"springfield\", \"finnish\", \"orchid\", \"loser\", \"foreground\", \"wipe\", \"adirondack\", \"oklahoma\", \"washer\", \"capitals\", \"homer\", \"scores\", \"baltimore\", \"finland\", \"atlanta\", \"ticket\", \"hockey\", \"rochester\", \"robinson\", \"fans\", \"canada\", \"city\", \"north\", \"sport\", \"players\", \"canadian\", \"john\", \"team\", \"april\", \"stars\", \"european\", \"american\", \"dept\", \"chinese\", \"chipset\", \"suck\", \"perry\", \"tigers\", \"wright\", \"capitol\", \"bath\", \"absent\", \"strawberry\", \"prospects\", \"shearson\", \"newest\", \"drill\", \"tele\", \"metzger\", \"beleive\", \"bass\", \"pmetzger\", \"nail\", \"accusing\", \"ahmet\", \"prefix\", \"portal\", \"ceiling\", \"featured\", \"coleman\", \"lemon\", \"shells\", \"andy\", \"clinic\", \"quest\", \"summaries\", \"mask\", \"restaurants\", \"latin\", \"nope\", \"food\", \"plate\", \"mike\", \"restaurant\", \"beach\", \"part\", \"chris\", \"boys\", \"david\", \"pitching\", \"cubs\", \"braves\", \"hitter\", \"phillies\", \"mets\", \"dodgers\", \"patents\", \"reds\", \"innings\", \"inning\", \"pitched\", \"giants\", \"pitchers\", \"goaltender\", \"batting\", \"intentional\", \"twins\", \"boggs\", \"fielding\", \"streak\", \"starters\", \"pace\", \"cardinals\", \"homers\", \"bullpen\", \"nintendo\", \"midnight\", \"czech\", \"forty\", \"pitch\", \"ball\", \"offense\", \"runs\", \"stewart\", \"rotation\", \"houston\", \"morris\", \"lost\", \"davis\", \"year\", \"east\", \"average\", \"game\", \"home\", \"last\", \"base\", \"spring\", \"west\", \"staff\", \"york\", \"field\", \"league\", \"exhaust\", \"cmos\", \"aerospace\", \"recognition\", \"contracts\", \"init\", \"slip\", \"relay\", \"hong\", \"asynchronous\", \"outs\", \"rapid\", \"volvo\", \"allocation\", \"springer\", \"paranoia\", \"acceleration\", \"nearest\", \"fairing\", \"porsche\", \"fork\", \"excess\", \"pavement\", \"acids\", \"defects\", \"unsigned\", \"rocketry\", \"cmap\", \"incremental\", \"combustion\", \"multimedia\", \"burst\", \"column\", \"bytes\", \"linked\", \"byte\", \"scsi\", \"valve\", \"creative\", \"width\", \"shaft\", \"classified\", \"push\", \"cells\", \"rockets\", \"cross\", \"engines\", \"model\", \"speed\", \"fast\", \"wide\", \"bits\", \"chain\", \"height\", \"wire\", \"wiring\", \"electrical\", \"ncsl\", \"outlet\", \"grounded\", \"sheets\", \"packaging\", \"tubes\", \"microphone\", \"hemisphere\", \"salary\", \"pole\", \"transformer\", \"tiger\", \"padded\", \"erase\", \"breakers\", \"capacitor\", \"stacks\", \"stove\", \"investigated\", \"helper\", \"lawn\", \"anas\", \"anniversary\", \"fade\", \"drawings\", \"overlooked\", \"davidsson\", \"insane\", \"nist\", \"cleaning\", \"breaker\", \"neutral\", \"circuit\", \"ground\", \"panel\", \"voltage\", \"grass\", \"connected\", \"aluminum\", \"metal\", \"amplifier\", \"electric\", \"electronics\", \"house\", \"current\", \"radio\", \"equipment\", \"usually\", \"connection\", \"subject\", \"eisa\", \"circuits\", \"yankees\", \"accelerator\", \"switches\", \"astros\", \"intake\", \"keyboards\", \"retail\", \"jays\", \"vpic\", \"powerpc\", \"plugs\", \"upgrading\", \"toshiba\", \"orioles\", \"registers\", \"archer\", \"yogurt\", \"kirlian\", \"celp\", \"ether\", \"mixer\", \"multitasking\", \"shine\", \"rays\", \"lenses\", \"crohn\", \"electron\", \"tongues\", \"baud\", \"soda\", \"photography\", \"wrap\", \"inflammation\", \"injury\", \"carl\", \"pictures\", \"temporary\", \"symbol\", \"compress\", \"skipjack\", \"losses\", \"emulation\", \"dortmund\", \"loans\", \"theta\", \"decrypted\", \"zeos\", \"rocky\", \"rainer\", \"cranston\", \"whats\", \"induce\", \"filler\", \"syrians\", \"ranking\", \"chevrolet\", \"hospitalized\", \"concurrent\", \"scopes\", \"waveform\", \"massage\", \"rhode\", \"spoofing\", \"micronics\", \"unlocks\", \"assets\", \"rtsg\", \"loan\", \"insurance\", \"taurus\", \"france\", \"outline\", \"fatal\", \"italy\", \"germany\", \"truetype\", \"premium\", \"fluke\", \"differential\"], \"Freq\": [1201.0, 1870.0, 1558.0, 694.0, 850.0, 4411.0, 1511.0, 1634.0, 580.0, 1297.0, 1612.0, 1112.0, 787.0, 972.0, 1336.0, 1402.0, 639.0, 6519.0, 904.0, 661.0, 1315.0, 3715.0, 2309.0, 3234.0, 4231.0, 631.0, 2097.0, 1135.0, 594.0, 849.0, 198.08533582570305, 184.738609563687, 182.754804896725, 158.94065506318708, 136.93775172987216, 131.37089819366543, 130.82336979642412, 124.0766928917499, 114.07763205159883, 206.21782798831327, 97.50113684158634, 94.81964924310134, 93.28568071875938, 91.6881207518176, 91.19296216641403, 87.04615019220982, 85.39299724932677, 83.3681434739562, 79.16082451952173, 76.68316902636212, 73.76284364683724, 73.12058196529917, 72.36237223901246, 71.89739118801258, 71.30577545390443, 69.73191366893691, 66.91451158085708, 65.57057103688895, 64.79711072471079, 64.66458452033135, 203.03174348167076, 200.5010709019149, 353.0741407138822, 87.67502385399823, 134.70409900613143, 141.15903993037003, 307.09546700274, 474.9254633568622, 586.5322759293325, 347.34256235648314, 253.9393616399902, 672.819232273429, 573.783922157322, 136.32993431226822, 447.0195199035921, 1213.0473213365415, 201.82528938028236, 535.1349613919898, 743.7423164336404, 1121.9425272390165, 1184.6760797997367, 2209.915863797236, 821.0108067773265, 2703.3205723796823, 841.8237284913723, 1333.6254677392524, 1720.3735625859247, 996.1538454498054, 1143.5478717737267, 557.1839929591141, 1666.7909427863942, 1926.336179383746, 1541.4242313009654, 2166.621478138636, 1025.8413003934747, 3335.2670191726165, 1391.9628358177918, 868.3685984341076, 870.1035061418952, 1545.2063237632915, 1189.477431861357, 2155.4993427537415, 753.3941605997707, 1068.889140417533, 724.5332623130095, 1049.8091713773106, 784.4517773199716, 771.1983378813123, 888.5561734733143, 910.8440890553899, 768.786090162983, 719.0623476462087, 333.7504534129171, 313.6714150848458, 249.35301087938475, 236.80093618931537, 173.50347952373218, 172.69079560093803, 161.12649740398138, 148.0882456936709, 143.508678138, 121.41994767180346, 112.60632524923385, 112.52912558770075, 107.77539322913194, 107.18588443167552, 104.55444021674936, 94.39514493411457, 92.59444921487636, 87.81905550392058, 85.60037366986064, 85.21799903349758, 84.68424367966163, 84.11913247618794, 82.33598366251461, 83.99185354279555, 80.02841767578295, 79.85300912670516, 79.83901866291953, 76.35216616318208, 75.13129819005417, 793.776883298764, 1087.067829765153, 376.8265602956408, 290.0609981437972, 220.88918708861604, 299.3830707276563, 415.68310027372337, 456.47324201553147, 261.95752459757904, 335.0442721417096, 509.4346704277943, 339.00605416245054, 306.6428373485048, 1008.3092500472237, 249.73049120645618, 239.87768187435447, 356.73055323590444, 308.3577549190449, 480.0571436326154, 279.49821815450287, 317.8189388323861, 778.7976076853627, 827.6701364943478, 866.7836814938611, 998.4709354003319, 369.4676166821129, 504.4476919613068, 741.7390271849225, 435.74395973871134, 769.1696407707749, 665.8371643683822, 902.2410161016503, 1097.986334607799, 902.9345558633637, 573.8438344896254, 592.3309852746804, 764.6727924204949, 496.6570272413599, 459.2219614107923, 536.705600450054, 448.7033915559787, 507.4311768517115, 391.22196094563304, 399.5789940611382, 389.91465537549095, 259.3502248068049, 257.89201606306636, 471.3397862882295, 224.03870675417554, 182.85260317827277, 162.2492428461889, 142.20955899693277, 134.46226931642664, 121.98343974291973, 120.74026836328434, 116.31872786585782, 90.97489818715071, 88.37473323167035, 86.08993919781499, 82.28693653720669, 82.02673553320228, 80.13908808016845, 80.00396869626422, 78.62356836504935, 74.18949010869319, 69.49855467052832, 67.74877848520195, 66.84812532942445, 66.24058243338531, 66.07141399748079, 64.98627127698118, 63.734938704190185, 63.66460508817554, 63.62351574763515, 625.4178737816098, 329.91688822600725, 168.18926904791374, 116.86234141551137, 595.4886122373683, 123.70611900374874, 154.86221694688055, 78.46053971566238, 274.21734947181034, 195.30898947060177, 161.2240307393173, 159.56642691835717, 131.94397447839694, 184.53573591671196, 104.01934378630322, 101.26424840242207, 335.54387977359227, 150.02135736778305, 258.089799052751, 326.9961130644069, 176.08920326707104, 478.01342566915343, 235.56069940235685, 260.95868514675703, 239.0054533911885, 200.04919433411345, 297.3871027849197, 255.13194587780174, 708.4920694891365, 561.6288293894621, 373.14541855013806, 240.56091635336472, 343.86278043027187, 457.5850020236921, 385.3396517012109, 227.47597964928121, 297.18037774717874, 321.40473857584055, 256.5554443617612, 271.902215446733, 254.6037605096538, 231.65891859681116, 971.7899325804532, 559.0396970079713, 487.1752744234058, 447.8611134213, 403.16566035904276, 402.18649312363584, 254.94483558496495, 225.56947556558057, 211.54710798105708, 192.7290599634623, 183.96976220101573, 173.977325165608, 166.3496758488656, 148.16108898304083, 142.41563764396363, 142.31046002706088, 136.70397983522707, 124.71088986313855, 115.47044767922074, 99.74681652449532, 99.34657937546508, 96.27381168435252, 95.47477045735036, 93.15100286667003, 92.99179112178702, 91.0667479940198, 87.15864073333012, 84.66577688200567, 80.71198282603856, 80.28479291748877, 607.8230036367349, 433.3748962557695, 193.23384393316022, 164.85530119529398, 160.54695066133877, 144.4884708177945, 203.2989388960708, 189.5613727495609, 293.2964627747166, 396.05223858281835, 250.18674570811524, 341.67632927939235, 219.9358650114037, 400.4209495798103, 747.4753618200612, 467.1913557332959, 284.66668034022274, 528.5011732280708, 249.07950846428452, 382.3867179402821, 292.97045748165925, 890.6741911700916, 490.2169126265298, 426.22683580473426, 924.0471580247212, 554.953019294641, 322.1526836168789, 412.41261872931113, 302.74324269408845, 381.23898725270146, 486.02494706006144, 422.62990093922497, 447.3329103758459, 338.49941896714137, 343.6784642810137, 326.93037104666263, 321.42453653761555, 344.8976035520977, 557.9075626875051, 508.179562901527, 719.923934981658, 336.8758238645144, 320.0636651450062, 284.3795733023475, 329.01072820049546, 247.21008710081858, 237.88911499143842, 214.37845685605097, 213.24093726228836, 206.23799226954847, 205.31295055988824, 199.8568510661798, 180.2542392688978, 167.29791896493936, 164.15033629237004, 160.51794917880858, 135.17304650452013, 123.9737852276238, 117.91580827797512, 110.41604033893945, 108.52743964223522, 105.61739372762842, 105.09677762445618, 106.54956525589392, 101.92390383637834, 101.08446639831077, 100.71062701691434, 304.6355273048506, 412.19390383297525, 154.57583758753643, 241.95192716402394, 221.22006357566164, 374.31055325265754, 591.5449321071604, 184.0646396059421, 182.0418961331339, 1089.8646293784075, 178.48083042978976, 427.00460402674923, 237.42767406027326, 347.6563882856298, 230.11529029523257, 406.7045473352189, 271.9688350787621, 349.4479932578884, 261.722635466403, 534.314040731976, 301.6014062895971, 477.13819062745733, 296.4586936762119, 383.12999952236225, 771.2730743699842, 258.00052179199014, 315.97010417817523, 332.8274571224581, 265.4641413184555, 338.0412821285771, 277.67457112031366, 267.49651120758904, 633.678169008937, 452.8759744012653, 398.7149828508805, 250.88389965191936, 246.06063142888067, 243.59152935071592, 239.70735726043276, 224.36406158013796, 223.46488939885023, 202.9644261204369, 183.83047490653266, 175.08678726669842, 147.1191097447576, 141.95416934192852, 136.6080254292849, 124.45074057071302, 121.4365043167268, 112.20765675559905, 111.655511598256, 103.1282700714125, 101.2409138458024, 93.06585545057379, 87.79460206967963, 85.7320651538141, 85.012064953837, 83.47721756685733, 82.6228162990657, 121.6844722442752, 80.57933600383994, 78.63579255781512, 1846.1103673775729, 889.2939181012199, 689.408472164915, 179.51217400770045, 776.1634836863911, 246.4224201572259, 761.2791809569865, 291.825006527039, 176.30643306947508, 318.26652034226277, 564.2528464079304, 384.29824082301286, 313.5071569397704, 1132.922765747279, 472.61699932852815, 375.2044567846466, 257.1619851838917, 585.385777506001, 332.77492405295277, 348.26683045967354, 297.7799023722401, 477.9944994419927, 540.3943990035734, 334.4253422258807, 587.1218511035659, 397.74422137166215, 519.8296334316457, 358.27460358830706, 504.7117490879566, 440.5178332027869, 381.56141861896566, 390.7354480332357, 384.35150220074536, 429.5668346388954, 378.4441706207332, 88.3010117151965, 67.72161959479365, 66.07786375559324, 58.158281076287714, 58.02834868258641, 53.60208082531898, 53.065289749051544, 52.63826186481395, 49.63686968247999, 48.29807762807605, 47.03890374893874, 53.44996912918391, 43.657943492772674, 43.5855473919735, 43.24894806335421, 39.45380963008531, 39.22833412712979, 38.69333233280101, 36.5132465389943, 36.50740133483899, 36.219252253995954, 36.012978246690636, 35.65477439404619, 33.32984119393521, 33.13075678774093, 32.73109744829275, 31.603804364241853, 30.335537945307394, 29.397376183708534, 28.833801083067204, 72.71574254107836, 76.55722370129196, 77.70661165704995, 423.1028426366513, 85.86538658506211, 563.4263986476194, 107.78101835405442, 168.1636918716461, 164.29403682740391, 143.43786779557576, 87.19434570714256, 176.2572732893127, 146.88735657579156, 98.28053526423193, 316.7743445258493, 210.0368899536566, 336.33759336655015, 97.85881677376874, 334.4282639238888, 172.51148461579282, 749.0064348417479, 676.4173643693865, 397.88385219132596, 767.1825777683655, 195.9615344329248, 335.6929842523024, 255.12798982724945, 441.4630705261335, 442.1863690776544, 115.20775290299788, 425.30780951614577, 462.55438562645855, 294.64572650678, 157.80636679936774, 222.1289806938336, 249.7507657059543, 222.7920606532122, 156.65292616872873, 227.58494620977208, 267.3790181630807, 406.3901050223576, 238.86042296142432, 269.96870339073524, 415.1051225671318, 253.2430024125593, 237.74692455917994, 255.25538929915012, 207.49570693114856, 208.58129123621566, 182.59953583954314, 150.19658675011812, 136.71889391877627, 126.61753071276046, 120.81104261824957, 117.46052964782719, 109.71193926682074, 97.05503274788848, 96.91921189728521, 89.29866762216331, 86.343524942892, 84.37327438208386, 81.06675665788778, 77.54546462586211, 76.43505098252957, 443.1255229163665, 62.30563032605896, 62.26819979447881, 61.361754609025525, 61.018664853069346, 57.5841693635576, 56.580712730559235, 56.41673958560995, 55.87602096454672, 55.811314505915625, 55.79227562743173, 55.71146089471174, 55.20648037114046, 49.72056984518926, 49.637974237644876, 126.74426628773584, 532.9730778675912, 696.615840386696, 740.9609260051475, 189.53994673308205, 248.75005481131865, 151.43856804864936, 209.23061736264634, 89.98350444289879, 520.2306973971546, 246.33721464629525, 181.1882950520579, 175.1747591540346, 314.3400524771889, 302.99731901772833, 149.86585055699578, 126.76118258855092, 328.66877031265403, 172.79123307302825, 153.41287080318887, 116.39164295017427, 172.09086284298917, 392.45126445245904, 161.94347829388136, 269.45576781032355, 210.47665085490897, 200.2328819834764, 165.5030571246149, 151.68671667429425, 174.09156917731798, 142.10376090361834, 329.9089281672167, 106.25705283393967, 100.56417947667111, 99.79228513407874, 92.6955581548325, 90.57769407870248, 73.02538179756286, 67.15726398185005, 62.85498089446966, 58.5490693648089, 56.82118654349501, 54.933354543503384, 51.282412199504435, 48.10037252102936, 43.45968788140319, 39.5729228395343, 39.457657462354554, 37.93890688964405, 36.5490385867327, 35.74158923127184, 35.50552835872912, 34.4177027556745, 34.417330607748305, 33.72384783320478, 32.2960539351351, 32.0180259409556, 32.39963014595312, 31.22644497306761, 29.680909053369373, 28.60844571670799, 132.10922401083178, 104.71640507725198, 173.43071365341777, 137.8787970556887, 100.71936516189358, 153.46567705126694, 122.74301244736598, 124.61222216513092, 86.32793594962497, 60.156294385492515, 81.99780131144831, 74.10287657418637, 58.42151566310627, 55.43143732792004, 70.15419356035748, 54.766974648661034, 52.96795575125536, 145.482698264194, 126.87385268462936, 80.18275672630506, 72.4112648293376, 68.83397362743246, 58.55956425354132, 53.670138736667106, 46.62446211776725, 42.54217865764053, 41.842552711791846, 40.55179234700146, 39.08877704077107, 36.23094034688037, 33.16930340528595, 28.158946869400793, 26.393158908639307, 24.26024580980876, 23.76907243470269, 23.739983296459513, 23.673345048902437, 24.450363791398093, 23.476239034254686, 53.50240831526493, 22.070679256504608, 22.059965839415046, 21.788882453148865, 19.65117894527827, 18.471702676418186, 18.45589770528606, 18.148234749714085, 215.10362695020518, 84.75856249255749, 55.72676813385994, 44.69443995563282, 37.27585768361558, 54.80309618213831, 87.66996774089601, 55.437140091438735, 30.89338756225994, 40.44693806412491, 27.55239382633018, 45.64657231359237, 38.47734985565971, 54.90193050296454, 48.24783934133823, 35.19905891625413, 36.832833721912024, 70.44685925291573, 51.529141730768984, 39.518873802366556, 43.16241102882549, 38.797650618337336, 237.5851700082865, 175.18997474844102, 152.75503635716078, 117.80880589368482, 103.10102395776569, 83.68746390936315, 83.1219657894404, 79.35660639502404, 60.1359340053024, 166.53697390706566, 56.83403486109578, 51.924414947100495, 43.17407546386298, 43.10895007278202, 41.89844418435805, 41.26654571172212, 39.175933223728, 37.955008325451686, 37.571809249369714, 36.26038839322072, 147.5739431906671, 33.02730793491501, 33.02730793491501, 31.278581087360482, 29.67456530928749, 28.830303846616033, 26.44488864763295, 26.225226794675326, 25.433873315517303, 59.07714270266542, 193.37924411682712, 1099.3239470970423, 63.98981550644062, 140.3915579560333, 67.36931770522524, 139.7911562993164, 318.51299701004086, 85.75146888384437, 95.94620830631679, 64.8794463033414, 183.79190694315312, 124.14343521805426, 52.70411831813286, 52.77963932527474, 61.57959411588375, 63.60998806054661, 72.18135041832457, 59.879017539513235, 80.24677895967629, 60.51352885639641, 50.17015779107493, 42.79183271866115, 39.787752667524714, 38.47634327388092, 37.301290169411104, 35.591550510105066, 33.1427052525102, 32.5944932007724, 29.479834178962985, 28.899707212829963, 27.576230037825383, 25.526439521752717, 25.378219940371974, 25.11442893168655, 24.262002747424066, 23.83778853677337, 22.955090654531897, 22.779399415945424, 21.716042669311612, 21.447105837128966, 48.74093927452676, 21.110658371383526, 21.079257601146985, 20.757124376182922, 73.08056756545352, 19.673625447878173, 19.403282022443232, 18.750371523847335, 48.619738552939275, 266.448292658984, 551.7334718209706, 36.51258134490435, 35.65169369157589, 60.475575669410354, 156.6660234151678, 30.23943251175822, 47.73317874696046, 38.91543699176018, 40.11306569883378, 39.50878272106377, 227.50692059994685, 84.25923008456745, 38.50719192340161, 34.00149543137314, 72.60937781421406, 37.47501831211899, 40.91611505558457, 50.31625652780112, 107.28903231215726, 60.38780308195784, 59.90891285343272, 59.76255704462718, 112.02571391001914, 56.85490239343192, 56.18183510679694, 51.961138069999365, 43.93731377018609, 49.27062753018401, 42.96207578192981, 41.75795308357928, 40.41075516670841, 173.46347549872348, 151.20896793391262, 81.02198639450262, 56.796583016531144, 46.997514698041435, 44.24701363750931, 32.64184752001166, 32.11902622512677, 31.579060905060555, 30.441234634587463, 29.33934267926306, 28.49367480345173, 27.522600146443253, 26.323647659450252, 24.30061218660462, 23.82893469224329, 23.822633143243205, 22.990366482224115, 22.533009823794547, 22.487378985231743, 22.473251126792988, 21.853393124621356, 21.642659319818154, 20.935537371795824, 20.913871478938823, 20.700276365875094, 20.648863349836596, 20.170929572800706, 19.965176255023845, 27.283496267729653, 61.01730574070944, 37.57592465050499, 61.43448972645869, 28.3472310930785, 36.53243578485471, 30.61165043798105, 128.66563262302304, 40.64612985599717, 70.98740453164454, 126.83771169023787, 158.83072122999206, 39.74477725248112, 28.190566722890388, 52.820398512567095, 45.960482239873286, 46.68545817965616, 61.55804773562406, 44.73347892568672, 42.04605053367188, 34.67649261413419, 40.93627747283055, 32.046025936691386, 38.22649704576134, 35.08413731738956, 94.88070940480301, 67.53116040224042, 66.57479083185262, 62.20540634372003, 57.91809610335445, 55.18499402970439, 48.524760469593446, 46.33565254583114, 42.97906483057493, 35.0734267666826, 32.66618935739174, 31.38736176861568, 31.232199690408496, 90.35254559141666, 72.40979217707628, 28.984590953566595, 28.71218656225663, 28.02365990273811, 26.877504048728003, 25.696821189799213, 24.423110512872153, 23.96836724740621, 21.381797236456816, 21.341091057120753, 21.13206370379578, 20.924341614280323, 20.60335780342159, 20.5878936672954, 20.08316388937966, 20.038993206634302, 69.50818147133701, 61.551478432343764, 44.16817404682719, 57.22380221437971, 57.52168470724808, 193.3462101475589, 31.998648747916963, 26.760724595132142, 57.41653691306111, 82.11895073819386, 102.31340919601239, 67.7609979189965, 40.651603571599225, 63.01687774546658, 41.171894686137605, 62.67808310078158, 59.86008796496736, 55.87862602958423, 38.6689957882541, 40.227892721774715, 49.30002700070874, 138.96187568276721, 89.11549460180909, 64.88172089511734, 53.906950216719395, 52.31925488108351, 48.91191326977567, 45.71060532403514, 43.62774043559158, 39.67876336598272, 36.49404028648091, 35.58769513558306, 32.883616167047016, 32.54883768794261, 30.611101782323665, 30.193524407620167, 29.700110953135347, 28.49395876687682, 28.290604861737233, 27.853931628258053, 27.656336357229133, 27.39876690750391, 27.263376288106034, 26.804462183400236, 25.89881491053718, 25.116242762340278, 24.991229087577466, 24.922802830459727, 24.87882967232597, 24.085974086028084, 24.010409403260297, 59.82070938676635, 38.37432897047073, 39.65445622841778, 34.32875965116325, 64.42469744691758, 29.058856826337752, 40.838258072385415, 36.62010533959027, 90.25585467843416, 41.00930661032596, 64.53633512601344, 33.95515087329916, 36.72846344805202, 65.1441458426729, 36.80092417001798, 33.971509955467795, 40.65446983933905, 89.28780591564431, 81.69310023522553, 78.55803287205225, 50.56359834564614, 50.555831736695175, 48.76120868895377, 42.83896222519699, 42.61029860534695, 40.458681916301785, 36.923182847950194, 35.29518430594265, 33.946668124610575, 33.7326328538487, 30.265668331411423, 29.26207287904131, 29.02989880427519, 28.773443719605094, 27.74631295644982, 25.32170061690019, 24.896104837071924, 23.827323943601833, 23.60044607690475, 22.918770242372577, 22.366220277768882, 22.32134750623297, 22.16013258972072, 21.415534576326387, 21.41394724019042, 21.212597576075574, 21.062866862074483, 51.0118463715136, 96.67974248713436, 54.863831484006944, 158.5962305260097, 32.555008234319274, 32.199303213422596, 43.022796681646724, 49.060705003464435, 101.99676908010565, 32.589694145378225, 136.7702801618586, 57.665780660119324, 56.94100472476352, 73.37223188073874, 66.61961674207605, 76.14574419162415, 49.609836090236826, 38.561091338773615, 42.50191494511823, 35.165194994929216, 39.41442841870183, 37.875052510274315, 37.284184076915906, 49.206656454218106, 43.053074359102084, 41.67273841590801, 39.20972659710258, 35.683233189372324, 34.748804741700006, 33.604959214897356, 29.109526880179736, 28.951935960425015, 28.69953089233223, 28.459473501334596, 25.302429488442076, 23.394058441070914, 53.21484600268572, 22.676515921023807, 22.376638384227544, 21.57846440320716, 21.539770655340064, 21.37701554901658, 21.105990873479406, 20.872841523302455, 20.716506971270142, 18.48477976758365, 18.373284068003898, 17.740443323286257, 17.713774243147196, 17.273338090340843, 17.060619578047216, 16.813535247075354, 16.789521581365356, 24.352181508391237, 50.220941536713134, 60.13253350802774, 100.91733700860276, 58.53226583722526, 78.87527291582705, 223.18607670689698, 28.81961705575526, 35.30182055803588, 38.100191402706514, 27.759224863169905, 36.69177544275136, 43.82729808729436, 33.435393168728574, 32.445369458513426, 51.48124878440839, 30.087791464109763, 46.4276622082694, 48.93578832923309, 41.02612914921041, 37.24871096784894, 37.37294869338309, 31.424065362654407, 29.457610097126306, 164.6615801215517, 94.69340471885538, 91.18321290487161, 58.798298336868164, 45.81759648407214, 39.00387312532634, 35.51787780813866, 33.92168435718275, 24.505838600200523, 21.990952117545085, 21.719124724280388, 19.895533705764088, 18.570893297850386, 17.553871058965072, 16.630971820865387, 16.257596078402162, 15.705679473488056, 15.507702985221496, 14.692241679900851, 13.62681899225429, 13.400450238028219, 13.273964348226139, 13.210842922581254, 12.972390830295323, 11.83351459816308, 11.766784125162086, 11.589202742972995, 11.431141230010294, 11.265634239678157, 11.189359659209103, 19.697509504415354, 81.40541272447089, 28.354363879860387, 25.273124602866414, 83.38734258824002, 78.56031145527756, 163.68733862496813, 76.27109144991998, 54.96193989316196, 25.048968542826035, 67.16472169010318, 30.049058006891144, 43.44389450259516, 21.216163232707768, 27.05404223351583, 31.06297889543533, 40.242838730066346, 41.466363188588694, 29.66802729680707, 25.700788886637582, 27.767534718101313, 24.046169275529195, 25.067722766186957, 46.34826212803301, 45.491238398281595, 37.354280978097584, 36.86047088611832, 36.65458188997201, 27.07287356293496, 25.586632141373176, 25.44298251172078, 25.263093830756457, 24.132710044337397, 23.910735970367156, 23.6816449234156, 23.678798134223076, 21.605115292808154, 20.952699144623338, 19.52132491198745, 16.37020245260209, 15.952479271768514, 15.131662243451839, 14.496565860070286, 12.665933936221153, 12.525260495270036, 12.469206245572886, 12.059471687189296, 12.00916133790838, 11.830973721319516, 11.772611847049639, 11.60360979836671, 11.469383867660659, 11.325090834895306, 32.77872872637932, 23.728852380309586, 15.70647103626314, 18.660651037760015, 13.650315538030108, 18.307872032596332, 15.807557213613398, 15.387776221147597, 13.573339903869455, 35.632906262676734, 22.554883609987105, 16.77418029955919, 16.70883427925811, 15.905384118087204, 12.713642458390844, 10.892998687628436, 9.487314706418127, 9.143318555625685, 8.561144248524045, 8.383127580385306, 7.9232183178432125, 7.477513945844938, 7.250020290689392, 7.042148515305574, 6.1239293405190836, 5.843840704127416, 5.7639249095258975, 5.520918579521275, 5.355647835254647, 5.3173253787789125, 5.306186193816391, 4.9977304029441685, 4.989947352845859, 4.871589178914016, 4.640326763337711, 4.5367514967417115, 4.501567779434073, 4.481345148679878, 4.468531874768578, 13.641104218302113, 59.17447874551834, 10.226956246916687, 23.24907211517735, 11.71523865720084, 17.23004060278331, 15.300954743605725, 28.680322500751632, 8.51032764933536, 6.437655485090855, 6.343547303750262, 6.585998919508064], \"Total\": [1201.0, 1870.0, 1558.0, 694.0, 850.0, 4411.0, 1511.0, 1634.0, 580.0, 1297.0, 1612.0, 1112.0, 787.0, 972.0, 1336.0, 1402.0, 639.0, 6519.0, 904.0, 661.0, 1315.0, 3715.0, 2309.0, 3234.0, 4231.0, 631.0, 2097.0, 1135.0, 594.0, 849.0, 198.99611591605003, 185.6493895698523, 183.67452752104583, 159.9379664549577, 137.84853174785707, 132.28167819983074, 131.73414980258943, 124.98780188687948, 114.98858036687588, 207.96676354742263, 98.41191745511179, 95.73042924926662, 94.20417144248889, 92.5991788642351, 92.10374261580445, 87.9569301983751, 86.30377727206478, 84.27892357851549, 80.07160452568701, 77.59394910017329, 74.67362367415856, 74.03136323653848, 73.27315224517774, 72.80817134754889, 72.21996713965171, 70.64275120633118, 67.82529204613071, 66.48135105966882, 65.70789074331911, 65.57536530690288, 205.93731758657992, 203.55998802349933, 362.4765368555737, 89.01186693527934, 137.60422220288936, 144.52534538838597, 323.51426930182186, 507.6987350715297, 635.7256564926129, 376.6126019905762, 271.28395771541244, 762.4942080220513, 660.4060399657731, 142.89892828081736, 514.4305218438187, 1555.860619135321, 220.34908381872287, 645.7601403455731, 937.4513733268814, 1480.5839033028496, 1581.304197980005, 3234.08386914683, 1067.5147069101085, 4231.682335373584, 1126.2467911097015, 1936.9753546307302, 2631.6685524234795, 1431.7125860497292, 1702.9204877705506, 724.166579600717, 2670.3583143138044, 3187.567060032282, 2446.56812058239, 3715.529114615342, 1508.3989587351468, 6519.824878859322, 2222.4917708526823, 1246.299388307448, 1254.6189382269035, 2696.00648279539, 1961.7954123498191, 4411.786824200149, 1059.8859897476723, 1885.0485111025994, 1084.7723229847331, 2164.1455235706503, 1265.4920470220713, 1318.3431436818876, 2309.9871139881157, 3620.7413981986433, 1502.0158215571805, 719.9738732623204, 334.6619726367883, 314.58299972647393, 250.26453012228325, 237.71245541857758, 174.4149987476033, 173.60231482480916, 162.06336492081994, 148.99976491754202, 144.42019736187112, 122.33146690645673, 113.51784447310497, 113.44064501104154, 108.68691245839413, 108.09744588359489, 105.46595945218311, 95.3066641579857, 93.50596844261791, 88.7305747277917, 86.51189289373177, 86.1295182573687, 85.59576292664184, 85.03065170005907, 83.24750288638573, 84.94104067780623, 80.93993689965407, 80.76452835057628, 80.75053788679065, 77.2636863059791, 76.0428174254196, 805.9148443350314, 1112.2053902885095, 381.75873100218934, 296.8578300126835, 225.55782066524847, 308.4476655348642, 441.97990846078403, 491.62543054592743, 279.88016941058027, 364.5263870745773, 581.153895010762, 377.42156836949266, 345.2212262051161, 1317.28910431415, 281.0444425640742, 270.93848774641526, 430.40358166757716, 367.43256365943927, 634.5559527592014, 333.68460909921197, 397.6124180216566, 1315.8154706062676, 1573.154492273779, 1693.4780327006115, 2097.674941631349, 524.4450671271308, 853.872268657453, 1752.0231162557357, 728.545214777568, 2039.2146221063842, 1685.7120764187641, 3715.529114615342, 6519.824878859322, 4231.682335373584, 1560.7100389781695, 1769.5775607766227, 3620.7413981986433, 1255.465409157719, 1103.2548443571156, 2631.6685524234795, 1257.7143782025066, 2696.00648279539, 833.5498280008748, 2222.4917708526823, 390.8252261180431, 260.2607949491211, 258.80258619893254, 473.0480858911591, 224.9492856968032, 183.76317331987724, 163.1598129820551, 143.12012919563165, 135.37283945229282, 122.89400988445585, 121.65083893491587, 117.22929808312757, 91.88547025802991, 89.28530339588632, 87.00098888206726, 83.1975083887844, 82.93730566906845, 81.04965821603462, 80.91453883213039, 79.53413850945462, 75.10006024455936, 70.40912480639449, 68.65934862106812, 67.75869554945228, 67.15190466824828, 66.98198413334696, 65.89690692925963, 64.64553641875207, 64.5751969139503, 64.5340858835013, 636.5452940272804, 343.9219554334779, 173.5619494428776, 120.47795323088721, 667.7994779124707, 129.50152966810646, 165.39398317055856, 80.7718930941999, 350.1071810962524, 242.59586381285237, 197.5282526428639, 201.45953128760988, 157.4838608747821, 247.25103555492908, 115.55119823382422, 111.36296127416367, 611.4204105828843, 194.85586633324908, 428.8090640585383, 639.1172751163729, 261.317514155173, 1502.0158215571805, 442.47083553398835, 599.044536402699, 509.5931820574805, 354.28842637688496, 872.4295517400536, 635.347368504872, 6519.824878859322, 4411.786824200149, 1769.5775607766227, 577.1089148833515, 1558.7735273648366, 3620.7413981986433, 2281.858165438791, 557.1169308486376, 1936.9753546307302, 3234.08386914683, 1480.5839033028496, 2164.1455235706503, 3187.567060032282, 1262.0669345281426, 972.7013283778858, 559.9519332244334, 488.08663473088546, 448.77247372877963, 404.0770206711756, 403.0978535381391, 255.8561958924446, 226.4808364977447, 212.45846961544882, 193.6404212365624, 184.88112250849537, 174.88868547308763, 167.2610361821454, 149.07244929052047, 143.32699795144327, 143.22182033454052, 137.6153401427067, 125.62225017061816, 116.38180828915833, 100.65817683197493, 100.25852989684896, 97.18517200441937, 96.3861326633354, 94.06236317414964, 93.90315189493313, 91.97810830149942, 88.07000104080973, 85.57713718948528, 81.62334313351818, 81.19615322496838, 617.0256155311183, 438.8257393739194, 198.1579075780432, 168.5248240115454, 165.8990620533214, 148.70728472083889, 214.34423288831385, 200.9057796529095, 321.6571135500333, 446.31742444105095, 273.12518350143006, 412.2495541788341, 247.8159786949416, 560.4468876295276, 1426.5205459759088, 843.9857353075487, 405.8681392321109, 1037.2277890457124, 332.36691824428596, 657.8685438177974, 434.2306526892335, 4411.786824200149, 1428.6418763312413, 1144.8599764525525, 6519.824878859322, 2281.858165438791, 647.6190384733828, 1196.3758267607047, 604.0239573767498, 1371.755715580636, 3234.08386914683, 2446.56812058239, 3620.7413981986433, 1068.996217431123, 1318.3431436818876, 1204.2493980131653, 1182.8749902709958, 3715.529114615342, 558.8170399260259, 509.08903994209885, 721.6651012621428, 337.81735742810395, 320.973142225746, 285.2890503673528, 330.17726362938663, 248.11964299058596, 238.79859203201028, 215.28793389662283, 214.1504143028602, 207.1475205296024, 206.2224276004601, 200.76632810675164, 181.1637163515035, 168.20739611726944, 165.05981335662796, 161.42742621938044, 136.0825235910085, 124.88326227106477, 118.82528531854695, 111.33687294028263, 109.43691668280705, 106.52687076820025, 106.00625466502801, 107.48916099284575, 102.83338087695017, 101.99394346871826, 101.62010405748617, 307.453220790077, 417.4026295925547, 156.27105379650322, 246.40595088721838, 225.60343902291376, 390.7324945496501, 635.03788231968, 189.98339333986118, 188.32300041045255, 1297.711974143638, 186.07012386303504, 490.4644563465768, 260.2946249246465, 413.17905545300925, 252.62214727491573, 526.5862939650126, 321.2643423537953, 457.0578862503743, 320.66791684533035, 932.3588781040463, 410.48404868112806, 977.2407686569082, 413.97872649839707, 701.3420928347437, 4411.786824200149, 343.1055615209206, 784.7726931983149, 1961.7954123498191, 639.1172751163729, 6519.824878859322, 2309.9871139881157, 2039.2146221063842, 634.5928338882924, 453.7905733900735, 399.62958183968874, 251.79849872187987, 246.97523172559372, 244.50612857561944, 240.62195624924098, 225.27866056894618, 224.37948839332842, 203.87902511823344, 184.7450738986236, 176.00138664083534, 148.03370873356582, 142.86876833073674, 137.5226244244356, 125.36533959666704, 122.35110330553498, 113.12225584077622, 112.57011066951605, 104.04286906022068, 102.15551326842032, 93.98045443938197, 88.7092010584878, 86.64666414262228, 85.92666987464497, 84.39181655566551, 83.53741528787388, 123.04468998747176, 81.49393499264812, 79.5503915466233, 1870.4528465198525, 904.8602708412609, 705.3544624356867, 183.96686748535768, 849.2709542921725, 257.709357423628, 859.5630412777501, 316.7855760992197, 187.30652229416725, 360.87169883508744, 706.1853445804409, 460.23652200947936, 366.66501900065805, 1634.5293915547488, 596.0293780386592, 482.76201892810343, 308.8412643036109, 963.5165931027727, 463.0791876498276, 502.8015187291026, 401.83559756168336, 853.1668956218114, 1049.4182769612355, 507.29233134943456, 1560.7100389781695, 744.2465969748087, 1315.8154706062676, 639.085753002079, 1511.5672283952244, 1162.898469934542, 824.75686102769, 1204.2493980131653, 1441.0738026976474, 3620.7413981986433, 1612.5068404657468, 89.2098455906828, 68.63045347027996, 66.98671355056253, 59.06711497855232, 58.93718257410879, 54.51091514263328, 53.97412380730187, 53.5472052227596, 50.54825358361727, 49.20691155842935, 47.94774127418093, 54.54487762436268, 44.566777368259004, 44.4943812728509, 44.157781950180464, 40.36264359899831, 40.13717735402627, 39.60216620828734, 37.422080417763325, 37.41623525212415, 37.128086129482284, 36.921812146261836, 36.56360828031467, 34.23867796837589, 34.03959066322726, 33.63993132377908, 32.51263841791245, 31.244371827243757, 30.306210856689393, 29.743137266106928, 75.05539422661225, 80.16991562667873, 82.09671093801039, 473.2625274763123, 91.78807970032649, 656.0077891840737, 117.08051156136584, 188.51572878623588, 189.9779986113671, 165.0004198614754, 98.23347728493869, 218.19776903515117, 179.6481061063042, 114.2803939347151, 440.58955327889703, 282.9574783492026, 506.83088804580694, 117.5204462158122, 531.3019823096599, 239.57488386041902, 1511.5672283952244, 1336.155403505987, 691.6767668783488, 1612.5068404657468, 286.63815173653205, 577.1089148833515, 404.291500409556, 833.5498280008748, 1026.8142727014426, 150.32371684814407, 1103.2548443571156, 1255.465409157719, 652.5176760401553, 254.83391104568167, 450.72169821556224, 559.1581929735277, 465.742505235959, 256.9807005565937, 515.3441718671893, 807.4645826432655, 2097.674941631349, 647.7750880371331, 1003.1097757863637, 3620.7413981986433, 890.9207674794685, 742.8082785768415, 1634.5293915547488, 633.684491953541, 1441.0738026976474, 183.5134300643704, 151.11048082721788, 137.63279398001495, 127.53142474416917, 121.72493664965829, 118.3744236792359, 110.64267787215402, 97.96892678512154, 97.83310592869393, 90.21256165357202, 87.25742219714084, 85.28716854005573, 81.9806506892965, 78.45935865727083, 77.34894501393829, 448.9991776157751, 63.219524377163836, 63.182093825887534, 62.27564869451519, 61.93255888447807, 58.49806339496632, 57.49460676196796, 57.330633622730055, 56.7899156739723, 56.7252085554048, 56.70616965884045, 56.62535570357979, 56.12037440680779, 50.634463876597984, 50.551868291654166, 133.09801594566204, 594.3607477456893, 787.9496482495687, 850.5858851096133, 204.2335590466537, 274.33741859385594, 162.4674329167037, 229.67458132768314, 94.57415881653601, 631.1012708931127, 283.19054772530933, 203.66974928482728, 197.90400889977352, 380.48985483700574, 370.0121498680522, 168.19829425270828, 142.017889591597, 525.4102117047952, 231.42143609834528, 201.88654165681797, 135.1953290689868, 265.49949364997195, 1558.7735273648366, 356.157362167749, 2309.9871139881157, 1135.4151539807942, 1025.6194029826293, 474.0624875303825, 358.9287016404575, 1402.3076922611608, 1023.8294820923077, 330.82421475793683, 107.1723448566447, 101.4794660265143, 100.70757168392193, 93.62449726184038, 91.4930649050862, 73.94374660522695, 68.07255377829135, 63.770267444312864, 59.46435628170128, 57.73647311150025, 55.848641093346586, 52.19769875263032, 49.0156590737417, 44.37497443589959, 40.4882093893775, 40.37294402353768, 38.87963869463465, 37.464873462811866, 36.65687578111504, 36.420814908572325, 35.33298931725122, 35.33261715759151, 34.639134420817996, 33.21134055608414, 32.93331250338789, 33.33269047478663, 32.14173154070078, 30.596195614384957, 29.523732302971585, 140.2309205560396, 113.7471437470711, 247.57654731427758, 208.00144660120483, 148.87757053710092, 293.36736773672396, 281.84281494225127, 298.689214154177, 183.778620092589, 112.9867451115422, 316.1551258380137, 242.99150016303048, 141.20838612564526, 170.96181875642515, 753.2656068447425, 270.28156832130117, 572.347694716748, 146.3991971465375, 127.79035155041664, 81.09925552359906, 73.3277636266316, 69.75051085670553, 59.476063088386276, 54.58663755212316, 47.54103140905002, 43.45867745493454, 42.75905150908586, 41.46829114429547, 40.00527586000902, 37.14743915480827, 34.08580224321701, 29.09485029143199, 27.309657705933315, 25.18114741597147, 24.685571243607942, 24.656482099577875, 24.589843846196445, 25.403505739098726, 24.392737831548693, 55.636178018663735, 22.987178053798615, 22.976464636709053, 22.70538126545909, 20.567677755276808, 19.388201473712193, 19.372396511687654, 19.064733558348017, 268.7141335476047, 101.0309507151312, 64.12957302509025, 51.024455743623825, 42.3072141811069, 75.16821831117808, 167.45295000751224, 107.30613059586429, 41.11386572287368, 71.00097401144126, 33.99657230933351, 112.54245716242697, 75.11618946764372, 186.29051124495626, 144.65081279959196, 63.34944607083996, 80.67461635648789, 1135.4151539807942, 364.19662041414097, 134.44102964684643, 577.5922931396144, 515.3441718671893, 238.50040671407186, 176.10522541579374, 153.67031183251692, 118.72409398878496, 104.0162606019964, 84.60270277868213, 84.03720244198121, 80.41556212346717, 61.051195655991954, 169.14245607139333, 57.74927161031172, 52.83965159034419, 44.0893120935736, 44.02419034450865, 42.81368090186351, 42.18253595801351, 40.09120597180131, 38.870244951291895, 38.48704588564571, 37.175625040021174, 151.34905378231878, 33.942544560755216, 33.942544560755216, 32.19381774946988, 30.589801935127692, 29.74554048113, 27.36012527347315, 27.152347521091293, 26.349109941357504, 61.2743673605898, 202.09332240186802, 1201.541713931647, 67.49966825118582, 155.46922886452285, 73.4404504197015, 172.80487982426285, 442.8002060465389, 100.05632722282962, 122.10225319772596, 76.41435101840204, 372.8794612603398, 236.59068402747462, 70.9088991152646, 73.97696183799165, 131.2183514542816, 152.32460331058394, 2309.9871139881157, 483.05958715115, 81.16014067602198, 61.42689057739532, 51.08351951070333, 43.70519444039793, 40.701114383870426, 39.389704993095776, 38.214651885756815, 36.50491224146699, 34.05606698598051, 33.507854925791875, 30.393195920110998, 29.81306894477961, 28.48959175417109, 26.43980417084168, 26.291581706261493, 26.02779067383243, 25.17536446764019, 24.751150319942308, 23.868452417417615, 23.692761135925387, 22.629404396439465, 22.360467561085883, 50.82503682236683, 22.024020093120306, 21.992619326166455, 21.67048609252863, 76.45990373317674, 20.58698716422388, 20.316643887574116, 19.663733267753436, 52.95945649630322, 312.2361211459081, 694.6441105384429, 39.76065573879494, 39.079811664971594, 69.86989059628515, 255.18087473154623, 34.696953239483136, 62.846708659282, 48.51803949874572, 50.58168041346104, 50.2703557859172, 639.4438113667675, 155.81475990116897, 49.06337731146518, 41.29452601846866, 137.58252730577001, 48.16171902616604, 56.33764627662561, 82.49821347173145, 402.760411568313, 137.78111597391595, 139.26449967952956, 139.70065501713384, 890.9207674794685, 274.4879725677744, 276.9861728470256, 218.44235917202676, 106.32640671252948, 531.3019823096599, 388.07222584524993, 401.83559756168336, 166.03254472642254, 174.38247649347375, 152.12808484535827, 82.09089871354936, 57.715583055252445, 47.91651474754488, 45.16601367623061, 33.56084755873296, 33.03802626384807, 32.49806094378186, 31.360234676943023, 30.258342723654323, 29.412674847842993, 28.44160021339876, 27.242647716277226, 25.219612234645105, 24.74793473096459, 24.741633181964506, 23.909366520945415, 23.452010010759256, 23.406379036073048, 23.39225116551429, 22.772393163342656, 22.565177289534105, 21.854537417082508, 21.832871517660124, 21.61927643143167, 21.567863451763472, 21.08992962286193, 20.88417632637047, 28.540680984433877, 66.56147220988969, 41.10381514900466, 72.12943460362915, 31.882120880558627, 44.273025049911915, 35.695532607642996, 261.54102234952654, 54.03941358400434, 122.82674030647438, 328.1854851556923, 661.4750978230614, 72.8846292128196, 37.75905030971675, 196.64503414035119, 169.39634312108717, 180.2865014776314, 551.3337393437519, 214.0262211627571, 169.22715616087325, 76.84532376069878, 206.22003877078504, 58.392024705942404, 310.2199270735883, 204.8032269899841, 95.79888111508964, 68.44933204193245, 67.49296247154466, 63.123577983412076, 58.8362677430465, 56.10316566939644, 49.44293210928549, 47.253836024635575, 43.897236470266975, 35.99159843324969, 33.58436102505344, 32.305533408307724, 32.15037133010055, 93.10985693299281, 74.66425444945172, 29.902762593258636, 29.63035820194867, 28.94183154243015, 27.795675688420044, 26.61499286746642, 25.341282152564194, 24.886538964239367, 22.299968880407462, 22.2592627230766, 22.05023535560783, 21.842513253972363, 21.52152950548477, 21.50606531144183, 21.0013355290717, 20.957164854843555, 73.63155756601238, 66.74941966132936, 48.28554853221414, 65.79024029118145, 70.52844151736517, 356.157362167749, 38.59447195277297, 31.018867191716122, 130.28281834053726, 261.16683379982277, 420.11958398085346, 200.08086302865297, 80.511353213769, 380.48985483700574, 100.18325852486085, 551.3337393437519, 787.9496482495687, 577.5922931396144, 99.6138888128569, 141.5915844210362, 611.4204105828843, 139.85540630300625, 90.00905540358475, 65.77524764004076, 54.800476952690175, 53.21278176923458, 49.80544002703949, 46.604132065675884, 44.52126719016806, 40.57229011266215, 37.38756702812165, 36.481221888255476, 33.777142931598114, 33.44236442391339, 31.504628560767586, 31.087051170950872, 30.593637695448574, 29.387485502847593, 29.184131597708006, 28.747458371770126, 28.549863093199907, 28.292293683171078, 28.156903035727467, 27.697988925040974, 26.792341687134037, 26.00976951680916, 25.884755850710995, 25.81632958871523, 25.77235641970846, 24.97950084482907, 24.903936168511322, 68.30333863228182, 45.29759325230248, 47.89722694557026, 41.203139860565685, 104.36619372695014, 32.51412037361374, 55.920742276602965, 50.05325020143753, 338.5430405657061, 76.30020942655528, 265.6728444017514, 54.815708019121786, 72.42171168872834, 1215.3802041646331, 137.3361540788253, 84.10533834932902, 493.3672906574943, 90.21126166003218, 82.61655726247743, 79.48148861644012, 51.48705409003402, 51.479287481083055, 49.68466443334165, 43.76241796958487, 43.53375439676368, 41.382137660689665, 37.846638592338074, 36.21864005033053, 34.870123868998455, 34.65608859823658, 31.189124075799295, 30.18552863580092, 29.953354591847017, 29.696899504478562, 28.669768700837693, 26.245278464424427, 25.819560593507862, 24.750779687989706, 24.523901821292622, 23.842225993102904, 23.289676022156755, 23.244803250620844, 23.083588334108594, 22.338990336491236, 22.337482137358705, 22.13605333624392, 21.98632262323556, 55.930645553081305, 133.96077094147583, 68.46565483806089, 372.23741983917256, 40.188064930807066, 40.24451154034855, 64.66484051515022, 83.69109806435203, 336.0150007336292, 44.061759954034414, 1558.7735273648366, 213.60057773632136, 267.03293020553224, 850.5858851096133, 621.1769168547205, 1402.3076922611608, 264.39372854726946, 95.51259070715915, 204.13918087425878, 84.31983169470436, 314.357578607812, 298.0170091238327, 370.0121498680522, 50.127810272857104, 43.97422823718676, 42.59389224660083, 40.130880433423954, 36.60438700801132, 35.66995856573008, 34.526113043513064, 30.030680724094744, 29.873089779064006, 29.620684710971222, 29.380627332749405, 26.22358331881459, 24.315212259709906, 55.37773529781303, 23.598512818176864, 23.29779222503081, 22.49961822471529, 22.46092449141819, 22.2982938569677, 22.027144692118398, 21.793995348391487, 21.637660816531017, 19.405933590481247, 19.29443788664289, 18.661597159364383, 18.644692049432514, 18.194491908979835, 17.981773396686208, 17.734689186715784, 17.710675400004348, 25.956795461820917, 59.148583455179754, 77.41187699186459, 153.18094225592534, 80.00411791504989, 124.4875183871811, 580.0326664591156, 36.50700066590245, 53.18743040011008, 61.94743716611048, 35.742009656035194, 62.24365718815778, 114.33268180247809, 62.146707203831106, 58.87885925167403, 209.58486003965183, 53.19433718132796, 373.3053258403015, 524.4450671271308, 417.43574939169065, 229.7187198894652, 278.49615931163714, 104.18464592059453, 80.27178420870116, 165.58704185772092, 95.61886645830725, 92.10889378051381, 59.72376008437728, 46.74305822024133, 39.92933486149553, 36.44333957147972, 34.84714609663463, 25.43130033923885, 22.916413961550983, 22.644586490320275, 20.82099547787211, 19.496355036888712, 18.47933279513426, 17.556433565551785, 17.183057835393818, 16.63114121958581, 16.433164721390682, 15.617703416070038, 14.552280744638539, 14.325921893544013, 14.199426106838493, 14.136304794982586, 13.897870223156064, 12.758976334332266, 12.692245901745254, 12.514664486646854, 12.356603107302293, 12.191096036383385, 12.114821413347505, 21.527562590352986, 104.76178900909552, 33.556582196277596, 29.752109272142064, 115.06173562343045, 119.94276128013219, 298.51292893247006, 137.05704684044701, 89.78318595409371, 33.18694761060625, 126.05887699864248, 43.17787978261008, 74.08637929520252, 29.970271178007245, 48.459149288580505, 103.40960133292074, 441.0931715643439, 707.0630942493086, 290.8999251939389, 192.77194842199725, 430.9742104700181, 175.14866558444376, 824.75686102769, 47.28126459665702, 46.42424087892482, 38.28728345523881, 37.79348540249346, 37.58758440476771, 28.005876044334784, 26.519634613867595, 26.375984989018548, 26.1960963257366, 25.065712665715754, 24.843738457828675, 24.614647395322297, 24.611800609041946, 22.538117781839446, 21.885701613247342, 20.45432738487006, 17.30320726095141, 16.885481744026777, 16.064664717814125, 15.42956832869429, 13.598936404845157, 13.45826296389404, 13.40220871419689, 12.992474180091003, 12.94216384944313, 12.763976196393564, 12.705614315673643, 12.536612266990714, 12.402386356907481, 12.25809330351931, 41.11944437071702, 28.983691632959175, 20.896356419243606, 30.39490093113161, 20.99732005930497, 75.49320370221483, 45.86853523332932, 115.80542798541053, 43.83799757099498, 36.57116373793197, 23.493141111669782, 17.712437769423357, 17.647091823899036, 16.84364162040672, 13.651899939988532, 11.831256163642227, 10.425572189933575, 10.08157605450458, 9.499401718388208, 9.32138508030877, 8.861475809485173, 8.415771415709102, 8.188277760553555, 7.980405995543551, 7.0621868566443675, 6.782098179661542, 6.7021823850600235, 6.459176049385439, 6.29390544042076, 6.255582876170914, 6.244443666963246, 5.935987884665777, 5.9282048377761605, 5.809846689953753, 5.578584297437349, 5.475008969888567, 5.439825254968199, 5.419602642417457, 5.4067894314404, 17.174617171063677, 119.81018617586024, 15.663316234349356, 56.26867868356365, 23.147138058578513, 46.405969401208395, 40.245971205753335, 171.26334536666243, 28.201505912406077, 21.823606350122223, 23.37392603135001, 46.211393483992524], \"Category\": [\"Default\", \"Default\", \"Default\", \"Default\", \"Default\", \"Default\", \"Default\", \"Default\", \"Default\", \"Default\", \"Default\", \"Default\", \"Default\", \"Default\", \"Default\", \"Default\", \"Default\", \"Default\", \"Default\", \"Default\", \"Default\", \"Default\", \"Default\", \"Default\", \"Default\", \"Default\", \"Default\", \"Default\", \"Default\", \"Default\", \"Topic1\", \"Topic1\", \"Topic1\", \"Topic1\", \"Topic1\", \"Topic1\", \"Topic1\", \"Topic1\", \"Topic1\", \"Topic1\", \"Topic1\", \"Topic1\", \"Topic1\", \"Topic1\", \"Topic1\", \"Topic1\", \"Topic1\", \"Topic1\", \"Topic1\", \"Topic1\", \"Topic1\", \"Topic1\", \"Topic1\", \"Topic1\", \"Topic1\", \"Topic1\", \"Topic1\", \"Topic1\", \"Topic1\", \"Topic1\", \"Topic1\", \"Topic1\", \"Topic1\", \"Topic1\", \"Topic1\", \"Topic1\", \"Topic1\", \"Topic1\", \"Topic1\", \"Topic1\", \"Topic1\", \"Topic1\", \"Topic1\", \"Topic1\", \"Topic1\", \"Topic1\", \"Topic1\", \"Topic1\", \"Topic1\", \"Topic1\", \"Topic1\", \"Topic1\", \"Topic1\", \"Topic1\", \"Topic1\", \"Topic1\", \"Topic1\", \"Topic1\", \"Topic1\", \"Topic1\", \"Topic1\", \"Topic1\", \"Topic1\", \"Topic1\", \"Topic1\", \"Topic1\", \"Topic1\", \"Topic1\", \"Topic1\", \"Topic1\", \"Topic1\", \"Topic1\", \"Topic1\", \"Topic1\", \"Topic1\", \"Topic1\", \"Topic1\", \"Topic1\", \"Topic1\", \"Topic1\", \"Topic1\", \"Topic2\", \"Topic2\", \"Topic2\", \"Topic2\", \"Topic2\", \"Topic2\", \"Topic2\", \"Topic2\", \"Topic2\", \"Topic2\", \"Topic2\", \"Topic2\", \"Topic2\", \"Topic2\", \"Topic2\", \"Topic2\", \"Topic2\", \"Topic2\", \"Topic2\", \"Topic2\", \"Topic2\", \"Topic2\", \"Topic2\", \"Topic2\", \"Topic2\", \"Topic2\", \"Topic2\", \"Topic2\", \"Topic2\", \"Topic2\", \"Topic2\", \"Topic2\", \"Topic2\", \"Topic2\", \"Topic2\", \"Topic2\", \"Topic2\", \"Topic2\", \"Topic2\", \"Topic2\", \"Topic2\", \"Topic2\", \"Topic2\", \"Topic2\", \"Topic2\", \"Topic2\", \"Topic2\", \"Topic2\", \"Topic2\", \"Topic2\", \"Topic2\", \"Topic2\", \"Topic2\", \"Topic2\", \"Topic2\", \"Topic2\", \"Topic2\", \"Topic2\", \"Topic2\", \"Topic2\", \"Topic2\", \"Topic2\", \"Topic2\", \"Topic2\", \"Topic2\", \"Topic2\", \"Topic2\", \"Topic2\", \"Topic2\", \"Topic2\", \"Topic2\", \"Topic2\", \"Topic2\", \"Topic2\", \"Topic3\", \"Topic3\", \"Topic3\", \"Topic3\", \"Topic3\", \"Topic3\", \"Topic3\", \"Topic3\", \"Topic3\", \"Topic3\", \"Topic3\", \"Topic3\", \"Topic3\", \"Topic3\", \"Topic3\", \"Topic3\", \"Topic3\", \"Topic3\", \"Topic3\", \"Topic3\", \"Topic3\", \"Topic3\", \"Topic3\", \"Topic3\", \"Topic3\", \"Topic3\", \"Topic3\", \"Topic3\", \"Topic3\", \"Topic3\", \"Topic3\", \"Topic3\", \"Topic3\", \"Topic3\", \"Topic3\", \"Topic3\", \"Topic3\", \"Topic3\", \"Topic3\", \"Topic3\", \"Topic3\", \"Topic3\", \"Topic3\", \"Topic3\", \"Topic3\", \"Topic3\", \"Topic3\", \"Topic3\", \"Topic3\", \"Topic3\", \"Topic3\", \"Topic3\", \"Topic3\", \"Topic3\", \"Topic3\", \"Topic3\", \"Topic3\", \"Topic3\", \"Topic3\", \"Topic3\", \"Topic3\", \"Topic3\", \"Topic3\", \"Topic3\", \"Topic3\", \"Topic3\", \"Topic3\", \"Topic3\", \"Topic3\", \"Topic3\", \"Topic3\", \"Topic3\", \"Topic4\", \"Topic4\", \"Topic4\", \"Topic4\", \"Topic4\", \"Topic4\", \"Topic4\", \"Topic4\", \"Topic4\", \"Topic4\", \"Topic4\", \"Topic4\", \"Topic4\", \"Topic4\", \"Topic4\", \"Topic4\", \"Topic4\", \"Topic4\", \"Topic4\", \"Topic4\", \"Topic4\", \"Topic4\", \"Topic4\", \"Topic4\", \"Topic4\", \"Topic4\", \"Topic4\", \"Topic4\", \"Topic4\", \"Topic4\", \"Topic4\", \"Topic4\", \"Topic4\", \"Topic4\", \"Topic4\", \"Topic4\", \"Topic4\", \"Topic4\", \"Topic4\", \"Topic4\", \"Topic4\", \"Topic4\", \"Topic4\", \"Topic4\", \"Topic4\", \"Topic4\", \"Topic4\", \"Topic4\", \"Topic4\", \"Topic4\", \"Topic4\", \"Topic4\", \"Topic4\", \"Topic4\", \"Topic4\", \"Topic4\", \"Topic4\", \"Topic4\", \"Topic4\", \"Topic4\", \"Topic4\", \"Topic4\", \"Topic4\", \"Topic4\", \"Topic4\", \"Topic4\", \"Topic4\", \"Topic4\", \"Topic5\", \"Topic5\", \"Topic5\", \"Topic5\", \"Topic5\", \"Topic5\", \"Topic5\", \"Topic5\", \"Topic5\", \"Topic5\", \"Topic5\", \"Topic5\", \"Topic5\", \"Topic5\", \"Topic5\", \"Topic5\", \"Topic5\", \"Topic5\", \"Topic5\", \"Topic5\", \"Topic5\", \"Topic5\", \"Topic5\", \"Topic5\", \"Topic5\", \"Topic5\", \"Topic5\", \"Topic5\", \"Topic5\", \"Topic5\", \"Topic5\", \"Topic5\", \"Topic5\", \"Topic5\", \"Topic5\", \"Topic5\", \"Topic5\", \"Topic5\", \"Topic5\", \"Topic5\", \"Topic5\", \"Topic5\", \"Topic5\", \"Topic5\", \"Topic5\", \"Topic5\", \"Topic5\", \"Topic5\", \"Topic5\", \"Topic5\", \"Topic5\", \"Topic5\", \"Topic5\", \"Topic5\", \"Topic5\", \"Topic5\", \"Topic5\", \"Topic5\", \"Topic5\", \"Topic5\", \"Topic5\", \"Topic6\", \"Topic6\", \"Topic6\", \"Topic6\", \"Topic6\", \"Topic6\", \"Topic6\", \"Topic6\", \"Topic6\", \"Topic6\", \"Topic6\", \"Topic6\", \"Topic6\", \"Topic6\", \"Topic6\", \"Topic6\", \"Topic6\", \"Topic6\", \"Topic6\", \"Topic6\", \"Topic6\", \"Topic6\", \"Topic6\", \"Topic6\", \"Topic6\", \"Topic6\", \"Topic6\", \"Topic6\", \"Topic6\", \"Topic6\", \"Topic6\", \"Topic6\", \"Topic6\", \"Topic6\", \"Topic6\", \"Topic6\", \"Topic6\", \"Topic6\", \"Topic6\", \"Topic6\", \"Topic6\", \"Topic6\", \"Topic6\", \"Topic6\", \"Topic6\", \"Topic6\", \"Topic6\", \"Topic6\", \"Topic6\", \"Topic6\", \"Topic6\", \"Topic6\", \"Topic6\", \"Topic6\", \"Topic6\", \"Topic6\", \"Topic6\", \"Topic6\", \"Topic6\", \"Topic6\", \"Topic6\", \"Topic6\", \"Topic6\", \"Topic6\", \"Topic6\", \"Topic7\", \"Topic7\", \"Topic7\", \"Topic7\", \"Topic7\", \"Topic7\", \"Topic7\", \"Topic7\", \"Topic7\", \"Topic7\", \"Topic7\", \"Topic7\", \"Topic7\", \"Topic7\", \"Topic7\", \"Topic7\", \"Topic7\", \"Topic7\", \"Topic7\", \"Topic7\", \"Topic7\", \"Topic7\", \"Topic7\", \"Topic7\", \"Topic7\", \"Topic7\", \"Topic7\", \"Topic7\", \"Topic7\", \"Topic7\", \"Topic7\", \"Topic7\", \"Topic7\", \"Topic7\", \"Topic7\", \"Topic7\", \"Topic7\", \"Topic7\", \"Topic7\", \"Topic7\", \"Topic7\", \"Topic7\", \"Topic7\", \"Topic7\", \"Topic7\", \"Topic7\", \"Topic7\", \"Topic7\", \"Topic7\", \"Topic7\", \"Topic7\", \"Topic7\", \"Topic7\", \"Topic7\", \"Topic7\", \"Topic7\", \"Topic7\", \"Topic7\", \"Topic7\", \"Topic7\", \"Topic7\", \"Topic7\", \"Topic7\", \"Topic7\", \"Topic7\", \"Topic7\", \"Topic7\", \"Topic7\", \"Topic7\", \"Topic7\", \"Topic7\", \"Topic7\", \"Topic7\", \"Topic7\", \"Topic7\", \"Topic7\", \"Topic7\", \"Topic7\", \"Topic7\", \"Topic8\", \"Topic8\", \"Topic8\", \"Topic8\", \"Topic8\", \"Topic8\", \"Topic8\", \"Topic8\", \"Topic8\", \"Topic8\", \"Topic8\", \"Topic8\", \"Topic8\", \"Topic8\", \"Topic8\", \"Topic8\", \"Topic8\", \"Topic8\", \"Topic8\", \"Topic8\", \"Topic8\", \"Topic8\", \"Topic8\", \"Topic8\", \"Topic8\", \"Topic8\", \"Topic8\", \"Topic8\", \"Topic8\", \"Topic8\", \"Topic8\", \"Topic8\", \"Topic8\", \"Topic8\", \"Topic8\", \"Topic8\", \"Topic8\", \"Topic8\", \"Topic8\", \"Topic8\", \"Topic8\", \"Topic8\", \"Topic8\", \"Topic8\", \"Topic8\", \"Topic8\", \"Topic8\", \"Topic8\", \"Topic8\", \"Topic8\", \"Topic8\", \"Topic8\", \"Topic8\", \"Topic8\", \"Topic8\", \"Topic8\", \"Topic8\", \"Topic8\", \"Topic8\", \"Topic8\", \"Topic8\", \"Topic9\", \"Topic9\", \"Topic9\", \"Topic9\", \"Topic9\", \"Topic9\", \"Topic9\", \"Topic9\", \"Topic9\", \"Topic9\", \"Topic9\", \"Topic9\", \"Topic9\", \"Topic9\", \"Topic9\", \"Topic9\", \"Topic9\", \"Topic9\", \"Topic9\", \"Topic9\", \"Topic9\", \"Topic9\", \"Topic9\", \"Topic9\", \"Topic9\", \"Topic9\", \"Topic9\", \"Topic9\", \"Topic9\", \"Topic9\", \"Topic9\", \"Topic9\", \"Topic9\", \"Topic9\", \"Topic9\", \"Topic9\", \"Topic9\", \"Topic9\", \"Topic9\", \"Topic9\", \"Topic9\", \"Topic9\", \"Topic9\", \"Topic9\", \"Topic9\", \"Topic9\", \"Topic9\", \"Topic10\", \"Topic10\", \"Topic10\", \"Topic10\", \"Topic10\", \"Topic10\", \"Topic10\", \"Topic10\", \"Topic10\", \"Topic10\", \"Topic10\", \"Topic10\", \"Topic10\", \"Topic10\", \"Topic10\", \"Topic10\", \"Topic10\", \"Topic10\", \"Topic10\", \"Topic10\", \"Topic10\", \"Topic10\", \"Topic10\", \"Topic10\", \"Topic10\", \"Topic10\", \"Topic10\", \"Topic10\", \"Topic10\", \"Topic10\", \"Topic10\", \"Topic10\", \"Topic10\", \"Topic10\", \"Topic10\", \"Topic10\", \"Topic10\", \"Topic10\", \"Topic10\", \"Topic10\", \"Topic10\", \"Topic10\", \"Topic10\", \"Topic10\", \"Topic10\", \"Topic10\", \"Topic10\", \"Topic10\", \"Topic10\", \"Topic10\", \"Topic10\", \"Topic10\", \"Topic11\", \"Topic11\", \"Topic11\", \"Topic11\", \"Topic11\", \"Topic11\", \"Topic11\", \"Topic11\", \"Topic11\", \"Topic11\", \"Topic11\", \"Topic11\", \"Topic11\", \"Topic11\", \"Topic11\", \"Topic11\", \"Topic11\", \"Topic11\", \"Topic11\", \"Topic11\", \"Topic11\", \"Topic11\", \"Topic11\", \"Topic11\", \"Topic11\", \"Topic11\", \"Topic11\", \"Topic11\", \"Topic11\", \"Topic11\", \"Topic11\", \"Topic11\", \"Topic11\", \"Topic11\", \"Topic11\", \"Topic11\", \"Topic11\", \"Topic11\", \"Topic11\", \"Topic11\", \"Topic11\", \"Topic11\", \"Topic11\", \"Topic11\", \"Topic11\", \"Topic11\", \"Topic11\", \"Topic11\", \"Topic12\", \"Topic12\", \"Topic12\", \"Topic12\", \"Topic12\", \"Topic12\", \"Topic12\", \"Topic12\", \"Topic12\", \"Topic12\", \"Topic12\", \"Topic12\", \"Topic12\", \"Topic12\", \"Topic12\", \"Topic12\", \"Topic12\", \"Topic12\", \"Topic12\", \"Topic12\", \"Topic12\", \"Topic12\", \"Topic12\", \"Topic12\", \"Topic12\", \"Topic12\", \"Topic12\", \"Topic12\", \"Topic12\", \"Topic12\", \"Topic12\", \"Topic12\", \"Topic12\", \"Topic12\", \"Topic12\", \"Topic12\", \"Topic12\", \"Topic12\", \"Topic12\", \"Topic12\", \"Topic12\", \"Topic12\", \"Topic12\", \"Topic12\", \"Topic12\", \"Topic12\", \"Topic12\", \"Topic12\", \"Topic12\", \"Topic12\", \"Topic12\", \"Topic12\", \"Topic12\", \"Topic12\", \"Topic12\", \"Topic12\", \"Topic12\", \"Topic12\", \"Topic12\", \"Topic12\", \"Topic12\", \"Topic12\", \"Topic12\", \"Topic13\", \"Topic13\", \"Topic13\", \"Topic13\", \"Topic13\", \"Topic13\", \"Topic13\", \"Topic13\", \"Topic13\", \"Topic13\", \"Topic13\", \"Topic13\", \"Topic13\", \"Topic13\", \"Topic13\", \"Topic13\", \"Topic13\", \"Topic13\", \"Topic13\", \"Topic13\", \"Topic13\", \"Topic13\", \"Topic13\", \"Topic13\", \"Topic13\", \"Topic13\", \"Topic13\", \"Topic13\", \"Topic13\", \"Topic13\", \"Topic13\", \"Topic13\", \"Topic13\", \"Topic13\", \"Topic13\", \"Topic13\", \"Topic13\", \"Topic13\", \"Topic13\", \"Topic13\", \"Topic13\", \"Topic13\", \"Topic13\", \"Topic13\", \"Topic13\", \"Topic13\", \"Topic13\", \"Topic13\", \"Topic13\", \"Topic13\", \"Topic13\", \"Topic13\", \"Topic13\", \"Topic13\", \"Topic14\", \"Topic14\", \"Topic14\", \"Topic14\", \"Topic14\", \"Topic14\", \"Topic14\", \"Topic14\", \"Topic14\", \"Topic14\", \"Topic14\", \"Topic14\", \"Topic14\", \"Topic14\", \"Topic14\", \"Topic14\", \"Topic14\", \"Topic14\", \"Topic14\", \"Topic14\", \"Topic14\", \"Topic14\", \"Topic14\", \"Topic14\", \"Topic14\", \"Topic14\", \"Topic14\", \"Topic14\", \"Topic14\", \"Topic14\", \"Topic14\", \"Topic14\", \"Topic14\", \"Topic14\", \"Topic14\", \"Topic14\", \"Topic14\", \"Topic14\", \"Topic14\", \"Topic14\", \"Topic14\", \"Topic14\", \"Topic14\", \"Topic14\", \"Topic14\", \"Topic14\", \"Topic14\", \"Topic14\", \"Topic14\", \"Topic14\", \"Topic14\", \"Topic15\", \"Topic15\", \"Topic15\", \"Topic15\", \"Topic15\", \"Topic15\", \"Topic15\", \"Topic15\", \"Topic15\", \"Topic15\", \"Topic15\", \"Topic15\", \"Topic15\", \"Topic15\", \"Topic15\", \"Topic15\", \"Topic15\", \"Topic15\", \"Topic15\", \"Topic15\", \"Topic15\", \"Topic15\", \"Topic15\", \"Topic15\", \"Topic15\", \"Topic15\", \"Topic15\", \"Topic15\", \"Topic15\", \"Topic15\", \"Topic15\", \"Topic15\", \"Topic15\", \"Topic15\", \"Topic15\", \"Topic15\", \"Topic15\", \"Topic15\", \"Topic15\", \"Topic15\", \"Topic15\", \"Topic15\", \"Topic15\", \"Topic15\", \"Topic15\", \"Topic15\", \"Topic15\", \"Topic16\", \"Topic16\", \"Topic16\", \"Topic16\", \"Topic16\", \"Topic16\", \"Topic16\", \"Topic16\", \"Topic16\", \"Topic16\", \"Topic16\", \"Topic16\", \"Topic16\", \"Topic16\", \"Topic16\", \"Topic16\", \"Topic16\", \"Topic16\", \"Topic16\", \"Topic16\", \"Topic16\", \"Topic16\", \"Topic16\", \"Topic16\", \"Topic16\", \"Topic16\", \"Topic16\", \"Topic16\", \"Topic16\", \"Topic16\", \"Topic16\", \"Topic16\", \"Topic16\", \"Topic16\", \"Topic16\", \"Topic16\", \"Topic16\", \"Topic16\", \"Topic16\", \"Topic16\", \"Topic16\", \"Topic16\", \"Topic16\", \"Topic16\", \"Topic16\", \"Topic16\", \"Topic16\", \"Topic16\", \"Topic16\", \"Topic16\", \"Topic16\", \"Topic16\", \"Topic16\", \"Topic17\", \"Topic17\", \"Topic17\", \"Topic17\", \"Topic17\", \"Topic17\", \"Topic17\", \"Topic17\", \"Topic17\", \"Topic17\", \"Topic17\", \"Topic17\", \"Topic17\", \"Topic17\", \"Topic17\", \"Topic17\", \"Topic17\", \"Topic17\", \"Topic17\", \"Topic17\", \"Topic17\", \"Topic17\", \"Topic17\", \"Topic17\", \"Topic17\", \"Topic17\", \"Topic17\", \"Topic17\", \"Topic17\", \"Topic17\", \"Topic17\", \"Topic17\", \"Topic17\", \"Topic17\", \"Topic17\", \"Topic17\", \"Topic17\", \"Topic17\", \"Topic17\", \"Topic17\", \"Topic17\", \"Topic17\", \"Topic17\", \"Topic17\", \"Topic17\", \"Topic17\", \"Topic17\", \"Topic17\", \"Topic17\", \"Topic17\", \"Topic17\", \"Topic17\", \"Topic17\", \"Topic17\", \"Topic18\", \"Topic18\", \"Topic18\", \"Topic18\", \"Topic18\", \"Topic18\", \"Topic18\", \"Topic18\", \"Topic18\", \"Topic18\", \"Topic18\", \"Topic18\", \"Topic18\", \"Topic18\", \"Topic18\", \"Topic18\", \"Topic18\", \"Topic18\", \"Topic18\", \"Topic18\", \"Topic18\", \"Topic18\", \"Topic18\", \"Topic18\", \"Topic18\", \"Topic18\", \"Topic18\", \"Topic18\", \"Topic18\", \"Topic18\", \"Topic18\", \"Topic18\", \"Topic18\", \"Topic18\", \"Topic18\", \"Topic18\", \"Topic18\", \"Topic18\", \"Topic18\", \"Topic18\", \"Topic18\", \"Topic18\", \"Topic18\", \"Topic18\", \"Topic18\", \"Topic18\", \"Topic18\", \"Topic18\", \"Topic18\", \"Topic18\", \"Topic18\", \"Topic18\", \"Topic18\", \"Topic19\", \"Topic19\", \"Topic19\", \"Topic19\", \"Topic19\", \"Topic19\", \"Topic19\", \"Topic19\", \"Topic19\", \"Topic19\", \"Topic19\", \"Topic19\", \"Topic19\", \"Topic19\", \"Topic19\", \"Topic19\", \"Topic19\", \"Topic19\", \"Topic19\", \"Topic19\", \"Topic19\", \"Topic19\", \"Topic19\", \"Topic19\", \"Topic19\", \"Topic19\", \"Topic19\", \"Topic19\", \"Topic19\", \"Topic19\", \"Topic19\", \"Topic19\", \"Topic19\", \"Topic19\", \"Topic19\", \"Topic19\", \"Topic19\", \"Topic19\", \"Topic19\", \"Topic20\", \"Topic20\", \"Topic20\", \"Topic20\", \"Topic20\", \"Topic20\", \"Topic20\", \"Topic20\", \"Topic20\", \"Topic20\", \"Topic20\", \"Topic20\", \"Topic20\", \"Topic20\", \"Topic20\", \"Topic20\", \"Topic20\", \"Topic20\", \"Topic20\", \"Topic20\", \"Topic20\", \"Topic20\", \"Topic20\", \"Topic20\", \"Topic20\", \"Topic20\", \"Topic20\", \"Topic20\", \"Topic20\", \"Topic20\", \"Topic20\", \"Topic20\", \"Topic20\", \"Topic20\", \"Topic20\", \"Topic20\", \"Topic20\", \"Topic20\", \"Topic20\", \"Topic20\", \"Topic20\", \"Topic20\"], \"logprob\": [30.0, 29.0, 28.0, 27.0, 26.0, 25.0, 24.0, 23.0, 22.0, 21.0, 20.0, 19.0, 18.0, 17.0, 16.0, 15.0, 14.0, 13.0, 12.0, 11.0, 10.0, 9.0, 8.0, 7.0, 6.0, 5.0, 4.0, 3.0, 2.0, 1.0, -7.0437, -7.1135, -7.1243, -7.2639, -7.4129, -7.4544, -7.4586, -7.5115, -7.5956, -7.0035, -7.7526, -7.7805, -7.7968, -7.8141, -7.8195, -7.866, -7.8852, -7.9092, -7.961, -7.9928, -8.0316, -8.0403, -8.0508, -8.0572, -8.0655, -8.0878, -8.129, -8.1493, -8.1612, -8.1632, -7.0191, -7.0316, -6.4658, -7.8588, -7.4294, -7.3826, -6.6053, -6.1693, -5.9582, -6.4821, -6.7953, -5.821, -5.9802, -7.4174, -6.2298, -5.2316, -7.025, -6.0499, -5.7207, -5.3096, -5.2552, -4.6317, -5.6219, -4.4302, -5.5969, -5.1368, -4.8821, -5.4285, -5.2906, -6.0095, -4.9138, -4.7691, -4.992, -4.6515, -5.3992, -4.2201, -5.094, -5.5658, -5.5638, -4.9895, -5.2512, -4.6567, -5.7079, -5.3581, -5.7469, -5.3761, -5.6675, -5.6845, -5.5428, -5.5181, -5.6876, -5.0791, -5.8466, -5.9087, -6.1382, -6.1898, -6.5008, -6.5055, -6.5748, -6.6592, -6.6906, -6.8578, -6.9331, -6.9338, -6.977, -6.9825, -7.0073, -7.1095, -7.1288, -7.1817, -7.2073, -7.2118, -7.2181, -7.2248, -7.2462, -7.2263, -7.2746, -7.2768, -7.277, -7.3217, -7.3378, -4.9802, -4.6658, -5.7252, -5.9869, -6.2594, -5.9553, -5.6271, -5.5335, -6.0888, -5.8428, -5.4237, -5.831, -5.9313, -4.741, -6.1366, -6.1769, -5.78, -5.9258, -5.4831, -6.024, -5.8955, -4.9993, -4.9384, -4.8922, -4.7508, -5.745, -5.4336, -5.048, -5.58, -5.0117, -5.156, -4.8521, -4.6558, -4.8514, -5.3047, -5.273, -5.0176, -5.4491, -5.5275, -5.3716, -5.5507, -5.4277, -5.6877, -5.6666, -5.6257, -6.0334, -6.0391, -5.436, -6.1798, -6.3829, -6.5025, -6.6343, -6.6903, -6.7877, -6.798, -6.8353, -7.081, -7.11, -7.1362, -7.1814, -7.1846, -7.2078, -7.2095, -7.2269, -7.285, -7.3503, -7.3758, -7.3892, -7.3983, -7.4009, -7.4174, -7.4369, -7.438, -7.4386, -5.1532, -5.7928, -6.4665, -6.8306, -5.2022, -6.7737, -6.5491, -7.229, -5.9777, -6.317, -6.5088, -6.5191, -6.7092, -6.3738, -6.947, -6.9739, -5.7758, -6.5808, -6.0383, -5.8017, -6.4206, -5.422, -6.1296, -6.0272, -6.1151, -6.293, -5.8966, -6.0498, -5.0285, -5.2608, -5.6696, -6.1086, -5.7514, -5.4656, -5.6375, -6.1646, -5.8973, -5.8189, -6.0443, -5.9862, -6.0519, -6.1463, -4.6846, -5.2375, -5.3751, -5.4593, -5.5644, -5.5668, -6.0227, -6.1451, -6.2093, -6.3025, -6.349, -6.4048, -6.4497, -6.5654, -6.605, -6.6057, -6.6459, -6.7377, -6.8147, -6.9611, -6.9651, -6.9966, -7.0049, -7.0295, -7.0312, -7.0522, -7.096, -7.125, -7.1729, -7.1782, -5.1539, -5.4921, -6.2998, -6.4587, -6.4852, -6.5905, -6.2491, -6.319, -5.8826, -5.5822, -6.0415, -5.7299, -6.1704, -5.5712, -4.947, -5.417, -5.9124, -5.2937, -6.046, -5.6173, -5.8837, -4.7718, -5.3689, -5.5088, -4.735, -5.2449, -5.7887, -5.5417, -5.8509, -5.6203, -5.3775, -5.5173, -5.4604, -5.7392, -5.724, -5.774, -5.791, -5.7205, -5.1862, -5.2796, -4.9312, -5.6907, -5.7419, -5.8601, -5.7143, -6.0002, -6.0386, -6.1426, -6.148, -6.1814, -6.1859, -6.2128, -6.316, -6.3906, -6.4096, -6.432, -6.6038, -6.6903, -6.7404, -6.8061, -6.8234, -6.8506, -6.8555, -6.8418, -6.8862, -6.8944, -6.8981, -5.7913, -5.4889, -6.4697, -6.0217, -6.1112, -5.5853, -5.1277, -6.2951, -6.3062, -4.5166, -6.3259, -5.4536, -6.0405, -5.6592, -6.0718, -5.5023, -5.9047, -5.654, -5.9431, -5.2294, -5.8013, -5.3426, -5.8185, -5.562, -4.8624, -5.9574, -5.7547, -5.7028, -5.9289, -5.6872, -5.8839, -5.9213, -5.0084, -5.3443, -5.4717, -5.935, -5.9544, -5.9645, -5.9805, -6.0467, -6.0507, -6.1469, -6.2459, -6.2947, -6.4687, -6.5045, -6.5428, -6.636, -6.6606, -6.7396, -6.7445, -6.824, -6.8425, -6.9266, -6.985, -7.0087, -7.0172, -7.0354, -7.0457, -6.6585, -7.0707, -7.0951, -3.9391, -4.6695, -4.9241, -6.2697, -4.8056, -5.9529, -4.825, -5.7838, -6.2877, -5.6971, -5.1245, -5.5085, -5.7121, -4.4274, -5.3017, -5.5325, -5.9102, -5.0877, -5.6525, -5.607, -5.7636, -5.2904, -5.1677, -5.6475, -5.0847, -5.4741, -5.2065, -5.5787, -5.236, -5.372, -5.5157, -5.4919, -5.5084, -5.3972, -5.5239, -6.4486, -6.7139, -6.7385, -6.8662, -6.8684, -6.9477, -6.9578, -6.9659, -7.0246, -7.0519, -7.0784, -6.9506, -7.1529, -7.1546, -7.1624, -7.2542, -7.2599, -7.2737, -7.3317, -7.3318, -7.3397, -7.3454, -7.3554, -7.4229, -7.4289, -7.441, -7.4761, -7.517, -7.5484, -7.5678, -6.6428, -6.5913, -6.5764, -4.8817, -6.4765, -4.5953, -6.2492, -5.8044, -5.8277, -5.9634, -6.4612, -5.7574, -5.9397, -6.3415, -5.1711, -5.582, -5.1112, -6.3458, -5.1169, -5.7789, -4.3106, -4.4125, -4.9432, -4.2866, -5.6514, -5.1131, -5.3876, -4.8392, -4.8376, -6.1826, -4.8765, -4.7926, -5.2436, -5.868, -5.5261, -5.4089, -5.5231, -5.8753, -5.5018, -5.3407, -4.922, -5.4534, -5.331, -4.9008, -5.395, -5.4581, -5.3871, -5.5942, -5.589, -5.2423, -5.4377, -5.5317, -5.6085, -5.6554, -5.6835, -5.7518, -5.8744, -5.8758, -5.9577, -5.9913, -6.0144, -6.0544, -6.0988, -6.1132, -4.3558, -6.3176, -6.3182, -6.3328, -6.3385, -6.3964, -6.414, -6.4169, -6.4265, -6.4277, -6.428, -6.4295, -6.4386, -6.5432, -6.5449, -5.6075, -4.1712, -3.9034, -3.8417, -5.205, -4.9332, -5.4295, -5.1062, -5.95, -4.1954, -4.9429, -5.2501, -5.2839, -4.6992, -4.7359, -5.4399, -5.6073, -4.6546, -5.2976, -5.4165, -5.6927, -5.3016, -4.4772, -5.3624, -4.8532, -5.1003, -5.1502, -5.3406, -5.4278, -5.2901, -5.4931, -3.8805, -5.0135, -5.0685, -5.0762, -5.15, -5.1731, -5.3885, -5.4723, -5.5385, -5.6095, -5.6394, -5.6732, -5.742, -5.806, -5.9075, -6.0012, -6.0041, -6.0433, -6.0807, -6.103, -6.1096, -6.1407, -6.1408, -6.1611, -6.2044, -6.213, -6.2012, -6.2381, -6.2888, -6.3256, -4.7957, -5.0281, -4.5235, -4.7529, -5.067, -4.6458, -4.8692, -4.8541, -5.2212, -5.5824, -5.2726, -5.3739, -5.6116, -5.6642, -5.4286, -5.6762, -5.7096, -4.4629, -4.5997, -5.0586, -5.1606, -5.2112, -5.3729, -5.4601, -5.6008, -5.6924, -5.709, -5.7403, -5.7771, -5.853, -5.9413, -6.1051, -6.1698, -6.2541, -6.2745, -6.2758, -6.2786, -6.2463, -6.2869, -5.4632, -6.3487, -6.3492, -6.3615, -6.4648, -6.5267, -6.5275, -6.5444, -4.0718, -5.0031, -5.4225, -5.6431, -5.8246, -5.4392, -4.9693, -5.4277, -6.0124, -5.7429, -6.1268, -5.622, -5.7929, -5.4374, -5.5666, -5.8819, -5.8365, -5.1881, -5.5008, -5.7661, -5.678, -5.7846, -3.9677, -4.2724, -4.4094, -4.6692, -4.8025, -5.0111, -5.0179, -5.0643, -5.3416, -4.323, -5.3981, -5.4884, -5.673, -5.6745, -5.703, -5.7182, -5.7702, -5.8018, -5.812, -5.8475, -4.4439, -5.9409, -5.9409, -5.9953, -6.0479, -6.0768, -6.1632, -6.1715, -6.2021, -5.3594, -4.1736, -2.4358, -5.2795, -4.4938, -5.228, -4.4981, -3.6746, -4.9868, -4.8744, -5.2657, -4.2244, -4.6168, -5.4735, -5.4721, -5.3179, -5.2855, -5.159, -5.3459, -5.0521, -5.3344, -5.5218, -5.6809, -5.7537, -5.7872, -5.8182, -5.8651, -5.9364, -5.9531, -6.0535, -6.0734, -6.1203, -6.1975, -6.2033, -6.2138, -6.2483, -6.2659, -6.3037, -6.3114, -6.3592, -6.3716, -5.5507, -6.3874, -6.3889, -6.4043, -5.1457, -6.4579, -6.4718, -6.506, -5.5532, -3.852, -3.1242, -5.8396, -5.8634, -5.335, -4.3831, -6.0281, -5.5716, -5.7758, -5.7455, -5.7607, -4.01, -5.0033, -5.7864, -5.9108, -5.1521, -5.8135, -5.7257, -5.5189, -4.7617, -5.3364, -5.3444, -5.3468, -4.7185, -5.3967, -5.4086, -5.4867, -5.6545, -5.5399, -5.6769, -5.7053, -5.7381, -4.0774, -4.2147, -4.8386, -5.1938, -5.3832, -5.4435, -5.7477, -5.7639, -5.7808, -5.8175, -5.8544, -5.8836, -5.9183, -5.9629, -6.0428, -6.0624, -6.0627, -6.0982, -6.1183, -6.1204, -6.121, -6.149, -6.1587, -6.1919, -6.1929, -6.2032, -6.2057, -6.2291, -6.2393, -5.927, -5.1222, -5.607, -5.1154, -5.8888, -5.6351, -5.8119, -4.3761, -5.5284, -4.9708, -4.3904, -4.1655, -5.5508, -5.8943, -5.2664, -5.4055, -5.3899, -5.1133, -5.4326, -5.4946, -5.6873, -5.5213, -5.7662, -5.5898, -5.6756, -4.6517, -4.9917, -5.006, -5.0739, -5.1453, -5.1936, -5.3222, -5.3684, -5.4436, -5.6469, -5.718, -5.7579, -5.7629, -4.7006, -4.922, -5.8375, -5.847, -5.8713, -5.913, -5.9579, -6.0088, -6.0276, -6.1418, -6.1437, -6.1535, -6.1634, -6.1789, -6.1796, -6.2044, -6.2066, -4.9629, -5.0844, -5.4163, -5.1573, -5.1521, -3.9398, -5.7386, -5.9174, -5.154, -4.7961, -4.5763, -4.9883, -5.4993, -5.0609, -5.4865, -5.0663, -5.1123, -5.1811, -5.5493, -5.5097, -5.3064, -4.2555, -4.6997, -5.0171, -5.2024, -5.2323, -5.2996, -5.3673, -5.414, -5.5088, -5.5925, -5.6177, -5.6967, -5.7069, -5.7683, -5.782, -5.7985, -5.84, -5.8471, -5.8627, -5.8698, -5.8792, -5.8841, -5.9011, -5.9355, -5.9661, -5.9711, -5.9739, -5.9756, -6.008, -6.0112, -5.0983, -5.5423, -5.5095, -5.6537, -5.0242, -5.8203, -5.48, -5.5891, -4.687, -5.4759, -5.0224, -5.6646, -5.5861, -5.0131, -5.5841, -5.6641, -5.4845, -4.6528, -4.7417, -4.7809, -5.2215, -5.2216, -5.2578, -5.3873, -5.3926, -5.4444, -5.5359, -5.581, -5.6199, -5.6262, -5.7347, -5.7684, -5.7764, -5.7853, -5.8216, -5.913, -5.93, -5.9739, -5.9834, -6.0128, -6.0372, -6.0392, -6.0464, -6.0806, -6.0807, -6.0901, -6.0972, -5.2127, -4.5733, -5.1399, -4.0783, -5.6618, -5.6728, -5.383, -5.2517, -4.5198, -5.6607, -4.2264, -5.09, -5.1027, -4.8492, -4.9457, -4.8121, -5.2405, -5.4925, -5.3952, -5.5847, -5.4706, -5.5104, -5.5261, -5.1531, -5.2867, -5.3193, -5.3802, -5.4744, -5.501, -5.5345, -5.6781, -5.6835, -5.6922, -5.7006, -5.8182, -5.8966, -5.0748, -5.9278, -5.9411, -5.9774, -5.9792, -5.9868, -5.9996, -6.0107, -6.0182, -6.1322, -6.1382, -6.1733, -6.1748, -6.2, -6.2124, -6.2269, -6.2284, -5.8565, -5.1327, -4.9526, -4.4348, -4.9796, -4.6813, -3.6411, -5.6881, -5.4852, -5.4089, -5.7256, -5.4466, -5.2689, -5.5395, -5.5696, -5.1079, -5.645, -5.2112, -5.1586, -5.3349, -5.4315, -5.4282, -5.6016, -5.6662, -3.6608, -4.214, -4.2518, -4.6906, -4.94, -5.101, -5.1946, -5.2406, -5.5658, -5.674, -5.6865, -5.7742, -5.8431, -5.8994, -5.9534, -5.9761, -6.0106, -6.0233, -6.0773, -6.1526, -6.1694, -6.1789, -6.1836, -6.2018, -6.2937, -6.2994, -6.3146, -6.3283, -6.3429, -6.3497, -5.7842, -4.3652, -5.4199, -5.5349, -4.3412, -4.4008, -3.6667, -4.4304, -4.758, -5.5438, -4.5575, -5.3618, -4.9932, -5.7099, -5.4668, -5.3287, -5.0697, -5.0398, -5.3746, -5.5181, -5.4408, -5.5847, -5.5431, -4.4221, -4.4408, -4.6378, -4.6512, -4.6568, -4.9598, -5.0162, -5.0219, -5.0289, -5.0747, -5.084, -5.0936, -5.0937, -5.1854, -5.216, -5.2868, -5.4628, -5.4887, -5.5415, -5.5844, -5.7194, -5.7305, -5.735, -5.7684, -5.7726, -5.7876, -5.7925, -5.807, -5.8186, -5.8313, -4.7685, -5.0916, -5.5042, -5.3319, -5.6445, -5.351, -5.4978, -5.5247, -5.6502, -4.2269, -4.6842, -4.9803, -4.9843, -5.0335, -5.2575, -5.4121, -5.5502, -5.5872, -5.653, -5.674, -5.7304, -5.7883, -5.8192, -5.8483, -5.988, -6.0348, -6.0486, -6.0916, -6.122, -6.1292, -6.1313, -6.1912, -6.1928, -6.2168, -6.2654, -6.288, -6.2958, -6.3003, -6.3031, -5.1871, -3.7197, -5.4752, -4.6539, -5.3393, -4.9535, -5.0723, -4.444, -5.6589, -5.938, -5.9528, -5.9152], \"loglift\": [30.0, 29.0, 28.0, 27.0, 26.0, 25.0, 24.0, 23.0, 22.0, 21.0, 20.0, 19.0, 18.0, 17.0, 16.0, 15.0, 14.0, 13.0, 12.0, 11.0, 10.0, 9.0, 8.0, 7.0, 6.0, 5.0, 4.0, 3.0, 2.0, 1.0, 1.4324, 1.4321, 1.432, 1.4308, 1.4304, 1.4301, 1.4301, 1.4297, 1.4291, 1.4286, 1.4277, 1.4275, 1.4272, 1.4271, 1.4271, 1.4266, 1.4264, 1.4262, 1.4256, 1.4252, 1.4248, 1.4246, 1.4245, 1.4244, 1.4243, 1.424, 1.4235, 1.4232, 1.4231, 1.423, 1.4228, 1.4219, 1.4107, 1.4219, 1.4157, 1.4135, 1.3849, 1.3703, 1.3565, 1.3561, 1.371, 1.3119, 1.2964, 1.39, 1.2966, 1.1881, 1.3492, 1.2491, 1.2056, 1.1597, 1.1482, 1.0562, 1.1745, 0.9889, 1.146, 1.0638, 1.012, 1.0743, 1.0388, 1.1749, 0.9657, 0.9334, 0.975, 0.8977, 1.0515, 0.7667, 0.9691, 1.0757, 1.0711, 0.8804, 0.9367, 0.7208, 1.0957, 0.8697, 1.0334, 0.7136, 0.9588, 0.9008, 0.4816, 0.057, 0.7673, 2.1112, 2.1097, 2.1095, 2.1088, 2.1086, 2.1072, 2.1072, 2.1067, 2.1063, 2.1061, 2.105, 2.1044, 2.1044, 2.104, 2.104, 2.1038, 2.1028, 2.1027, 2.1021, 2.1019, 2.1018, 2.1017, 2.1017, 2.1014, 2.1012, 2.1011, 2.1011, 2.1011, 2.1006, 2.1004, 2.0973, 2.0896, 2.0994, 2.0893, 2.0915, 2.0826, 2.0511, 2.0383, 2.0463, 2.0281, 1.9807, 2.0051, 1.9939, 1.8451, 1.9943, 1.9907, 1.9247, 1.9372, 1.8334, 1.9352, 1.8885, 1.588, 1.4702, 1.4427, 1.3701, 1.7622, 1.5861, 1.2529, 1.5985, 1.1374, 1.1836, 0.6971, 0.3311, 0.5677, 1.1119, 1.018, 0.5575, 1.1851, 1.236, 0.5225, 1.0818, 0.4423, 1.356, 0.3965, 2.1755, 2.1744, 2.1743, 2.1743, 2.1738, 2.1729, 2.1723, 2.1715, 2.1711, 2.1704, 2.1704, 2.1701, 2.1679, 2.1676, 2.1673, 2.1669, 2.1668, 2.1666, 2.1666, 2.1664, 2.1657, 2.1649, 2.1645, 2.1643, 2.1642, 2.1642, 2.164, 2.1637, 2.1637, 2.1637, 2.1602, 2.1363, 2.1464, 2.1474, 2.0633, 2.1321, 2.1121, 2.1488, 1.9336, 1.9611, 1.9748, 1.9447, 2.0009, 1.8853, 2.0727, 2.0828, 1.5778, 1.9164, 1.6702, 1.5077, 1.7831, 1.0329, 1.5475, 1.3469, 1.4207, 1.6063, 1.1016, 1.2655, -0.0416, 0.1167, 0.6213, 1.3028, 0.6665, 0.1094, 0.3992, 1.2821, 0.3033, -0.1309, 0.425, 0.1035, -0.3494, 0.4826, 2.2048, 2.2041, 2.2039, 2.2037, 2.2035, 2.2035, 2.2022, 2.2017, 2.2014, 2.201, 2.2008, 2.2005, 2.2003, 2.1996, 2.1993, 2.1993, 2.1991, 2.1984, 2.1979, 2.1966, 2.1966, 2.1963, 2.1962, 2.196, 2.196, 2.1958, 2.1953, 2.195, 2.1945, 2.1944, 2.1907, 2.1932, 2.1806, 2.1837, 2.1729, 2.1769, 2.1528, 2.1476, 2.1134, 2.0862, 2.118, 2.018, 2.0864, 1.8695, 1.5594, 1.6143, 1.851, 1.5315, 1.9173, 1.6632, 1.8122, 0.6057, 1.1361, 1.2177, 0.2519, 0.7919, 1.5074, 1.1407, 1.515, 0.9253, 0.3105, 0.4498, 0.1146, 1.0558, 0.8613, 0.9019, 0.9028, -0.1713, 2.2574, 2.2573, 2.2567, 2.2563, 2.2562, 2.2559, 2.2555, 2.2554, 2.2553, 2.2548, 2.2548, 2.2547, 2.2547, 2.2545, 2.254, 2.2537, 2.2536, 2.2534, 2.2524, 2.2518, 2.2514, 2.2508, 2.2507, 2.2505, 2.2505, 2.2503, 2.2502, 2.2501, 2.2501, 2.2499, 2.2465, 2.2482, 2.2408, 2.2395, 2.2161, 2.1881, 2.2274, 2.2252, 2.0845, 2.2174, 2.1205, 2.1671, 2.0864, 2.1658, 2.0008, 2.0925, 1.9906, 2.056, 1.7023, 1.9508, 1.5422, 1.9252, 1.6545, 0.5151, 1.974, 1.3493, 0.4851, 1.3805, -0.7004, 0.1405, 0.2279, 2.3081, 2.3075, 2.3072, 2.3059, 2.3058, 2.3058, 2.3057, 2.3054, 2.3054, 2.305, 2.3046, 2.3043, 2.3033, 2.3031, 2.3028, 2.3022, 2.302, 2.3014, 2.3014, 2.3007, 2.3005, 2.2997, 2.2992, 2.2989, 2.2988, 2.2986, 2.2985, 2.2984, 2.2982, 2.298, 2.2964, 2.2922, 2.2866, 2.285, 2.2195, 2.2647, 2.1881, 2.2274, 2.249, 2.1839, 2.0851, 2.1292, 2.1529, 1.943, 2.0775, 2.0575, 2.1264, 1.8112, 1.9791, 1.9423, 2.0098, 1.7302, 1.6458, 1.8928, 1.3319, 1.683, 1.3808, 1.7308, 1.2126, 1.3388, 1.5387, 1.1839, 0.9879, 0.1779, 0.86, 2.8299, 2.8268, 2.8265, 2.8246, 2.8246, 2.8233, 2.8232, 2.823, 2.8219, 2.8215, 2.821, 2.8199, 2.8195, 2.8195, 2.8193, 2.8174, 2.8172, 2.8169, 2.8156, 2.8156, 2.8154, 2.8152, 2.815, 2.8132, 2.8131, 2.8128, 2.8118, 2.8106, 2.8097, 2.8091, 2.8085, 2.794, 2.7852, 2.7281, 2.7734, 2.688, 2.7574, 2.7259, 2.6949, 2.7001, 2.7209, 2.6267, 2.6388, 2.6893, 2.5102, 2.5421, 2.4301, 2.6571, 2.3772, 2.5117, 2.138, 2.1594, 2.2872, 2.0973, 2.4598, 2.2983, 2.3798, 2.2045, 1.9977, 2.5741, 1.8869, 1.8416, 2.0451, 2.3609, 2.1326, 2.0342, 2.1027, 2.3452, 2.0228, 1.7349, 1.1989, 1.8425, 1.5276, 0.6742, 1.5822, 1.7009, 0.9833, 1.7237, 0.9073, 3.3148, 3.3138, 3.3132, 3.3126, 3.3123, 3.3121, 3.3114, 3.3105, 3.3104, 3.3097, 3.3093, 3.3091, 3.3086, 3.3081, 3.3079, 3.3067, 3.3053, 3.3053, 3.3051, 3.305, 3.3041, 3.3038, 3.3038, 3.3036, 3.3036, 3.3036, 3.3036, 3.3034, 3.3016, 3.3016, 3.2709, 3.2108, 3.1966, 3.1819, 3.2452, 3.2219, 3.2495, 3.2266, 3.2701, 3.1266, 3.1804, 3.2029, 3.1978, 3.1289, 3.12, 3.2044, 3.2062, 2.8507, 3.0277, 3.0453, 3.1701, 2.8862, 1.9406, 2.5317, 1.1712, 1.6345, 1.6863, 2.2675, 2.4585, 1.2335, 1.3451, 4.0874, 4.0816, 4.0811, 4.081, 4.0802, 4.0801, 4.0777, 4.0766, 4.0757, 4.0746, 4.0742, 4.0736, 4.0725, 4.0713, 4.0693, 4.0673, 4.0672, 4.0657, 4.0654, 4.0649, 4.0647, 4.0639, 4.0639, 4.0634, 4.0622, 4.062, 4.0618, 4.0613, 4.0598, 4.0587, 4.0305, 4.0074, 3.7342, 3.679, 3.6994, 3.4422, 3.2589, 3.216, 3.3346, 3.4598, 2.7406, 2.9026, 3.2076, 2.9639, 1.7164, 2.4938, 1.7101, 4.3203, 4.3193, 4.3152, 4.314, 4.3133, 4.311, 4.3096, 4.3071, 4.3052, 4.3049, 4.3042, 4.3034, 4.3016, 4.2993, 4.2938, 4.2924, 4.2893, 4.2887, 4.2887, 4.2886, 4.2883, 4.2882, 4.2874, 4.2859, 4.2858, 4.2853, 4.281, 4.2781, 4.2781, 4.2773, 4.104, 4.1509, 4.1861, 4.1941, 4.1999, 4.0106, 3.6794, 3.6661, 4.0407, 3.7638, 4.1164, 3.4241, 3.6576, 3.1048, 3.2286, 3.7389, 3.5425, 1.5466, 2.371, 3.1022, 1.7326, 1.7401, 4.3274, 4.326, 4.3253, 4.3235, 4.3224, 4.3204, 4.3203, 4.318, 4.3161, 4.3157, 4.3153, 4.3138, 4.3103, 4.3102, 4.3096, 4.3093, 4.3081, 4.3074, 4.3072, 4.3063, 4.306, 4.3039, 4.3039, 4.3024, 4.3009, 4.3, 4.2972, 4.2965, 4.2959, 4.2947, 4.2872, 4.2423, 4.2778, 4.2292, 4.245, 4.1192, 4.0018, 4.177, 4.0902, 4.1676, 3.6238, 3.6863, 4.0345, 3.9936, 3.5747, 3.458, 0.8654, 2.2434, 4.3209, 4.3173, 4.3142, 4.3111, 4.3096, 4.3088, 4.3081, 4.3069, 4.3051, 4.3046, 4.3017, 4.3011, 4.2997, 4.2971, 4.2969, 4.2965, 4.2953, 4.2947, 4.2932, 4.2929, 4.2911, 4.2905, 4.2904, 4.2899, 4.2898, 4.2892, 4.287, 4.2869, 4.2863, 4.2847, 4.2468, 4.1737, 4.1019, 4.247, 4.2404, 4.1879, 3.8444, 4.1947, 4.0572, 4.1117, 4.1004, 4.0914, 3.2988, 3.7175, 4.09, 4.1379, 3.6931, 4.0814, 4.0124, 3.8378, 3.0094, 3.5074, 3.4887, 3.4831, 2.2587, 2.7578, 2.7369, 2.8962, 3.4485, 1.9542, 2.1314, 2.0681, 2.9192, 4.5309, 4.5301, 4.523, 4.5201, 4.5168, 4.5156, 4.5084, 4.5079, 4.5075, 4.5064, 4.5053, 4.5044, 4.5033, 4.5018, 4.499, 4.4983, 4.4983, 4.497, 4.4962, 4.4961, 4.4961, 4.495, 4.4944, 4.4932, 4.4931, 4.4927, 4.4926, 4.4916, 4.4911, 4.4911, 4.4492, 4.4464, 4.3757, 4.4186, 4.344, 4.3825, 3.8268, 4.2513, 3.9879, 3.5855, 3.1095, 3.9297, 4.2439, 3.2216, 3.2317, 3.185, 2.3438, 2.9708, 3.1437, 3.7404, 2.9192, 3.9361, 2.4424, 2.7718, 4.5555, 4.5517, 4.5515, 4.5505, 4.5494, 4.5487, 4.5464, 4.5455, 4.544, 4.5393, 4.5374, 4.5363, 4.5362, 4.5351, 4.5345, 4.534, 4.5337, 4.5329, 4.5316, 4.5301, 4.5283, 4.5276, 4.5231, 4.523, 4.5226, 4.5222, 4.5216, 4.5215, 4.5205, 4.5204, 4.5075, 4.4841, 4.476, 4.4257, 4.3613, 3.9543, 4.3777, 4.4175, 3.7458, 3.4082, 3.1527, 3.4824, 3.8818, 2.7671, 3.6759, 2.3908, 1.9877, 2.2295, 3.6189, 3.3068, 2.0473, 4.5734, 4.5698, 4.5661, 4.5634, 4.5629, 4.5617, 4.5605, 4.5595, 4.5575, 4.5556, 4.555, 4.553, 4.5527, 4.551, 4.5506, 4.5502, 4.5489, 4.5487, 4.5482, 4.548, 4.5477, 4.5476, 4.547, 4.5459, 4.5449, 4.5447, 4.5446, 4.5445, 4.5434, 4.5433, 4.4472, 4.4139, 4.391, 4.3973, 4.0974, 4.4675, 4.2655, 4.2673, 3.2578, 3.9589, 3.1648, 4.1009, 3.9009, 1.6536, 3.2629, 3.6733, 2.0837, 4.6145, 4.6135, 4.6131, 4.6067, 4.6067, 4.606, 4.6034, 4.6033, 4.6022, 4.6001, 4.5989, 4.5979, 4.5978, 4.5947, 4.5937, 4.5934, 4.5932, 4.592, 4.5889, 4.5883, 4.5867, 4.5864, 4.5853, 4.5843, 4.5842, 4.5839, 4.5825, 4.5825, 4.5821, 4.5819, 4.5327, 4.2986, 4.4033, 3.7716, 4.4141, 4.4017, 4.2173, 4.0907, 3.4325, 4.3232, 2.1914, 3.3153, 3.0794, 2.1744, 2.3921, 1.7115, 2.9515, 3.7177, 3.0555, 3.7502, 2.5484, 2.5619, 2.3298, 4.7018, 4.6992, 4.6985, 4.6971, 4.6949, 4.6942, 4.6933, 4.6892, 4.689, 4.6887, 4.6885, 4.6846, 4.6817, 4.6805, 4.6805, 4.68, 4.6785, 4.6785, 4.6781, 4.6776, 4.6772, 4.6768, 4.6717, 4.6714, 4.6697, 4.6691, 4.6684, 4.6678, 4.667, 4.6669, 4.6565, 4.5567, 4.4678, 4.303, 4.4078, 4.264, 3.7653, 4.4839, 4.3105, 4.2343, 4.4676, 4.1918, 3.7615, 4.1005, 4.1244, 3.3164, 4.1505, 2.6358, 2.3485, 2.4004, 2.9011, 2.7119, 3.5217, 3.7179, 4.9992, 4.9951, 4.9947, 4.9892, 4.9848, 4.9814, 4.9791, 4.9779, 4.9677, 4.9636, 4.9631, 4.9593, 4.9562, 4.9534, 4.9506, 4.9494, 4.9475, 4.9468, 4.9437, 4.9391, 4.938, 4.9374, 4.9371, 4.9359, 4.9295, 4.9291, 4.928, 4.927, 4.9259, 4.9253, 4.916, 4.7526, 4.8363, 4.8416, 4.6828, 4.5817, 4.4039, 4.4187, 4.514, 4.7235, 4.3752, 4.6423, 4.471, 4.6594, 4.4219, 3.8021, 2.6105, 2.1686, 2.7219, 2.9898, 2.2626, 3.0191, 1.5113, 5.4912, 5.4909, 5.4865, 5.4862, 5.486, 5.4773, 5.4754, 5.4752, 5.4749, 5.4732, 5.4729, 5.4725, 5.4725, 5.4689, 5.4676, 5.4645, 5.4558, 5.4543, 5.4513, 5.4488, 5.4401, 5.4393, 5.439, 5.4367, 5.4364, 5.4353, 5.4349, 5.4338, 5.433, 5.432, 5.2845, 5.3111, 5.2257, 5.0233, 5.0805, 4.0945, 4.4459, 3.4928, 4.3388, 5.9433, 5.9285, 5.9149, 5.9146, 5.912, 5.8981, 5.8867, 5.875, 5.8716, 5.8653, 5.8632, 5.8574, 5.8511, 5.8476, 5.8442, 5.8267, 5.8204, 5.8185, 5.8123, 5.8079, 5.8068, 5.8065, 5.7972, 5.797, 5.7931, 5.7851, 5.7813, 5.78, 5.7792, 5.7787, 5.7389, 5.2639, 5.543, 5.0854, 5.2883, 4.9785, 5.0022, 4.1823, 4.7712, 4.7485, 4.6651, 4.021]}, \"token.table\": {\"Topic\": [11, 15, 17, 19, 12, 1, 15, 17, 2, 2, 1, 2, 3, 4, 5, 6, 7, 9, 13, 2, 6, 7, 12, 14, 3, 5, 7, 1, 2, 4, 6, 7, 7, 17, 1, 5, 15, 3, 10, 7, 7, 17, 1, 2, 3, 4, 5, 6, 7, 8, 12, 16, 10, 14, 17, 18, 5, 3, 5, 11, 14, 2, 7, 12, 1, 3, 4, 5, 6, 7, 10, 18, 3, 4, 5, 7, 13, 18, 1, 5, 13, 15, 16, 18, 3, 5, 7, 9, 6, 7, 10, 16, 1, 2, 3, 4, 5, 6, 16, 1, 2, 3, 4, 5, 6, 8, 9, 2, 6, 2, 6, 7, 3, 5, 7, 8, 10, 14, 16, 17, 3, 3, 19, 5, 6, 7, 12, 14, 5, 1, 3, 4, 6, 11, 5, 1, 5, 1, 5, 10, 1, 2, 3, 4, 6, 8, 11, 14, 20, 4, 12, 7, 11, 12, 19, 17, 4, 4, 4, 3, 14, 11, 2, 7, 7, 13, 1, 2, 3, 5, 6, 7, 12, 1, 7, 1, 2, 3, 8, 16, 10, 17, 7, 16, 1, 1, 5, 1, 2, 3, 4, 5, 6, 8, 10, 16, 1, 15, 16, 8, 14, 1, 2, 3, 4, 7, 10, 16, 1, 8, 14, 1, 2, 3, 4, 5, 6, 7, 8, 10, 15, 15, 2, 16, 12, 19, 1, 7, 15, 15, 4, 4, 1, 2, 3, 4, 3, 6, 1, 2, 3, 4, 6, 8, 14, 16, 7, 1, 2, 3, 4, 6, 8, 16, 4, 4, 9, 9, 3, 2, 2, 5, 6, 17, 13, 10, 8, 1, 3, 4, 10, 12, 14, 16, 1, 2, 3, 4, 5, 6, 7, 9, 13, 1, 2, 3, 4, 5, 6, 7, 9, 12, 13, 9, 2, 3, 5, 8, 1, 14, 15, 9, 16, 8, 18, 18, 14, 1, 2, 3, 5, 6, 11, 16, 1, 9, 5, 17, 3, 5, 2, 6, 17, 2, 5, 17, 2, 9, 2, 13, 8, 1, 12, 3, 5, 6, 7, 8, 9, 14, 18, 1, 2, 3, 5, 8, 10, 14, 14, 3, 10, 1, 2, 3, 4, 5, 6, 18, 14, 15, 14, 18, 2, 9, 16, 2, 3, 5, 16, 1, 2, 3, 4, 6, 5, 7, 8, 19, 1, 2, 9, 11, 4, 1, 15, 13, 1, 3, 17, 19, 7, 1, 3, 7, 8, 10, 11, 12, 14, 2, 3, 5, 17, 14, 6, 12, 1, 2, 3, 6, 7, 9, 20, 3, 5, 8, 9, 16, 15, 2, 5, 17, 15, 1, 2, 3, 6, 8, 15, 4, 4, 8, 4, 4, 4, 11, 2, 10, 18, 19, 3, 5, 10, 1, 3, 5, 7, 8, 14, 1, 2, 4, 5, 6, 17, 3, 18, 8, 6, 6, 1, 15, 2, 12, 5, 18, 17, 17, 4, 5, 6, 7, 18, 1, 5, 10, 15, 12, 2, 3, 5, 6, 9, 11, 16, 6, 3, 17, 17, 1, 2, 3, 4, 5, 9, 9, 2, 3, 5, 6, 7, 11, 3, 4, 5, 7, 2, 6, 7, 12, 11, 13, 11, 6, 12, 20, 2, 7, 6, 7, 15, 20, 3, 5, 7, 8, 7, 2, 3, 4, 5, 6, 18, 2, 3, 4, 6, 18, 2, 7, 1, 10, 5, 1, 2, 3, 6, 7, 8, 12, 18, 1, 3, 5, 6, 10, 17, 6, 1, 2, 3, 5, 6, 7, 10, 2, 2, 10, 9, 2, 3, 6, 7, 9, 1, 2, 3, 7, 11, 1, 2, 3, 4, 5, 6, 13, 5, 1, 3, 4, 5, 7, 9, 20, 1, 4, 17, 5, 5, 4, 5, 5, 5, 13, 19, 1, 2, 4, 6, 8, 9, 17, 5, 5, 6, 12, 16, 1, 2, 3, 4, 5, 6, 7, 10, 18, 2, 10, 9, 16, 14, 1, 12, 2, 5, 6, 7, 12, 17, 6, 7, 7, 1, 2, 4, 5, 6, 7, 8, 13, 14, 15, 16, 18, 1, 15, 16, 13, 10, 20, 17, 8, 3, 10, 13, 18, 15, 10, 10, 8, 7, 2, 7, 20, 6, 12, 6, 7, 12, 3, 3, 2, 2, 7, 2, 6, 4, 1, 3, 16, 20, 18, 15, 1, 2, 17, 1, 2, 5, 8, 1, 2, 5, 17, 2, 1, 3, 5, 11, 1, 3, 4, 7, 10, 11, 12, 18, 3, 4, 5, 6, 10, 14, 16, 17, 6, 3, 9, 1, 2, 5, 6, 8, 9, 8, 3, 4, 6, 7, 19, 3, 10, 11, 18, 18, 19, 2, 5, 7, 2, 10, 18, 2, 6, 7, 9, 20, 5, 20, 5, 3, 5, 2, 9, 10, 17, 2, 7, 9, 11, 17, 1, 2, 3, 4, 5, 6, 9, 6, 6, 8, 11, 1, 2, 5, 7, 10, 18, 18, 9, 5, 8, 1, 4, 19, 3, 5, 7, 12, 14, 9, 1, 2, 3, 4, 5, 6, 1, 3, 4, 5, 1, 2, 3, 4, 7, 8, 9, 12, 13, 17, 17, 1, 2, 3, 4, 5, 6, 9, 4, 5, 13, 11, 5, 6, 7, 11, 1, 1, 3, 4, 5, 8, 9, 1, 2, 3, 4, 5, 6, 18, 17, 4, 10, 1, 8, 14, 16, 1, 2, 6, 7, 17, 5, 20, 15, 3, 5, 1, 3, 4, 5, 6, 7, 10, 16, 16, 5, 6, 5, 5, 6, 20, 8, 9, 6, 14, 14, 5, 1, 2, 3, 4, 5, 6, 8, 9, 10, 11, 12, 14, 16, 18, 1, 9, 1, 10, 5, 9, 11, 2, 3, 20, 8, 2, 6, 1, 3, 15, 14, 17, 2, 6, 7, 12, 2, 6, 7, 12, 12, 16, 5, 7, 20, 14, 1, 2, 5, 8, 9, 2, 3, 4, 6, 3, 5, 1, 14, 1, 2, 6, 8, 14, 16, 2, 8, 14, 16, 6, 12, 3, 9, 1, 2, 3, 4, 5, 6, 7, 12, 13, 5, 3, 5, 7, 14, 20, 9, 16, 8, 1, 3, 4, 5, 8, 11, 8, 16, 1, 2, 3, 5, 1, 3, 1, 2, 3, 4, 6, 8, 9, 13, 16, 4, 3, 5, 2, 6, 7, 12, 5, 18, 5, 8, 1, 5, 10, 11, 18, 18, 1, 3, 4, 5, 6, 2, 4, 6, 7, 13, 6, 1, 5, 1, 5, 12, 17, 7, 1, 3, 14, 1, 4, 1, 2, 3, 4, 8, 13, 12, 13, 8, 14, 3, 10, 1, 2, 10, 18, 1, 4, 13, 1, 2, 6, 12, 17, 13, 1, 2, 3, 4, 5, 6, 18, 18, 10, 12, 3, 16, 8, 14, 1, 4, 1, 2, 3, 5, 6, 8, 14, 16, 14, 16, 1, 1, 9, 17, 20, 1, 2, 3, 5, 18, 3, 11, 16, 1, 2, 3, 4, 5, 6, 7, 16, 9, 1, 3, 4, 5, 7, 11, 1, 3, 7, 10, 2, 6, 7, 12, 13, 6, 7, 12, 7, 12, 19, 1, 2, 3, 4, 5, 6, 10, 1, 2, 3, 4, 5, 6, 7, 8, 12, 2, 4, 5, 6, 7, 8, 14, 3, 17, 14, 20, 3, 1, 19, 2, 3, 6, 7, 12, 12, 2, 3, 4, 5, 6, 7, 12, 11, 17, 1, 5, 16, 19, 16, 16, 18, 19, 2, 3, 5, 7, 1, 3, 9, 20, 19, 7, 16, 2, 5, 6, 7, 11, 16, 7, 18, 3, 3, 9, 10, 13, 3, 13, 8, 14, 3, 4, 3, 3, 1, 2, 3, 4, 5, 6, 9, 5, 7, 20, 8, 1, 4, 5, 8, 12, 13, 14, 19, 1, 3, 5, 7, 10, 19, 4, 3, 4, 5, 3, 2, 3, 4, 5, 6, 7, 8, 12, 13, 14, 16, 8, 14, 6, 12, 4, 6, 1, 3, 5, 7, 16, 10, 12, 5, 1, 19, 2, 5, 6, 1, 5, 4, 8, 19, 1, 2, 3, 4, 6, 7, 7, 10, 12, 1, 2, 3, 4, 5, 6, 7, 8, 9, 11, 14, 16, 5, 15, 11, 11, 11, 18, 4, 5, 8, 9, 14, 16, 12, 13, 3, 3, 1, 2, 3, 5, 8, 9, 1, 3, 4, 5, 18, 8, 15, 12, 19, 1, 1, 3, 4, 5, 1, 2, 3, 4, 5, 6, 9, 8, 1, 2, 4, 5, 6, 8, 13, 14, 6, 17, 1, 2, 3, 4, 5, 6, 7, 8, 9, 12, 14, 12, 1, 2, 3, 4, 5, 6, 11, 20, 20, 1, 2, 5, 9, 15, 13, 1, 2, 3, 4, 6, 9, 16, 4, 14, 20, 1, 2, 3, 4, 5, 6, 8, 11, 16, 13, 11, 2, 1, 2, 3, 4, 5, 6, 7, 8, 12, 12, 2, 4, 6, 7, 8, 9, 11, 12, 6, 7, 8, 12, 14, 10, 1, 2, 3, 4, 5, 6, 9, 10, 1, 2, 1, 2, 3, 4, 5, 6, 7, 9, 12, 12, 6, 12, 14, 1, 11, 6, 15, 1, 3, 4, 5, 10, 12, 13, 17, 20, 4, 13, 1, 2, 4, 9, 10, 3, 7, 3, 3, 5, 7, 1, 2, 3, 5, 6, 16, 1, 11, 12, 13, 1, 2, 9, 18, 16, 15, 1, 2, 4, 7, 8, 9, 13, 20, 18, 16, 1, 2, 3, 6, 8, 9, 15, 1, 5, 9, 1, 3, 5, 7, 5, 8, 16, 3, 4, 7, 11, 11, 12, 19, 1, 2, 4, 7, 10, 17, 2, 7, 7, 14, 1, 2, 3, 2, 7, 8, 4, 11, 1, 3, 4, 4, 13, 13, 8, 16, 2, 6, 9, 9, 1, 2, 3, 4, 5, 6, 14, 17, 19, 8, 13, 5, 13, 4, 5, 13, 1, 2, 3, 4, 5, 6, 7, 3, 8, 15, 1, 2, 3, 4, 5, 6, 7, 8, 7, 11, 12, 3, 5, 7, 8, 11, 16, 1, 7, 12, 16, 12, 18, 17, 1, 2, 3, 4, 5, 6, 7, 1, 13, 1, 6, 13, 3, 8, 18, 1, 2, 3, 4, 5, 15, 16, 5, 18, 5, 15, 9, 3, 5, 7, 8, 9, 10, 14, 17, 2, 3, 5, 10, 6, 1, 2, 3, 4, 5, 6, 7, 8, 13, 12, 1, 4, 6, 7, 12, 19, 4, 6, 7, 12, 18, 7, 12, 1, 16, 1, 2, 3, 4, 7, 14, 12, 6, 11, 12, 11, 11, 11, 14, 19, 5, 18, 1, 20, 2, 6, 17, 18, 7, 16, 7, 2, 3, 6, 7, 12, 18, 12, 18, 1, 3, 3, 3, 3, 2, 5, 7, 18, 17, 1, 2, 3, 4, 5, 6, 7, 15, 10, 4, 16, 3, 17, 11, 12, 8, 1, 2, 3, 4, 5, 6, 1, 3, 4, 5, 6, 8, 10, 15, 7, 8, 16, 10, 19, 13, 1, 2, 4, 10, 12, 19, 1, 2, 3, 5, 6, 12, 19, 9, 2, 16, 16, 1, 16, 16, 7, 8, 6, 6, 10, 6, 10, 11, 12, 1, 5, 10, 10, 1, 15, 1, 2, 3, 4, 5, 8, 14, 1, 3, 8, 14, 1, 2, 8, 8, 14, 16, 8, 1, 2, 3, 4, 5, 6, 7, 12, 19, 12, 15, 1, 2, 3, 4, 5, 6, 7, 8, 10, 1, 2, 3, 4, 6, 8, 18, 1, 5, 17, 2, 6, 17, 15, 2, 2, 6, 1, 2, 3, 4, 5, 8, 9, 10, 11, 18, 9, 19, 15, 2, 20, 7, 3, 5, 3, 1, 2, 3, 5, 7, 8, 9, 13, 1, 5, 13, 2, 6, 10, 12, 10, 12, 1, 2, 3, 4, 5, 6, 7, 1, 6, 7, 7, 7, 6, 2, 3, 6, 7, 7, 11, 12, 15, 1, 3, 5, 14, 11, 3, 5, 6, 7, 12, 8, 1, 16, 17, 10, 8, 1, 15, 1, 2, 3, 4, 5, 6, 13, 13, 10, 1, 2, 3, 5, 7, 8, 10, 11, 18, 10, 15, 20, 8, 14, 20, 17, 1, 19, 12, 1, 2, 3, 4, 5, 6, 8, 17, 1, 2, 3, 4, 6, 9, 8, 17, 16, 19, 17, 4, 5, 4, 4, 5, 13, 1, 2, 3, 4, 6, 3, 3, 4, 6, 7, 12, 5, 6, 12, 3, 7, 3, 15, 1, 15, 4, 19, 4, 20, 1, 9, 9, 13, 15, 1, 9, 1, 2, 3, 4, 5, 6, 8, 3, 5, 6, 5, 10, 1, 5, 7, 9, 14, 2, 4, 5, 6, 7, 8, 13, 9, 14, 10, 14, 3, 3, 5, 11, 17, 17, 7, 10, 17, 20, 7, 14, 1, 13, 12, 16, 20, 1, 2, 6, 7, 16, 13, 3, 5, 14, 4, 1, 3, 4, 5, 18, 2, 3, 7, 9, 4, 7, 11, 11, 1, 2, 3, 4, 5, 7, 12, 12, 3, 5, 6, 12, 20, 8, 5, 14, 8, 4, 2, 17, 11, 8, 16, 1, 2, 3, 4, 5, 6, 8, 11, 16, 5, 1, 2, 5, 6, 7, 14, 4, 4, 5, 5, 7, 10, 2, 7, 3, 1, 2, 3, 4, 5, 6, 7, 8, 9, 12, 3, 6, 7, 12, 9, 12, 5, 2, 5, 6, 13, 6, 6, 1, 2, 3, 5, 7, 18, 1, 17, 2, 6, 7, 12, 8, 15, 18, 15, 19, 2, 9, 1, 11, 7, 7, 2, 6, 20, 12, 17, 2, 1, 7, 8, 9, 13, 15, 16, 5, 3, 19, 2, 6, 7, 11, 1, 2, 3, 4, 6, 2, 2, 3, 4, 5, 6, 7, 9, 2, 6, 7, 11, 12, 10, 11, 2, 1, 2, 9, 17, 1, 4, 1, 20, 1, 9, 14, 14, 1, 2, 3, 9, 16, 17, 14, 18, 3, 5, 16, 11, 18, 4, 5, 8, 9, 10, 11, 12, 4, 8, 12, 14, 1, 6, 8, 14, 16, 1, 2, 3, 4, 5, 6, 7, 2, 3, 4, 5, 7, 1, 2, 3, 10, 11, 10, 3, 8, 13, 2, 3, 16, 1, 2, 3, 4, 5, 6, 8, 16, 18, 15, 16, 5, 6, 6, 3, 4, 7, 3, 4, 5, 10, 13, 1, 1, 2, 3, 4, 5, 6, 7, 8, 12, 18, 15, 7, 1, 2, 15, 6, 1, 2, 3, 4, 5, 6, 7, 1, 2, 3, 4, 5, 6, 9, 1, 7, 9, 10, 11, 12, 13, 2, 14, 19, 20, 3, 20, 1, 2, 3, 4, 5, 6, 7, 10, 11, 2, 3, 4, 5, 6, 7, 1, 2, 3, 4, 5, 6, 8, 8, 1, 2, 5, 6, 7, 2, 7, 11, 20, 5, 8, 11, 14, 16, 8, 14, 1, 2, 5, 7, 11, 2, 5, 7, 10, 15, 11, 12, 1, 3, 10, 1, 5, 19, 3, 1, 2, 3, 4, 6, 7, 10, 17, 4, 4, 5, 6, 7, 1, 2, 3, 4, 6, 7, 8, 9, 13, 1, 2, 3, 4, 7, 13, 10, 1, 2, 3, 4, 5, 6, 20, 1, 2, 3, 4, 9, 1, 2, 3, 4, 6, 1, 2, 3, 4, 1, 2, 3, 4, 5, 6, 8, 11, 1, 2, 3, 4, 1, 9, 10, 1, 14, 6, 18, 15, 1, 2, 3, 4, 5, 6, 7, 8, 10, 9, 9, 11, 1, 5, 6, 7, 8, 9, 13, 13, 5, 1, 2, 3, 4, 5, 19, 1, 3, 4, 5, 8, 6, 2, 8, 12, 9, 19, 10, 10, 12, 8, 13, 18, 1, 3, 13, 13, 1, 1, 2, 3, 4, 5, 6, 17, 2, 20, 1, 3, 4, 5, 18, 5, 5, 5, 7, 9, 16, 14, 4, 19, 3, 5, 7, 20, 17, 9, 13, 2, 19, 1, 2, 3, 4, 5, 6, 7, 10, 2, 5, 6, 7, 2, 5, 6, 7, 1, 2, 3, 4, 5, 6, 7, 1, 2, 3, 4, 6, 10, 18, 6, 2, 17, 1, 3, 5, 9, 10, 11, 10, 12, 2, 4, 5, 6, 7, 1, 2, 5, 7, 12, 7, 12, 5, 7, 10, 2, 18, 1, 2, 3, 5, 6, 7, 9, 17, 19, 2, 11, 1, 1, 1, 2, 3, 4, 5, 6, 9, 14, 1, 1, 3, 10, 20, 5, 10, 14, 1, 3, 4, 8, 9, 10, 13, 1, 2, 3, 4, 5, 6, 7, 8, 1, 8, 3, 4, 7, 9, 14, 16, 17, 20, 1, 2, 3, 4, 6, 7, 8, 12, 17, 6, 6, 6, 17, 1, 2, 6, 1, 2, 6, 8, 14, 18, 2, 5, 18, 9, 1, 2, 3, 4, 6, 7, 1, 2, 3, 4, 6, 7, 9, 12, 1, 2, 3, 4, 5, 6, 7, 11, 12, 14, 1, 5, 4, 1, 2, 3, 4, 5, 6, 8, 9, 18, 19, 15, 14, 6, 9, 6, 6, 19, 1, 1, 2, 3, 5, 6, 7, 8, 11, 14, 16, 1, 2, 3, 4, 5, 8, 10, 11, 10, 19, 3, 5, 7, 8, 16, 20], \"Freq\": [0.9749360586806968, 0.9628869397391392, 0.9777943687877124, 0.9790047042752742, 0.954160927209727, 0.984893160956852, 0.9589122768843041, 0.932911345007931, 0.9945889182151146, 0.9954382108336486, 0.04444324048964977, 0.1869681151633542, 0.05210586816027904, 0.02605293408013952, 0.004597576602377563, 0.21302104924349372, 0.45209503256712696, 0.007662627670629271, 0.012260204273006833, 0.05124678667683475, 0.017082262225611582, 0.9224421601830255, 0.008541131112805791, 0.9614278245284278, 0.5645118076401513, 0.3979808243863067, 0.03387070845840908, 0.07348287188019999, 0.8382490570037627, 0.016329527084488885, 0.06531810833795554, 0.0054431756948296285, 0.9568995654763262, 0.9860568683612561, 0.9938444629253713, 0.9929272966208426, 0.9748000142923755, 0.9903633266985155, 0.9570552744017448, 0.9750333991568405, 0.01805779876374778, 0.9570633344786323, 0.2516059281265522, 0.2112826948592892, 0.12649343038634567, 0.12345537856483955, 0.0486088291440979, 0.11876020756796647, 0.11461740962954903, 0.001104746116911316, 0.004142797938417435, 0.000276186529227829, 0.9530939795371551, 0.09264002818431587, 0.18528005636863173, 0.694800211382369, 0.9961829848960321, 0.5495400450889131, 0.36145342251383866, 0.00817767924239454, 0.08014125657546649, 0.40702842938437167, 0.06541528329391688, 0.5305906311617702, 0.10007983190451587, 0.469001565199594, 0.16091267090530004, 0.14325152409862077, 0.027472895032612202, 0.09811748225932929, 0.26693118498942886, 0.7006943605972508, 0.1043515062896388, 0.06678496402536883, 0.09182932553488214, 0.7221124235243005, 0.008348120503171104, 0.9405143238419538, 0.31556722245016994, 0.12348282617615346, 0.5488125607829043, 0.8784343664812094, 0.1171245821974946, 0.9454591482780784, 0.12390833974533022, 0.04425297848047508, 0.29206965797113554, 0.5310357417657009, 0.2791713945204232, 0.7194905045770258, 0.8819300342193918, 0.09799222602437686, 0.32241339388931234, 0.5119641254616003, 0.020667525249314894, 0.09152761181839453, 0.000590500721408997, 0.04901155987694675, 0.0035430043284539817, 0.9965020646103016, 0.08642277604735332, 0.11111499777516855, 0.2139992549743987, 0.0740766651834457, 0.18107629267064504, 0.02880759201578444, 0.30453740130972123, 0.9412192546234505, 0.05656365712881313, 0.09125742524000505, 0.8343536021943319, 0.0717022626885754, 0.30990718215267543, 0.14196865327664462, 0.2943252567930437, 0.05193975119877242, 0.07444697671824047, 0.09695420223770852, 0.02250722551946805, 0.005193975119877242, 0.9968988478410504, 0.9927253583368596, 0.94755958062375, 0.06498519335815751, 0.58125645170352, 0.15163211783570088, 0.20217615711426784, 0.9910415485006742, 0.990507591573651, 0.05821716423151979, 0.06549430976045977, 0.8295945902991569, 0.04608858834995316, 0.9487986522368278, 0.9954874874996155, 0.0013856842990620838, 0.9976926953247003, 0.06771249589540813, 0.9322278504670143, 0.9441516685722684, 0.7476158925792539, 0.1429526825478146, 0.01598228748981778, 0.010654858326545186, 0.05682591107490766, 0.003551619442181729, 0.02042181179254494, 0.0008879048605454322, 0.738061489728658, 0.9903820917966241, 0.982774074015323, 0.14102602247067314, 0.7474379190945676, 0.09871821572947119, 0.9640833929728737, 0.9790455650493006, 0.9952341131612564, 0.9950466563863246, 0.9949185650822198, 0.12159858308151404, 0.8663899044557876, 0.9807190011763236, 0.10179828991489051, 0.8856451222595475, 0.960172928611779, 0.9543859418798433, 0.0019846950526871306, 0.1170970081085407, 0.031093555825431714, 0.015215995403934668, 0.33409033386900033, 0.49551219815422026, 0.005292520140499015, 0.013323492738985998, 0.972614969945978, 0.381975361321511, 0.07864198615442873, 0.17600825472657858, 0.14979425934176901, 0.21345681956202084, 0.8236124437848932, 0.17648838081104853, 0.9500989638780568, 0.04872302378861829, 0.9866169220407812, 0.026318089766169735, 0.9685057033950463, 0.7493814292744854, 0.12837504653394138, 0.06703327553003835, 0.0006323893917928147, 0.0025295575671712587, 0.020868849929162884, 0.02972230141426229, 0.001897168175378444, 0.0006323893917928147, 0.20155154236754608, 0.06718384745584868, 0.7240925781352581, 0.05992561463897434, 0.9288470269041023, 0.22315204042160827, 0.22315204042160827, 0.14750728095665633, 0.09455594933118995, 0.05295133162546637, 0.06808028351845676, 0.1891118986623799, 0.04909909318941243, 0.888693586728365, 0.05891891182729492, 0.029906995948157544, 0.12461248311732309, 0.09769618676398131, 0.17944197568894527, 0.06380159135606943, 0.2282900690709359, 0.2691629635334179, 0.0069782990545700935, 0.9723995211306165, 0.9739991493472645, 0.9858945573179871, 0.99558189718651, 0.9681720259771335, 0.17023576332624307, 0.8025400271094316, 0.24854424978747786, 0.23473623591039575, 0.5108965134520378, 0.9594254982799967, 0.9978769219277875, 0.9966927295836647, 0.31334985062847387, 0.05047245916163337, 0.11146001398194036, 0.5236517638019462, 0.9656824547746183, 0.012380544291982286, 0.282273567087946, 0.315482222039469, 0.04492935669911943, 0.10157941514583524, 0.10743976601963343, 0.13869497067989042, 0.004883625728165156, 0.0029301754368990934, 0.9694593664914332, 0.693437643488414, 0.1323110905966399, 0.019129314303128662, 0.04463506670730021, 0.05340266909623418, 0.04782328575782165, 0.0071734928636732476, 0.9982999733227961, 0.9881269391714113, 0.9975086020878493, 0.9952752409399845, 0.992891552393587, 0.9965304908208339, 0.1005399861499275, 0.10772141373206517, 0.6535099099745287, 0.13285641026954706, 0.9584133627163057, 0.9291571122416544, 0.9889562600391708, 0.4792922234897854, 0.05926731795841432, 0.26799135076848213, 0.05926731795841432, 0.11080411618312243, 0.023191559201118647, 0.9525522860764306, 0.08919458977997984, 0.12547713477522587, 0.01814127249762302, 0.35073126828737833, 0.012094181665082013, 0.0015117727081352516, 0.12850068019149638, 0.03325899957897553, 0.240371860593505, 0.06094114732256344, 0.024376458929025378, 0.01828234419676903, 0.2529057613886383, 0.01523528683064086, 0.02742351629515355, 0.19501167143220302, 0.01523528683064086, 0.003047057366128172, 0.38697628549827784, 0.9716605335921834, 0.9889212485472632, 0.07579432111249751, 0.035370683185832176, 0.8842670796458043, 0.5350433264187564, 0.04755940679277835, 0.40425495773861597, 0.9600185146832148, 0.9939421288551392, 0.13444424942823596, 0.8402765589264748, 0.9736408215499208, 0.9822003438444612, 0.10841874911393987, 0.10841874911393987, 0.06505124946836392, 0.003942499967779632, 0.6583974946191985, 0.055194999548914846, 0.9530580636586959, 0.9872174297162198, 0.9644782192504153, 0.13525260509513393, 0.8453287818445872, 0.9069442734317098, 0.08081681644440979, 0.12049400770723855, 0.2409880154144771, 0.6346017739247897, 0.3264113620378641, 0.0065282272407572815, 0.6593509513164855, 0.8858099194257992, 0.1107262399282249, 0.9891159082766917, 0.9749535630816321, 0.9958329898279171, 0.12881085004129825, 0.8587390002753216, 0.18761953532567294, 0.14932983423880092, 0.007657940217374405, 0.24505408695598097, 0.026802790760810418, 0.01531588043474881, 0.31397554891235063, 0.04977661141293364, 0.08983536902791614, 0.15970732271629537, 0.15970732271629537, 0.06987195368837923, 0.08983536902791614, 0.01996341533953692, 0.40925001446050685, 0.9787259337989639, 0.9946499428971134, 0.986445553457896, 0.07720588344324131, 0.1188970605025916, 0.026250000370702044, 0.497205889374474, 0.09573529546961922, 0.1837500025949143, 0.9604485115632018, 0.9523203880207727, 0.9882917261105457, 0.9643168679698605, 0.01339328983291473, 0.9852157527327066, 0.013649084735591652, 0.944624561503998, 0.8895390270633212, 0.028465248866026277, 0.021348936649519708, 0.056930497732052554, 0.3457855020328166, 0.04068064729797843, 0.5333684867957171, 0.06328100690796644, 0.01808028768799041, 0.1744114992838704, 0.3924258733887084, 0.06540431223145139, 0.3488229985677408, 0.5286634680771608, 0.03548076966960811, 0.4364134669361798, 0.9722311755658709, 0.9914690350137529, 0.9920968136732775, 0.9658194245364422, 0.9483199023253058, 0.09654574264604196, 0.3540010563688205, 0.5310015845532308, 0.9559571140702031, 0.9750148325155412, 0.009702253897398422, 0.3065912231577902, 0.44242277772136807, 0.10866524365086233, 0.0756775803997077, 0.027166310912715583, 0.019404507794796844, 0.009702253897398422, 0.20156520967595723, 0.42232710598771994, 0.06718840322531908, 0.2975486428549845, 0.96421903441521, 0.9974152140605292, 0.9508747050408954, 0.21593346331341404, 0.17368561179557215, 0.03598891055223567, 0.5601752164217553, 0.006258940965606204, 0.009388411448409305, 0.9289110490448503, 0.06481681322565802, 0.04321120881710535, 0.7475539125359225, 0.038890087935394814, 0.0993857802793423, 0.9887894012545702, 0.42632547376627083, 0.5460958409781997, 0.025665078688270487, 0.9882136872477721, 0.16019088453119856, 0.21116071142748902, 0.03640701921163604, 0.13834667300421696, 0.18931649990050742, 0.2694119421661067, 0.9972764589825949, 0.9853723811395588, 0.012965426067625773, 0.9966536050086334, 0.9982786962792943, 0.997773684724056, 0.9841094412042334, 0.26679392452256817, 0.06669848113064204, 0.6586475011650902, 0.969321181090731, 0.07916962236187085, 0.9104506571615147, 0.0039584811180935426, 0.41654806553358736, 0.047605493203838556, 0.24992883932015242, 0.023802746601919278, 0.016661922621343493, 0.2427880153395766, 0.2279894323141012, 0.03224092982219613, 0.6747566027073905, 0.062178936085663966, 0.40164735057946427, 0.5944380788576071, 0.11920165100853795, 0.8344115570597657, 0.9800362271519008, 0.9959670161542037, 0.9889571628777143, 0.13245736846504577, 0.8388966669452899, 0.14529770840126718, 0.8233536809405141, 0.9870565511342646, 0.009583073311983152, 0.9454017479239765, 0.977845472763456, 0.03540147100454628, 0.0608905301278196, 0.7986571858625641, 0.08213141273054737, 0.021240882602727766, 0.5132361763462477, 0.18595513635733615, 0.29752821817173786, 0.9700315948169246, 0.9721864356032942, 0.035095555508498626, 0.30416148107365476, 0.029246296257082187, 0.07604037026841369, 0.3217092588279041, 0.12283444427974519, 0.11113592577691231, 0.9892155732789731, 0.20668663029164738, 0.7750748635936776, 0.9598730492229465, 0.6683430104532668, 0.08204486611081482, 0.032264834987399085, 0.19451086235260592, 0.017515196136016646, 0.004609262141057013, 0.9884457580197284, 0.01177237357339863, 0.007848249048932419, 0.0784824904893242, 0.09810311311165525, 0.6200116748656611, 0.18443385264991186, 0.7482274021008116, 0.052578141769246224, 0.1536899528639505, 0.044489196881669885, 0.024939611582322656, 0.8811996092420672, 0.060963494979010935, 0.030481747489505467, 0.23835345238235453, 0.7415440740784363, 0.9876578180634072, 0.9899765445758991, 0.9662458161573065, 0.979009145293695, 0.4690781365017445, 0.5290625529341927, 0.04357864346938475, 0.9369408345917721, 0.010894660867346187, 0.799286029611446, 0.12063162693874363, 0.04280477084923161, 0.6109408203026694, 0.22569788265958485, 0.984232641740019, 0.372841652401093, 0.007932801114916873, 0.05552960780441811, 0.02379840334475062, 0.007932801114916873, 0.5314976746994305, 0.3026000787567937, 0.20553967613669005, 0.09135096717186224, 0.2569245951708626, 0.13702645075779335, 0.9940829766103886, 0.9888889055492371, 0.4792575376245222, 0.5058829563814401, 0.9935764380697204, 0.05646506318230718, 0.18633470850161368, 0.011293012636461435, 0.007528675090974291, 0.6286443700963533, 0.007528675090974291, 0.09222626986443506, 0.007528675090974291, 0.2296057353598251, 0.6735101570554869, 0.0038267622559970847, 0.08418876963193586, 0.007653524511994169, 0.9834886728774055, 0.9968288185754363, 0.06116420769481365, 0.2573993740490074, 0.16565306250678696, 0.40266436732418986, 0.03313061250135739, 0.07390675096456649, 0.0050970173079011374, 0.9981467538710583, 0.094546523032147, 0.8745553380473599, 0.9848046241281296, 0.10338525771075908, 0.04353063482558277, 0.20677051542151817, 0.17412253930233107, 0.4679543243750148, 0.22150476431082516, 0.40160676893738395, 0.16147076276863892, 0.09108607130538605, 0.12420827905279916, 0.5730698386147968, 0.18805592762310805, 0.06787817505922834, 0.08271493463501597, 0.06676541809104428, 0.021142382395497355, 0.9566254943256816, 0.9975804753363572, 0.19088694298902378, 0.07839999444192047, 0.034086954105182816, 0.10226086231554846, 0.06476521279984736, 0.5215303978092971, 0.8317716409138222, 0.9888999911329857, 0.31962439005071425, 0.658050214810294, 0.9964344497363451, 0.9960075932687923, 0.03762022540035848, 0.9566285887519729, 0.9944603704322958, 0.4281406600627057, 0.5480200448802633, 0.9571963896176616, 0.28150888374683963, 0.06679871817721618, 0.19085348050633194, 0.03817069610126639, 0.08111272921519108, 0.09065540324050768, 0.24333818764557325, 0.995449206335527, 0.9664247043819848, 0.026550129241263317, 0.9838647453826198, 0.9925371223044481, 0.09475816309028848, 0.23618825725489814, 0.18668772429728475, 0.02970031977456803, 0.0028286018832921933, 0.3040747024539108, 0.08485805649876581, 0.0028286018832921933, 0.057986338607489966, 0.4225294148100804, 0.5633725530801071, 0.9792788857084693, 0.9486785959995936, 0.9734659420246455, 0.9914027952713063, 0.9351938295094403, 0.24772567556998012, 0.03667238097561639, 0.18560715269291564, 0.5059291742758506, 0.017961982518669255, 0.004490495629667314, 0.13125611037505736, 0.8575399211170415, 0.966239981391305, 0.04053775022934062, 0.02026887511467031, 0.3121406767659228, 0.12364013819948888, 0.06486040036694499, 0.2817373640939173, 0.03851086271787359, 0.0060806625344010925, 0.010134437557335155, 0.08310238797014827, 0.02026887511467031, 0.9079787167048744, 0.04539083327779953, 0.2042587497500979, 0.7489487490836922, 0.9399147115448491, 0.9886196955973692, 0.892717562347673, 0.9645476668628872, 0.9913973363794683, 0.09312446346701618, 0.7316922129551271, 0.1064279582480185, 0.05321397912400925, 0.9938836379256376, 0.9818927571091317, 0.9822481677610513, 0.9972022207628602, 0.9887210862396903, 0.985014530849192, 0.8439477163463913, 0.15147779524166, 0.20763378471949986, 0.7682450034621495, 0.8563674845661687, 0.06818212456737012, 0.07363669453275973, 0.9957800012840108, 0.9895137299017531, 0.9986473491629528, 0.979793116231546, 0.01773381205848952, 0.20636566674742343, 0.793585043670986, 0.9887057571349472, 0.9167272062096781, 0.08168856292957527, 0.9825782485301714, 0.9522484091698463, 0.8902122941457438, 0.9650320268405946, 0.008092030553516174, 0.9773374679635646, 0.013486717589193623, 0.10455303328482944, 0.8294540640596468, 0.027880808875954517, 0.039497812574268897, 0.04239291376251219, 0.898199860343227, 0.04239291376251219, 0.013247785550785058, 0.9980219663693111, 0.20527993717977497, 0.7697997644241561, 0.020527993717977498, 0.9722311755658709, 0.010727327234597269, 0.04559114074703839, 0.3674109577849564, 0.002681831808649317, 0.05631846798163566, 0.49345705279147434, 0.013409159043246585, 0.005363663617298634, 0.43539208079672703, 0.07022452916076243, 0.10767761137983571, 0.03277144694168913, 0.009363270554768323, 0.004681635277384162, 0.2715348460882814, 0.07022452916076243, 0.9915096702866404, 0.9000339381124397, 0.0951958973003542, 0.1345529151724322, 0.16287984468241792, 0.07081732377496432, 0.19120677419240367, 0.028326929509985728, 0.41074047789479307, 0.9914858139558654, 0.8038059550365227, 0.024732490924200698, 0.03709873638630105, 0.12778453644170362, 0.9729012198047764, 0.1238156279688119, 0.18572344195321785, 0.10317968997400992, 0.5571703258596535, 0.9879610563649132, 0.886926086919843, 0.1420729466532995, 0.04582998279138694, 0.8066076971284102, 0.647908889855379, 0.048351409690699926, 0.2997787400823395, 0.3616257682090861, 0.28979599233193887, 0.3306646579172123, 0.016099777351774383, 0.9499133477534563, 0.9918663516651114, 0.006399137752678138, 0.9985379115745395, 0.017730226176178695, 0.979594996233873, 0.16560534689076972, 0.6987737807830039, 0.06462647683542233, 0.06866563163763623, 0.12727240341346016, 0.8666644613392763, 0.11279396112310416, 0.30078389632827773, 0.5639698056155208, 0.7936411649381343, 0.04693576781892192, 0.03626854786007603, 0.05546954378599864, 0.002133443991769178, 0.058669709773652406, 0.0074670539711921245, 0.9960512974569156, 0.9768138385639292, 0.012759542158309671, 0.008506361438873114, 0.05706224422196475, 0.42537309329101, 0.23343645363531035, 0.1141244884439295, 0.025937383737256705, 0.13487439543373486, 0.9620506367390746, 0.965993462781975, 0.9940722858581199, 0.984907828902173, 0.02017386038371797, 0.9683452984184625, 0.9659493230944088, 0.21893956570058937, 0.23306469897159512, 0.24012726560709802, 0.021187699906508647, 0.2825026654201153, 0.9822606336625376, 0.6298618816438983, 0.07438991723503537, 0.029020242437843465, 0.17289524720010965, 0.07275497399910053, 0.02084552625816925, 0.02319577516967744, 0.190919072550422, 0.7137161590669981, 0.06958732550903232, 0.0036998453361467673, 0.4328819043291718, 0.01479938134458707, 0.12949458676513687, 0.05919752537834828, 0.1368942774374304, 0.20349149348807222, 0.011099536008440302, 0.007399690672293535, 0.9705300484216922, 0.9775013058276798, 0.02463854398356981, 0.08623490394249433, 0.04188552477206868, 0.7021985035317396, 0.01971083518685585, 0.11826501112113509, 0.004927708796713962, 0.8877555077706158, 0.10895181231730285, 0.9460180720539161, 0.9767357369552078, 0.05050735010418743, 0.9217591394014206, 0.025253675052093714, 0.9683764553049058, 0.9941354359083848, 0.9213711866409686, 0.010620993505947765, 0.04248397402379106, 0.0053104967529738825, 0.007965745129460824, 0.010620993505947765, 0.3414418068542114, 0.006548199035560218, 0.1683822609144056, 0.3161844677170505, 0.15341494883312512, 0.013096398071120436, 0.9588750871271059, 0.9417760898974783, 0.9973346153924154, 0.9447514940058616, 0.9927596077396682, 0.37610485115483366, 0.4375097248127657, 0.17653901176655457, 0.2898649676658685, 0.5102581662217355, 0.043120408413104404, 0.057493877884139205, 0.09821870805207114, 0.6033706516918681, 0.3663321813843485, 0.9683793319298162, 0.14940967194902557, 0.8466548077111449, 0.0771768029872516, 0.10066539520076297, 0.214752843094961, 0.057043723947099015, 0.0872433425073279, 0.2617300275219837, 0.07046577664053408, 0.1275095005876331, 0.9682581510037807, 0.012296487475101866, 0.9869267773494802, 0.9928219796207554, 0.016577145094517517, 0.9824721326017382, 0.849595192225051, 0.9767901811187641, 0.9872442310413041, 0.06213039079381117, 0.9112457316425638, 0.947071259280049, 0.9940176215484455, 0.384850631683902, 0.060173495842589846, 0.08787927810104848, 0.08311734677537591, 0.12034699168517969, 0.09220830657893264, 0.11645086605508395, 0.010822571194710404, 0.0017316113911536647, 0.031169005040765963, 0.004761931325672578, 0.0017316113911536647, 0.0017316113911536647, 0.0030303199345189133, 0.975607424573785, 0.02075760477816564, 0.5330053236322818, 0.45863248777661453, 0.05145712793733135, 0.04502498694516493, 0.9004997389032986, 0.9949472259546114, 0.6845234291637692, 0.25669628593641347, 0.9914844170510018, 0.021743045661841084, 0.9784370547828488, 0.20086072331119806, 0.5287363157750655, 0.2658450749707033, 0.9434274738232413, 0.9635681601423262, 0.12691757601731962, 0.7415968167286519, 0.024885799219082277, 0.10452035672014556, 0.021773665997653447, 0.4717627632824914, 0.05806310932707586, 0.435473319953069, 0.978789254908791, 0.9551392636168636, 0.3909812797226089, 0.17771876351027677, 0.4087531560736366, 0.9595879321413096, 0.6041338077114126, 0.0600970803482557, 0.06642308880596683, 0.003163004228855563, 0.25936634676615616, 0.08418564163900172, 0.02266536505665431, 0.05828236728853965, 0.8321426885085939, 0.9575176472262059, 0.038609582549443786, 0.9935293285363406, 0.9698100605105243, 0.004702640932590279, 0.01763490349721355, 0.010580942098328128, 0.8711642327623492, 0.00822962163203299, 0.0858231970197726, 0.060569275707627004, 0.8967617764490331, 0.006729919523069667, 0.03364959761534833, 0.11528389747628418, 0.8646292310721313, 0.9903968121703707, 0.9842439614975428, 0.091544483228273, 0.044425999213720715, 0.2140525416661089, 0.10500690723243078, 0.1817427240561302, 0.021539878406652467, 0.32040569129895546, 0.004038727201247338, 0.014808666404573572, 0.994628008044695, 0.39121038921993406, 0.25691428545786715, 0.04087272723193341, 0.14013506479520027, 0.16932986996086696, 0.9690146427490169, 0.9810685906928931, 0.9860905644145139, 0.0037664855260265604, 0.18455779077530146, 0.06403025394245153, 0.07156322499450464, 0.6478355104765684, 0.02636539868218592, 0.9890831276804605, 0.9607252650730507, 0.7578091302337344, 0.06551469307724798, 0.17358016619435807, 0.002701636827927752, 0.9905428948651492, 0.00480846065468519, 0.6535777457294414, 0.20405305200971513, 0.01595945658176543, 0.07789734760147413, 0.01671943070470664, 0.021279275442353907, 0.002279922368823633, 0.0037998706147060546, 0.0037998706147060546, 0.9852683510553236, 0.15951151266566652, 0.8399398493023019, 0.23770657765083436, 0.2986970811270353, 0.10634241631747854, 0.35655986647625154, 0.21092629795705775, 0.753308206989492, 0.9930546321320877, 0.9872154096234574, 0.2947946017437237, 0.05359901849885885, 0.03684932521796546, 0.06364883446739489, 0.5493899396133032, 0.9767255110880471, 0.013992241542685576, 0.6016663863354798, 0.09094957002745624, 0.09794569079879903, 0.1935593413404838, 0.17577848029592122, 0.09765471127551179, 0.17577848029592122, 0.3710879028469448, 0.17089574473214564, 0.9886886842280932, 0.04094873148044996, 0.9571765983555179, 0.987423913469656, 0.009825113566862248, 0.7956975711559545, 0.19892439278898863, 0.9638222606164882, 0.9489535057063746, 0.040183698938706415, 0.009273161293547634, 0.9738561371784745, 0.022070394043704807, 0.2705322663344042, 0.5902522174568818, 0.04567427873178252, 0.08432174535098312, 0.009369082816775903, 0.9608988558863496, 0.1120588406388853, 0.868456014951361, 0.9865588380227088, 0.9857865263191286, 0.9956704488354482, 0.0021139499975274907, 0.24229743310679094, 0.16774437676623988, 0.5125522623412885, 0.07455305634055105, 0.0241110465031705, 0.9704696217526125, 0.9618524060389202, 0.19932283999569628, 0.1494921299967722, 0.21178051749542728, 0.06228838749865508, 0.3612726474921995, 0.9867110881882779, 0.2448886689521557, 0.35699679337505813, 0.1296001722051993, 0.01828714086331033, 0.028623350916485733, 0.2218309696027644, 0.919617975739608, 0.9715346318822906, 0.9904425900291176, 0.9848437052471251, 0.9799866166456522, 0.9905402610686888, 0.4548551208207189, 0.5418952982617207, 0.049774576009093824, 0.9457169441727827, 0.7115525191084555, 0.05473480916218889, 0.008049236641498366, 0.032196946565993464, 0.04507572519239085, 0.008049236641498366, 0.033806793894293134, 0.1078597709960781, 0.954327559978976, 0.9464481055313902, 0.9923454198805308, 0.982624573855951, 0.9946109040548844, 0.970773368756924, 0.7944193072696911, 0.21310690361999374, 0.0022670947193616357, 0.35820096565913845, 0.33553001846552205, 0.09068378877446542, 0.07732177115365434, 0.24742966769169386, 0.6649672319214273, 0.19951389786838977, 0.1749973595710029, 0.1107471212744028, 0.27137271701590304, 0.08876677659398698, 0.11497411063602123, 0.02789812978668162, 0.010990172340207912, 0.9879419367578752, 0.09271155442775086, 0.2648901555078596, 0.5016357319930091, 0.12913395081008155, 0.011588944303468858, 0.950288046568564, 0.9810745472689815, 0.014534437737318244, 0.9819520218469932, 0.9892530923605068, 0.0014395860913941458, 0.14971695350499117, 0.033110480102065354, 0.7946515224495685, 0.018714619188123897, 0.04483786164336122, 0.09928383649601413, 0.8519193712238632, 0.20685251904723248, 0.7637631472513199, 0.0159117322344025, 0.21539463863933916, 0.04666883837185682, 0.4074548580927499, 0.21718959396133367, 0.05923352562581827, 0.048463793693851315, 0.005384865965983479, 0.0189368686663075, 0.05681060599892251, 0.034717592554897085, 0.048920244054627714, 0.015780723888589584, 0.4749997890465465, 0.32666098449380443, 0.015780723888589584, 0.006312289555435834, 0.29951963824789035, 0.05102927170149243, 0.024405303857235508, 0.12202651928617754, 0.492543405118753, 0.00887465594808564, 0.00221866398702141, 0.9856064392795466, 0.9585733260402385, 0.9724491693502105, 0.8771483560997984, 0.9828462844957406, 0.28575075214615775, 0.6667517550077013, 0.33991004748096804, 0.008204725284023367, 0.5602655265375955, 0.062121491436176915, 0.028130486688080113, 0.9391574636188057, 0.10542590935669967, 0.056433869126233355, 0.0006201524079805863, 0.12341032918813667, 0.23441761021666163, 0.4756568969211097, 0.0031007620399029316, 0.9776115393051319, 0.981217848501407, 0.4768641180205183, 0.10596980400455962, 0.15895470600683942, 0.23843205901025916, 0.9663532355539284, 0.9776297546142058, 0.9290415445807356, 0.046452077229036784, 0.9934385854487258, 0.13916094381315997, 0.03896506426768479, 0.8182663496213807, 0.2253564647697714, 0.058425750125496285, 0.21700992903755764, 0.49244560820061156, 0.980405664654374, 0.9897808817382122, 0.9765329204022304, 0.035920866354353154, 0.010564960692456809, 0.008451968553965447, 0.8937956745818461, 0.03380787421586179, 0.014790944969439532, 0.9845855399173471, 0.9155299589001809, 0.9886974721066168, 0.990014215141313, 0.9622735199311203, 0.9691112178681704, 0.9920721593059525, 0.41521903025958357, 0.5780500225182438, 0.9516341580641557, 0.04229485146951803, 0.9818625726470525, 0.01570980116235284, 0.9978885034463107, 0.9870491962688258, 0.08037072643887413, 0.033196604398665404, 0.2550896969581657, 0.2201459028543074, 0.23412342049585072, 0.08037072643887413, 0.09260105437522453, 0.2733192831591427, 0.32301369827898685, 0.372708113398831, 0.9875468637171412, 0.14167956378399751, 0.2420359214643291, 0.28335912756799503, 0.03541989094599938, 0.011806630315333126, 0.2715524972526619, 0.011806630315333126, 0.005903315157666563, 0.06219874860113678, 0.399849098150165, 0.07108428411558489, 0.05331321308668866, 0.4087346336646131, 0.9574832489333763, 0.9992789889790165, 0.40135524697312824, 0.24710891676384758, 0.3494151561883705, 0.9951556478209961, 0.058041069712311356, 0.0036275668570194598, 0.429866672556806, 0.0072551337140389196, 0.00544135028552919, 0.15054402456630758, 0.10882700571058379, 0.00544135028552919, 0.11245457256760326, 0.11426835599611299, 0.0072551337140389196, 0.8942535364045743, 0.09857912999735464, 0.790562872281845, 0.2076593719818671, 0.9928058518148419, 0.9900792657250768, 0.013304620467975693, 0.05321848187190277, 0.12639389444576907, 0.7650156769086023, 0.03326155116993923, 0.0767659789591307, 0.9211917475095684, 0.9879925409706838, 0.9944270350270633, 0.9478319012696046, 0.026254880095048734, 0.7635794294310007, 0.20785113408580247, 0.26310401182944987, 0.7357167738193876, 0.10107117955939836, 0.8918045255241032, 0.9073487800669233, 0.5832278346241254, 0.24276488547806235, 0.05732696297874422, 0.09285353158528993, 0.023684379071030475, 0.9696163673627523, 0.9604600353898357, 0.03742052085934425, 0.969651902629467, 0.47564454197957884, 0.05562260011155495, 0.1219418540907166, 0.01711464618817075, 0.059188151400757186, 0.0534832693380336, 0.015688425672489858, 0.12408118486423796, 0.01426220515680896, 0.00713110257840448, 0.001426220515680896, 0.05419637959587405, 0.25035433061226636, 0.7331805396502087, 0.9979018622191627, 0.9928760812729733, 0.9752930576176448, 0.9353951210696968, 0.24482261268993788, 0.7519551675476663, 0.8188920285673079, 0.010810455822670732, 0.06756534889169208, 0.09999671635970427, 0.09409662585619791, 0.8782351746578471, 0.9853520724087694, 0.985604535718635, 0.6916551018203924, 0.05708477807730686, 0.0199132946781303, 0.05044701318459675, 0.08629094360523129, 0.0929287084979414, 0.08419925593311871, 0.0436588734468023, 0.04054038248631642, 0.8170446316473001, 0.01559245480242939, 0.9825602661588311, 0.9607878135390431, 0.9605117973049575, 0.9444643684167875, 0.9878320900473322, 0.34953197389349466, 0.07701551967144797, 0.553326887485634, 0.01777281223187261, 0.6387530503896797, 0.2133903087317354, 0.020559199180133974, 0.043008899434303256, 0.017959760203335427, 0.06451334915145489, 0.0016541884397808944, 0.9812906829402479, 0.2086870457737317, 0.1610416015331537, 0.017152359926608084, 0.015246542156984963, 0.5145707977982426, 0.0647978041671861, 0.009529088848115602, 0.008576179963304042, 0.26248648878671793, 0.7374620399245884, 0.1275790602864844, 0.04090321016818584, 0.030190464647946693, 0.03798155229902971, 0.007791087651083018, 0.23665428740164668, 0.43045759272233675, 0.02045160508409292, 0.02045160508409292, 0.03700766634264434, 0.01071274552023915, 0.9930504283485185, 0.7690760555199858, 0.12646195797222665, 0.01873510488477432, 0.052458293677368095, 0.026229146838684048, 0.006557286709671012, 0.1746763826010918, 0.8151564521384285, 0.9297406672508115, 0.10075392784745864, 0.08732007080113081, 0.10747085637062255, 0.6784097808395548, 0.026867714092655638, 0.9619660972552836, 0.28412786989919236, 0.5984529047152071, 0.07686551069736605, 0.024706771295581943, 0.008235590431860647, 0.002745196810620216, 0.005490393621240432, 0.9978420741885289, 0.9417053500218289, 0.9633315318831914, 0.360102970807309, 0.06844932502948849, 0.07737749785942177, 0.04761692175964417, 0.023808460879822083, 0.03571269131973313, 0.053569036979599687, 0.026784518489799843, 0.30355787621773156, 0.9519705414366081, 0.9956379874256552, 0.9868858170784897, 0.48174940913678005, 0.07131159016827336, 0.18382543243377134, 0.18857953844498956, 0.02139347705048201, 0.02693993406356994, 0.0015847020037394082, 0.020601126048612306, 0.00396175500934852, 0.9647190809542909, 0.39586913058276374, 0.015133829941795797, 0.16965819882118446, 0.36878754016060283, 0.021505968864657186, 0.0007965173653576735, 0.0023895520960730207, 0.025488555691445553, 0.01579130226620094, 0.8632578572189846, 0.021055069688267918, 0.09474781359720563, 0.9803368373917232, 0.9681450289633984, 0.48517994218225774, 0.15618173376914582, 0.12568470883197533, 0.11182242476962512, 0.02864872039552379, 0.08964277026986477, 0.0027724568124700443, 0.9748714178718128, 0.9923699365500106, 0.9898476242928378, 0.31465584096105814, 0.07230948991444928, 0.168722143133715, 0.24322282971223852, 0.07888307990667195, 0.08940082389422821, 0.02804731730015003, 0.002629435996889065, 0.0017529573312593768, 0.9548657978640382, 0.14267260803434811, 0.7948902447627966, 0.06114540344329205, 0.9860685634918924, 0.9823969131585033, 0.3736842229010902, 0.61322539142743, 0.026839799657994514, 0.18251063767436268, 0.1878785976059616, 0.18251063767436268, 0.2952377962379396, 0.02147183972639561, 0.026839799657994514, 0.07515143904238464, 0.8434256468566365, 0.9739707204164346, 0.020185921666661857, 0.8826296553068858, 0.10360734438223473, 0.010491882975416176, 0.002622970743854044, 0.9623696193496343, 0.9595200154758056, 0.037799273336925676, 0.9921735034622521, 0.8381811270486649, 0.07619828427715135, 0.0825481413002473, 0.00172071461377968, 0.8758437384138571, 0.00172071461377968, 0.01376571691023744, 0.09808073298544176, 0.0086035730688984, 0.10650072192471749, 0.14200096256629, 0.7277549331522362, 0.9700248897673771, 0.3104484281564745, 0.040493273237801025, 0.040493273237801025, 0.5804035830751479, 0.9862198036124362, 0.9527865185092768, 0.022186907878382067, 0.1664018090878655, 0.16085508211827, 0.21077562484462964, 0.07210745060474172, 0.11093453939191034, 0.2606961675709893, 0.9132405129377834, 0.9600105861637629, 0.9401238631492038, 0.12421292087382965, 0.0639884743895486, 0.048932362768478344, 0.04140430695794322, 0.4102790416741646, 0.0639884743895486, 0.24466181384239175, 0.27403655566532886, 0.05769190645585871, 0.6634569242423751, 0.02415583062584913, 0.2512206385088309, 0.7150125865251342, 0.0048311661251698255, 0.9973522081755825, 0.8580178087425497, 0.13314069446005083, 0.04050811532127322, 0.09837685149452068, 0.05208186255592272, 0.8101623064254644, 0.8506255583371604, 0.14395201756475023, 0.8953748039521622, 0.01607263434159194, 0.5116455265406769, 0.07232685453716374, 0.2678772390265324, 0.002678772390265324, 0.12322352995220488, 0.9768986049234729, 0.02021169527427875, 0.9906272873736128, 0.967457776780665, 0.4874428898950966, 0.07678894840813165, 0.43569381596787743, 0.9875347159979897, 0.010477821920403073, 0.9926511991680602, 0.019821729472553017, 0.9778719873126156, 0.029290598169824617, 0.05125854679719308, 0.9153311928070192, 0.9924606697953722, 0.9876015623966339, 0.9741838258167059, 0.40625587172791794, 0.5854864033725876, 0.9976206246562324, 0.9982578452783462, 0.9890611252537878, 0.9879212135187374, 0.62632402884711, 0.17997816920893966, 0.0805402307210005, 0.07964033987495579, 0.0013498362690670474, 0.03194612503458679, 0.038525556880504394, 0.9246133651321053, 0.9236116103573391, 0.9795160914216613, 0.9516403256601353, 0.7849505499246455, 0.21025461158695863, 0.26443586652122686, 0.462762766412147, 0.269521171646635, 0.21138957565456315, 0.10779468427418122, 0.06019703147778951, 0.34298308632694025, 0.08049603046448597, 0.1686916812342706, 0.02799861929199512, 0.9679540967318523, 0.02880815764082894, 0.9543234741713513, 0.2880733001728489, 0.028377369867773176, 0.008599202990234296, 0.16424477711347504, 0.014618645083398302, 0.3792248518693324, 0.1049102764808584, 0.012038884186328013, 0.19873522820978787, 0.7204152022604811, 0.0813007751767314, 0.32727408619926324, 0.25626178447678155, 0.3689552198189807, 0.001543745689619166, 0.015437456896191661, 0.029331168102764156, 0.017018315232799917, 0.8338974464071959, 0.06807326093119967, 0.07658241854759962, 0.9682150215737139, 0.9878815385475603, 0.979478828149113, 0.26654899451214425, 0.42351039385013073, 0.06677994080925242, 0.058218409936271344, 0.046803035438963234, 0.12956450054444701, 0.007990762148115674, 0.9891204684358939, 0.9844734399581805, 0.013863965598722239, 0.12477569038850016, 0.8457019015220566, 0.14774677183418244, 0.12167381209873848, 0.7213518860139495, 0.6964618679455488, 0.10912305765045464, 0.01845463474970924, 0.15325370596497673, 0.021664136445310848, 0.9839823992911316, 0.9400603914356879, 0.21000023203202398, 0.7731826724815428, 0.2597233935395196, 0.7392127354586329, 0.9815487762178642, 0.16493331496313154, 0.11495352255006137, 0.25989492054796487, 0.034985854689149117, 0.029987875447842097, 0.029987875447842097, 0.3398625884088771, 0.02498989620653508, 0.9917663699346818, 0.3224786424937719, 0.1492956678211907, 0.5255207507305912, 0.9943240936992572, 0.10617082880390202, 0.12907041933023383, 0.14641859397139428, 0.02775707942585674, 0.16515462258384758, 0.2664679624882247, 0.14503074000010147, 0.01318461272728195, 0.9808726750604949, 0.9636150512722863, 0.0824016004415367, 0.15564746750068045, 0.46694240250204133, 0.004577866691196484, 0.23804906794221717, 0.05035653360316132, 0.007158162571802925, 0.4223315917363726, 0.09305611343343803, 0.4294897543081755, 0.050107138002620476, 0.18549801461439236, 0.8038247299957002, 0.18987622379057628, 0.8033224852678227, 0.017605083952933115, 0.7997738138618187, 0.07042033581173246, 0.06790532381845629, 0.04024019189241855, 0.9757670798745108, 0.9689903421197977, 0.9895674643708563, 0.9873334222456305, 0.01182435236222312, 0.9827817351536376, 0.9727819120091119, 0.9575599303081924, 0.9643767674760529, 0.9777882021578416, 0.9918958136954829, 0.9841033460681963, 0.4752207366700054, 0.5184226218218241, 0.11284803480592698, 0.8853335514155715, 0.9530089226103599, 0.902297871099641, 0.9716769439835969, 0.9646750268474704, 0.9840986193574768, 0.14486061550713036, 0.26110678844495105, 0.1233997835801481, 0.4471006651454641, 0.02503763724814599, 0.9756896563556335, 0.9861686493552655, 0.9311497495540668, 0.9362883162684319, 0.058978791575964216, 0.9884945114425753, 0.9898588264983788, 0.9886986240810808, 0.21159072567614806, 0.03648115959933587, 0.18240579799667936, 0.5545136259099053, 0.9442954846323816, 0.21392482706981863, 0.0756964772708589, 0.14892459115245066, 0.17278543724869966, 0.11519029149913311, 0.13658277420611498, 0.08310156743866032, 0.05348120676745466, 0.9722278558254769, 0.9878050120200901, 0.9877392978354432, 0.9958469735470404, 0.9275513551602141, 0.9870254361757537, 0.95350439707235, 0.9855895101473438, 0.4884642177584586, 0.002493320833105821, 0.12738602801867924, 0.2019589874815715, 0.17475912384768982, 0.004759976135929295, 0.03616222063585483, 0.14274560777311118, 0.03996877017647113, 0.1046801123669482, 0.026645846784314087, 0.6261773994313811, 0.02283929724369779, 0.9772088259829378, 0.061550797107300596, 0.929417036320239, 0.9906897025088163, 0.19142093098662746, 0.7656837239465099, 0.9807261718483028, 0.20377702699978872, 0.03918788980765168, 0.10188851349989436, 0.01959394490382584, 0.6152498699801313, 0.01959394490382584, 0.06908139056321143, 0.2676903884324443, 0.08635173820401429, 0.06908139056321143, 0.09498691202441571, 0.2676903884324443, 0.12952760730602142, 0.9805140605747515, 0.07151714342727863, 0.9118435786978026, 0.9750467227398626, 0.9909790948796332, 0.9618737585284745, 0.9865730548742694, 0.08707972769291976, 0.9099831543910114, 0.993938996899675, 0.14846935413182727, 0.8413263400803545, 0.017973916174913014, 0.9705914734453027, 0.9123037728813581, 0.06808237111054911, 0.4104218996788974, 0.015785457679957593, 0.5524910187985157, 0.9894456646682317, 0.44560821333953965, 0.5373510807917978, 0.023767976221585673, 0.0681348651685456, 0.019014380977268538, 0.025352507969691386, 0.026937039717797095, 0.82395650901497, 0.012676253984845693, 0.08915898926337429, 0.08915898926337429, 0.7578514087386815, 0.05943932617558286, 0.003531191305756382, 0.12359169570147337, 0.8686730612160699, 0.8252519640359697, 0.16557603100084742, 0.005256381936534839, 0.994191410724019, 0.09852814886347798, 0.5263310145739339, 0.012077644054232783, 0.1258617643546364, 0.0006356654765385676, 0.11569111673001929, 0.11886944411271214, 0.0019069964296157026, 0.9751419809236882, 0.9533129115508546, 0.9807402546413305, 0.44395659743413046, 0.05613244335374064, 0.08602114695768046, 0.27774624568539197, 0.010934891562417007, 0.06633834214532984, 0.021140790354006213, 0.019682804812350612, 0.01676683372903941, 0.1309452261276123, 0.016716411846078166, 0.07243778466633873, 0.11701488292254716, 0.23681583448610735, 0.42348243343398023, 0.9745411367432749, 0.15731678346748248, 0.8422498561028293, 0.953369140373154, 0.936114911434292, 0.03930253444953134, 0.021437746063380735, 0.9611772985471254, 0.9961156337660223, 0.053388423838732504, 0.939636259561692, 0.06869733923008692, 0.3408444907954313, 0.07222027970342472, 0.09071571718844812, 0.12770659215849492, 0.18495437485023403, 0.004403675591672238, 0.06165145828341134, 0.037871610088381254, 0.010568821420013372, 0.9770545678975939, 0.9750292017004841, 0.9704265608289653, 0.6873291132249548, 0.27493164528998193, 0.9737807947082421, 0.8909860215224478, 0.1063193403833509, 0.9910926030203706, 0.08667478377729625, 0.7564344766018583, 0.04097353414926732, 0.036245818670505706, 0.01733495675545925, 0.0031518103191744092, 0.04885305994720334, 0.011031336117110432, 0.14314468937959973, 0.40340776097887193, 0.4554603752987264, 0.9970028687923691, 0.9979299963621856, 0.039236251335983165, 0.9547487825089236, 0.05030098128005914, 0.930568153681094, 0.2663562812896759, 0.3950852635610783, 0.08542384076996287, 0.08186451407121442, 0.011271201212703435, 0.1601697014436804, 0.9864382055290861, 0.005304597162467714, 0.10078734608688657, 0.891172323294576, 0.9754727228308927, 0.9888755442839342, 0.9935667714158748, 0.020801094293972606, 0.12908914400083, 0.6931658775020871, 0.15600820720479455, 0.9716677297958473, 0.9628822383884356, 0.016320037938787044, 0.9769920465691281, 0.053785205914462904, 0.03073440337969309, 0.9105067001234077, 0.971374119581071, 0.980994838922432, 0.14586657905436184, 0.5727408324634502, 0.09652935378597476, 0.18018812706715287, 0.0032176451261991586, 0.9954023023022636, 0.594755575815822, 0.008746405526703263, 0.3848418431749436, 0.9760127046806082, 0.9901098560848103, 0.14614624783924762, 0.835121416224272, 0.236710170303723, 0.1415020206243658, 0.15460405957106632, 0.37209790608629517, 0.03231836273519465, 0.0620163176810492, 0.9713553581038763, 0.9660820381150805, 0.9938152486410148, 0.20281889024435304, 0.28188388135655845, 0.1340667240598266, 0.017188041546131613, 0.07562738280297909, 0.05156412463839484, 0.030938474783036903, 0.10312824927678968, 0.10312824927678968, 0.8732320731044068, 0.12474743901491525, 0.9027841605612619, 0.9541840206832866, 0.03756630002690105, 0.8952307853296751, 0.9533403462090283, 0.990901384850459, 0.9401459087169542, 0.982815065993376, 0.2399835121170146, 0.1071206680383906, 0.0465019954275184, 0.2715384375856878, 0.008303927754914, 0.3246835752171374, 0.0008303927754914, 0.0008303927754914, 0.7796328186994874, 0.11761979045507519, 0.016711008479956036, 0.08548323568592896, 0.0006427310953829246, 0.9933297664595855, 0.9874697226350763, 0.9718201937956469, 0.9666006219392913, 0.924684063405263, 0.965679075557292, 0.9867242532713986, 0.011394044495050791, 0.9907414655270123, 0.9109078818940042, 0.08704921738236217, 0.9925846378299904, 0.8691622505901805, 0.062083017899298605, 0.012113759590107045, 0.04088393861661128, 0.015142199487633807, 0.9917239722824083, 0.08193456718226341, 0.022345791049708203, 0.43698435830540483, 0.19118065675861462, 0.26566662692430865, 0.09626815848199671, 0.35940112499945437, 0.5391016874991815, 0.4175988167653107, 0.582212458228815, 0.36485891950940863, 0.6202601631659946, 0.09226760452159108, 0.8919201770420471, 0.9893658575984926, 0.9543406654616137, 0.987850561733116, 0.8606079070289203, 0.04991766418022361, 0.9413045245413595, 0.9929739971673363, 0.8357233317192003, 0.1581098195144433, 0.07033143634611919, 0.9231001020428142, 0.6060774699110075, 0.06932425223540539, 0.038230286159230915, 0.07238267512814386, 0.16974247054698527, 0.01937001165401033, 0.024467383141907786, 0.12844967496580897, 0.8706033525460387, 0.9938519852986284, 0.21890425144315373, 0.7540035327486406, 0.3649278073487331, 0.06361126917088009, 0.09709088452397487, 0.4184951919136848, 0.05356738456495165, 0.05909217070629994, 0.11227512434196989, 0.04136451949440996, 0.04136451949440996, 0.45500971443850957, 0.053182953635669945, 0.24818711696645976, 0.09671533075202624, 0.8704379767682361, 0.1554626788868116, 0.8291342873963284, 0.9932841604942872, 0.11465799879490461, 0.0491391423406734, 0.7862262774507744, 0.0409492852838945, 0.9343487075673547, 0.18682427173021784, 0.25476037054120615, 0.5434887904879064, 0.8582415522023472, 0.021480002932872236, 0.9666001319792507, 0.24056515675899187, 0.7587054943937436, 0.17393676136389194, 0.7951394805206488, 0.7398105753370123, 0.018805202343774016, 0.20954368325919617, 0.2149165982145602, 0.12894995892873612, 0.42714673895143834, 0.940482377875337, 0.794204170819692, 0.0992755213524615, 0.10423929742008457, 0.9923631756604416, 0.688702619169007, 0.15333184249864698, 0.10480257248224019, 0.052659420656100984, 0.960568865271373, 0.9190006865853126, 0.03017614194757743, 0.03017614194757743, 0.019202999421185637, 0.9856189617216308, 0.03958567212869995, 0.9550043401048862, 0.9902297910334907, 0.057444646829660904, 0.1077087128056142, 0.23695916817235124, 0.1077087128056142, 0.04308348512224568, 0.014361161707415226, 0.4308348512224568, 0.9727277676013297, 0.13333622071427306, 0.14545769532466152, 0.10909327149349615, 0.606073730519423, 0.8007118434670042, 0.9940444688688173, 0.040743399965570894, 0.9506793325299876, 0.9883891837736821, 0.9955285497818149, 0.6137585356584276, 0.3844611052017679, 0.9873451995486262, 0.9866387781651822, 0.011135877857394833, 0.2856810227535862, 0.1423530010990566, 0.030225637219662704, 0.07605160332689326, 0.205729337204801, 0.04680098666270354, 0.1950041110945981, 0.014625308332094857, 0.0029250616664189713, 0.995481598870714, 0.002071413990314196, 0.008285655961256784, 0.18642725912827762, 0.7767802463678234, 0.01864272591282776, 0.006214241970942587, 0.9874471538916061, 0.01623337417622201, 0.9821191376614317, 0.7729027600308979, 0.2259838536699677, 0.9429035870771597, 0.9836444989050268, 0.9809770323958202, 0.9853395783052346, 0.05387684489137938, 0.18632408858268704, 0.012346776954274441, 0.014591645491415249, 0.029183290982830498, 0.27387396153117854, 0.28397586994831214, 0.012346776954274441, 0.0067346056114224225, 0.12571263807988522, 0.9711320358819346, 0.02490082143287012, 0.9872825139772688, 0.9707606415330398, 0.05664710702250904, 0.9252360813676477, 0.9938978210735212, 0.8361188751053453, 0.0659305206176258, 0.09290209723392726, 0.9736708527929296, 0.9990658043132004, 0.9891091142012641, 0.06656038401368258, 0.15029764132121873, 0.18250427874719416, 0.07514882066060936, 0.47880534306616823, 0.04723640155809731, 0.19584796902482005, 0.7833918760992802, 0.2163150313372688, 0.31036504496216827, 0.056430008174939685, 0.4138200599495577, 0.9941452662227662, 0.9867723340878054, 0.9878348258778492, 0.9637030804128761, 0.9272019841192423, 0.9693702803083906, 0.02593632857012416, 0.9848251078180416, 0.9937240623429302, 0.9802338702721901, 0.9819338564455061, 0.9932901577522938, 0.9925367681604238, 0.9597775428375407, 0.9857055364079139, 0.9847618802947784, 0.9883872296463566, 0.09213459619760148, 0.04364270346202175, 0.4946173059029132, 0.11153135329183336, 0.19881676021587688, 0.048491892735579724, 0.009698378547115945, 0.9902548775455172, 0.13800864467697238, 0.8280518680618343, 0.4160416809839314, 0.1975971382450916, 0.38522377868882535, 0.9939010358853245, 0.6717870905985255, 0.10335186009208083, 0.03464636218995892, 0.12449201329273374, 0.06518213903534643, 0.9936798972124902, 0.055089267679093966, 0.03359101687749632, 0.137051348860185, 0.12495858278428632, 0.5347689886897414, 0.11017853535818793, 0.0026872813501997057, 0.0024967922172119137, 0.07407150244395344, 0.005825848506827798, 0.9146582155719644, 0.0016645281448079423, 0.12992681583293036, 0.8595158585870777, 0.9905338597749537, 0.11249986642680693, 0.7036008595168094, 0.0877117602649681, 0.09343209245616169, 0.04665392609471605, 0.9470746997227358, 0.9886322243300989, 0.8962847441952011, 0.14904730228714835, 0.33535643014608374, 0.5092449494810901, 0.9916608512981494, 0.188456829269639, 0.07328876693819295, 0.26174559620783194, 0.06281894308987966, 0.40832313008421783, 0.9746376891294668, 0.9768929914605322, 0.962048509485909, 0.49810346102289216, 0.0711576372889846, 0.41508621751907676, 0.9481528081269593, 0.04444466288095122, 0.045725311539906735, 0.045725311539906735, 0.28197275449609155, 0.045725311539906735, 0.015241770513302246, 0.4724948859123696, 0.08382973782316236, 0.06023256467049599, 0.25096901946039996, 0.2911240625740639, 0.39151167035822393, 0.9355942159932252, 0.039393440673398956, 0.019696720336699478, 0.003939344067339896, 0.9786370935134902, 0.09311932424295785, 0.019442496270507682, 0.23024008741390678, 0.05832748881152305, 0.48810898531748237, 0.03376854615403966, 0.07674669580463558, 0.014081922599199414, 0.511643187770912, 0.03285781939813196, 0.41463438764309385, 0.0250345290652434, 0.30854976517808586, 0.09298760046462862, 0.0634006366804286, 0.008453418224057147, 0.5241119298915431, 0.9520441552202693, 0.030047412318245578, 0.04507111847736837, 0.9164460757064901, 0.9862898972539875, 0.17418106624571497, 0.8211393123012277, 0.6801914003310784, 0.13656864373119118, 0.05834000314730497, 0.07623977684022808, 0.01856272827414249, 0.022540455761458737, 0.006629545812193746, 0.0006629545812193746, 0.9074459637992623, 0.9868090523467253, 0.969666422736815, 0.03880340279441927, 0.954563708742714, 0.994310348003798, 0.8150732760801165, 0.035437968525222456, 0.14681444103306446, 0.7826174805728169, 0.12853206797728745, 0.019993877240911378, 0.04570029083636887, 0.022850145418184434, 0.9963275935419594, 0.041224270577918234, 0.041224270577918234, 0.1394350328370764, 0.19157161033267886, 0.036374356392280795, 0.46316680472837546, 0.0424367491243276, 0.0121247854640936, 0.00484991418563744, 0.030311963660233997, 0.9853928834710465, 0.985270011047523, 0.990310992291052, 0.14561997023295847, 0.8251798313200981, 0.9920053269556535, 0.020632038385333402, 0.28426363997570464, 0.34042863335800116, 0.0515800959633335, 0.03782540370644457, 0.2005892620796303, 0.06418856386548169, 0.6195218704415345, 0.14223716413198498, 0.05136342038099457, 0.04267114923959549, 0.018964955217597997, 0.12406241538178689, 0.0007902064673999165, 0.05420624019724329, 0.2951228632961024, 0.06625207135218625, 0.16864163616920136, 0.13852705828184397, 0.24091662309885906, 0.030114577887357382, 0.9878790567936062, 0.9926960907701674, 0.9843675933403909, 0.9843821284434667, 0.9863892408452121, 0.8846819731971836, 0.008580929124319667, 0.47576484811505704, 0.05815963073149996, 0.05053213817654915, 0.10249443120715157, 0.10344786777652042, 0.1935476235818769, 0.0004767182846844259, 0.006197337700897537, 0.2645744497475449, 0.0014457620204783874, 0.05493895677817872, 0.014457620204783873, 0.08963724526966002, 0.5754132841503982, 0.6956703529079717, 0.08660956200862299, 0.07543413465267164, 0.1019757746230561, 0.006984642097469596, 0.027240104180131425, 0.005587713677975677, 0.9849423485598656, 0.031863625886851626, 0.8892848315694045, 0.0057933865248821145, 0.046347092199056916, 0.026070239361969515, 0.9930398082069503, 0.9891538570623346, 0.2553737625004388, 0.638434406251097, 0.005076466508851176, 0.8845742891673174, 0.03299703230753264, 0.07614699763276764, 0.001269116627212794, 0.9076414047936828, 0.09112865509976735, 0.028272799314839333, 0.18377319554645566, 0.035340999143549164, 0.7421609820145325, 0.01060229974306475, 0.06313743056068016, 0.2624149457678269, 0.6629430208871417, 0.009865223525106276, 0.9805960408710439, 0.7164392627541145, 0.27035443877513754, 0.9517216233612337, 0.041987718677701485, 0.9892400665244249, 0.5702815225424673, 0.09124504360679477, 0.3193576526237817, 0.9888029788162235, 0.15650886582962595, 0.16749194413345936, 0.04667808279129195, 0.054915391519167, 0.2608481097160433, 0.16200040498154264, 0.1427800179498342, 0.00823730872787505, 0.9932559418503638, 0.17923500389044292, 0.04750807332035837, 0.7190994734399698, 0.051826989076754586, 0.05541684035867558, 0.7652078778293834, 0.001518269598867824, 0.01746010038697998, 0.12146156790942593, 0.019737504785281714, 0.0068322131949052085, 0.012146156790942593, 0.9697778930203507, 0.0420584117213531, 0.01147047592400539, 0.13382221911339623, 0.22176253453077088, 0.09558729936671159, 0.4932304647322318, 0.9283996777321296, 0.01203489210397301, 0.0571657374938718, 0.06619190657185156, 0.7491720334723199, 0.07521807564983131, 0.03610467631191903, 0.8632619712412487, 0.7104537726546108, 0.15379012608592507, 0.00754798164838896, 0.1179372132560775, 0.0094349770604862, 0.5848249779998401, 0.08571364787805699, 0.038684920723724835, 0.26093358292081065, 0.02958258643578958, 0.6833465331815933, 0.066788620437658, 0.09925531092818618, 0.1502743959847305, 0.2953197177218698, 0.09070534187171717, 0.02742254521703077, 0.07382992943046746, 0.13500329952999765, 0.010547132775781065, 0.3501648081559314, 0.01898483899640592, 0.7691600464455465, 0.07318758072103045, 0.004142693248360215, 0.15189875243987452, 0.9880163109070548, 0.9622836555908743, 0.9689333001189387, 0.17014412543123356, 0.8223632729176289, 0.9930812214003909, 0.9683060022712365, 0.9838282720401182, 0.604222582216198, 0.10791929817360961, 0.07999831696008852, 0.0699593124788225, 0.026979824543402402, 0.08815500810111715, 0.007215534470909945, 0.009411566701186884, 0.0062743778007912565, 0.992191014739965, 0.9872369652803036, 0.9719662194043869, 0.0032235195508984395, 0.06769391056886723, 0.6995037425449614, 0.022564636856289077, 0.038682234610781276, 0.045129273712578154, 0.12249374293414071, 0.9576628585895428, 0.9935792163151298, 0.8284809894176796, 0.05884537868761089, 0.03871406492605979, 0.03561693973197501, 0.03561693973197501, 0.8973663136372024, 0.8689220040791229, 0.0019438971008481497, 0.025270662311025947, 0.023326765210177798, 0.07775588403392598, 0.9949355058272104, 0.029378129764802273, 0.930307442552072, 0.03917083968640303, 0.9773753377302851, 0.9595305817058554, 0.9919957195606776, 0.9575015281006733, 0.9690599421874623, 0.9807096875660084, 0.9685808632889208, 0.9740611416847004, 0.05441552242392619, 0.9371562195231733, 0.006046169158214021, 0.9832886354329564, 0.9912258924641886, 0.2313860104161004, 0.08291332039910265, 0.07230812825503138, 0.5100133312921546, 0.015425734027740027, 0.08676975390603765, 0.0009641083767337517, 0.6737228876718155, 0.31913189416033366, 0.06497617707020598, 0.024646136130078128, 0.8872609006828126, 0.022405578300071022, 0.9830405707342703, 0.9969681506091198, 0.9978608065453094, 0.9966557925437717, 0.9847946143874996, 0.9875917514235486, 0.976638503511257, 0.9795605249347598, 0.9790842445187545, 0.01780153171852281, 0.03658493145310151, 0.10365730578378761, 0.8582215170040062, 0.9191471721326882, 0.9654222205588997, 0.07298592573766588, 0.9244883926771011, 0.9970904529314675, 0.9761241028621722, 0.18438471160608635, 0.37710596602415, 0.0372692502182515, 0.09464428015950709, 0.130932760635173, 0.15300007984334824, 0.006865388198098959, 0.01569231588136905, 0.07159882907870836, 0.021877419996272, 0.6921220144275142, 0.21280763087282764, 0.0469957938288403, 0.03957540532954973, 0.27950130013994495, 0.6307330224396989, 0.03908477454270623, 0.36778132110677664, 0.061510464854095045, 0.030114498418150698, 0.10636184547687268, 0.3761108632224353, 0.017940552249111053, 0.49654943335614626, 0.09049265374247525, 0.08121135592273421, 0.06960973364805789, 0.17402433412014473, 0.02320324454935263, 0.06496908473818737, 0.9930170719736117, 0.19174404558898758, 0.7943681888686629, 0.2166426124393988, 0.06564927649678752, 0.06564927649678752, 0.2035127571400413, 0.03282463824839376, 0.4201553695794401, 0.19770003523526183, 0.7908001409410473, 0.227292401156023, 0.0394388641275291, 0.006227189072767753, 0.6071509345948559, 0.11831659238258731, 0.01220441341559015, 0.9275354195848514, 0.016272551220786868, 0.040681378051967164, 0.9833658310023831, 0.019675342361186936, 0.9640917756981598, 0.9920450946790053, 0.9908137941919184, 0.9733748676341336, 0.3786900591541077, 0.6125868603963507, 0.0662856632478713, 0.07675182060279835, 0.0034887191183090157, 0.11512773090419752, 0.052330786774635235, 0.6837889471885671, 0.0034887191183090157, 0.9459099001208721, 0.9660381846612622, 0.9907054750787805, 0.9629177950015096, 0.9958143539343223, 0.9892267011570283, 0.5670941589586584, 0.19893387241299992, 0.07373815537441865, 0.04880511003198932, 0.004243922611477332, 0.10397610398119464, 0.0026524516321733325, 0.9764687168892494, 0.9831076198457324, 0.14141422149374222, 0.05582140322121403, 0.8001067795040678, 0.842319778467931, 0.9920208323602112, 0.006505054638427614, 0.9934355525681801, 0.5254032005011615, 0.020739600019782693, 0.027652800026376923, 0.027652800026376923, 0.06221880005934808, 0.3318336003165231, 0.9846741334923506, 0.6242607934165438, 0.08500731859961334, 0.08350939228067743, 0.09886313704977058, 0.038946084292333864, 0.041192973770737745, 0.016851671088029076, 0.010859965812285405, 0.9233542708321084, 0.07550426746156934, 0.4751660097027035, 0.03429033059710232, 0.14695855970186708, 0.02449309328364451, 0.03429033059710232, 0.2106406022393428, 0.07347927985093354, 0.8548806238256842, 0.04353149801989035, 0.2263637897034298, 0.25683583831735307, 0.030472048613923244, 0.1741259920795614, 0.06529724702983553, 0.013059449405967104, 0.02611889881193421, 0.1610665426735943, 0.9984245864963488, 0.9961997203978407, 0.37128251066022444, 0.61342327848211, 0.071826311369427, 0.01295228565678192, 0.9137248790602518, 0.012159759751591864, 0.5920283029056289, 0.3951921919267356, 0.9880380226181282, 0.952370787038301, 0.9964547838337173, 0.9862864441281076, 0.9950541045240434, 0.9935277787613483, 0.9820804210092162, 0.15352611239605468, 0.10336411527655168, 0.019760786744046643, 0.5806631181712167, 0.03648145245054765, 0.1048841757953245, 0.26616521956420497, 0.33454312098091155, 0.2107847704829054, 0.036166823889828274, 0.12488856374456325, 0.023734478177699803, 0.0028255331163928336, 0.9714874663523398, 0.21063615158650664, 0.03176259428685418, 0.16132054466744358, 0.34437339068905054, 0.1320655236137621, 0.018388870376599784, 0.06854033504005375, 0.004179288721954497, 0.0008358577443908994, 0.02674744782050878, 0.9857368367180707, 0.00971169297259183, 0.9934612680987298, 0.5115168063507062, 0.16840943129627448, 0.10859187373202397, 0.14172159792145503, 0.05184188322235043, 0.016258105389257826, 0.00046013505818654225, 0.0009202701163730845, 0.3619028081362615, 0.625104850417179, 0.9870369420285625, 0.9826002041659356, 0.9939191165368937, 0.9635262974694279, 0.9956884965595472, 0.983507683416822, 0.9663783026877905, 0.9949942946802527, 0.212987964044564, 0.0384918007309453, 0.22068632419075304, 0.03720874070658046, 0.10521092199791715, 0.01603825030456054, 0.2514797647755093, 0.029510380560391396, 0.0006415300121824217, 0.08788961166899177, 0.5119786282961766, 0.041943632747281044, 0.3182389913206403, 0.001331543896739081, 0.09121075692662703, 0.021970474296194833, 0.007323491432064944, 0.005326175586956324, 0.9887072476011617, 0.9337263032552732, 0.24176290050514898, 0.24812508209738973, 0.17495999378662097, 0.20677090174782478, 0.12406254104869487, 0.9474280872424308], \"Term\": [\"abort\", \"absent\", \"acceleration\", \"accelerator\", \"accessories\", \"accident\", \"accusing\", \"acids\", \"adaptec\", \"adapter\", \"address\", \"address\", \"address\", \"address\", \"address\", \"address\", \"address\", \"address\", \"address\", \"addresses\", \"addresses\", \"addresses\", \"addresses\", \"adirondack\", \"administration\", \"administration\", \"administration\", \"advance\", \"advance\", \"advance\", \"advance\", \"advance\", \"advances\", \"aerospace\", \"afraid\", \"agents\", \"ahmet\", \"aids\", \"albicans\", \"allocated\", \"allocation\", \"allocation\", \"also\", \"also\", \"also\", \"also\", \"also\", \"also\", \"also\", \"also\", \"also\", \"also\", \"altitude\", \"aluminum\", \"aluminum\", \"aluminum\", \"amendment\", \"american\", \"american\", \"american\", \"american\", \"amiga\", \"amiga\", \"amiga\", \"among\", \"among\", \"among\", \"among\", \"among\", \"among\", \"amplifier\", \"amplifier\", \"analysis\", \"analysis\", \"analysis\", \"analysis\", \"analysis\", \"anas\", \"ancient\", \"ancient\", \"ancient\", \"andy\", \"andy\", \"anniversary\", \"annual\", \"annual\", \"annual\", \"annual\", \"anonymous\", \"anonymous\", \"antenna\", \"antenna\", \"anyone\", \"anyone\", \"anyone\", \"anyone\", \"anyone\", \"anyone\", \"anyone\", \"apartment\", \"appears\", \"appears\", \"appears\", \"appears\", \"appears\", \"appears\", \"appears\", \"apple\", \"apple\", \"application\", \"application\", \"application\", \"april\", \"april\", \"april\", \"april\", \"april\", \"april\", \"april\", \"april\", \"arab\", \"arabs\", \"archer\", \"archive\", \"archive\", \"archive\", \"archive\", \"arena\", \"argic\", \"argument\", \"argument\", \"argument\", \"argument\", \"ariane\", \"armenia\", \"armenian\", \"armenian\", \"armenians\", \"armenians\", \"armies\", \"around\", \"around\", \"around\", \"around\", \"around\", \"around\", \"around\", \"around\", \"assets\", \"assumption\", \"astronomical\", \"astronomy\", \"astronomy\", \"astronomy\", \"astros\", \"asynchronous\", \"atheism\", \"atheist\", \"atheists\", \"atlanta\", \"atlanta\", \"atlas\", \"australia\", \"australia\", \"australian\", \"auth\", \"available\", \"available\", \"available\", \"available\", \"available\", \"available\", \"available\", \"avenue\", \"avenue\", \"average\", \"average\", \"average\", \"average\", \"average\", \"aviation\", \"aviation\", \"award\", \"award\", \"awful\", \"azerbaijan\", \"azerbaijan\", \"back\", \"back\", \"back\", \"back\", \"back\", \"back\", \"back\", \"back\", \"back\", \"ball\", \"ball\", \"ball\", \"baltimore\", \"baltimore\", \"base\", \"base\", \"base\", \"base\", \"base\", \"base\", \"base\", \"baseball\", \"baseball\", \"baseball\", \"based\", \"based\", \"based\", \"based\", \"based\", \"based\", \"based\", \"based\", \"basketball\", \"bass\", \"bath\", \"battery\", \"batting\", \"baud\", \"baud\", \"beach\", \"beach\", \"beach\", \"beleive\", \"belief\", \"beliefs\", \"believe\", \"believe\", \"believe\", \"believe\", \"benefits\", \"benefits\", \"best\", \"best\", \"best\", \"best\", \"best\", \"best\", \"best\", \"best\", \"bethesda\", \"better\", \"better\", \"better\", \"better\", \"better\", \"better\", \"better\", \"bible\", \"biblical\", \"bike\", \"bikes\", \"billion\", \"bios\", \"bits\", \"bits\", \"bits\", \"bits\", \"blessed\", \"bloom\", \"blues\", \"body\", \"body\", \"body\", \"body\", \"body\", \"body\", \"boggs\", \"book\", \"book\", \"book\", \"book\", \"book\", \"book\", \"book\", \"book\", \"book\", \"books\", \"books\", \"books\", \"books\", \"books\", \"books\", \"books\", \"books\", \"books\", \"books\", \"boots\", \"borland\", \"boston\", \"boston\", \"boston\", \"boys\", \"boys\", \"boys\", \"brakes\", \"braves\", \"breaker\", \"breaker\", \"breakers\", \"bruins\", \"build\", \"build\", \"build\", \"build\", \"build\", \"build\", \"bullpen\", \"burning\", \"burnt\", \"burst\", \"burst\", \"bush\", \"bush\", \"byte\", \"byte\", \"byte\", \"bytes\", \"bytes\", \"bytes\", \"cable\", \"cable\", \"cache\", \"calculation\", \"calgary\", \"camera\", \"camera\", \"canada\", \"canada\", \"canada\", \"canada\", \"canada\", \"canada\", \"canada\", \"canada\", \"canadian\", \"canadian\", \"canadian\", \"canadian\", \"canadian\", \"canadian\", \"canadian\", \"canadiens\", \"cancer\", \"candida\", \"cannot\", \"cannot\", \"cannot\", \"cannot\", \"cannot\", \"cannot\", \"capacitor\", \"capitals\", \"capitol\", \"caps\", \"caps\", \"card\", \"card\", \"cardinals\", \"cards\", \"cards\", \"cards\", \"cards\", \"care\", \"care\", \"care\", \"care\", \"care\", \"carl\", \"carl\", \"carl\", \"carl\", \"cars\", \"cars\", \"cars\", \"catbyte\", \"catholic\", \"caught\", \"ceiling\", \"celebrate\", \"cells\", \"cells\", \"cells\", \"celp\", \"centaur\", \"center\", \"center\", \"center\", \"center\", \"center\", \"center\", \"center\", \"center\", \"chain\", \"chain\", \"chain\", \"chain\", \"championships\", \"char\", \"chars\", \"check\", \"check\", \"check\", \"check\", \"check\", \"check\", \"chevrolet\", \"chicago\", \"chicago\", \"chicago\", \"chicago\", \"chicago\", \"chinese\", \"chip\", \"chip\", \"chip\", \"chipset\", \"chris\", \"chris\", \"chris\", \"chris\", \"chris\", \"chris\", \"christ\", \"christian\", \"christian\", \"christianity\", \"christians\", \"church\", \"ciphertext\", \"circuit\", \"circuit\", \"circuit\", \"circuits\", \"citizens\", \"citizens\", \"citizens\", \"city\", \"city\", \"city\", \"city\", \"city\", \"city\", \"claim\", \"claim\", \"claim\", \"claim\", \"classified\", \"classified\", \"cleaning\", \"cleaning\", \"clemens\", \"client\", \"clients\", \"clinic\", \"clinic\", \"clip\", \"clip\", \"clipper\", \"clipper\", \"cmap\", \"cmos\", \"code\", \"code\", \"code\", \"code\", \"code\", \"cold\", \"cold\", \"cold\", \"coleman\", \"collision\", \"colorado\", \"colorado\", \"colorado\", \"colorado\", \"colorado\", \"colorado\", \"colorado\", \"colormap\", \"column\", \"column\", \"combustion\", \"come\", \"come\", \"come\", \"come\", \"come\", \"come\", \"comics\", \"commercial\", \"commercial\", \"commercial\", \"commercial\", \"commercial\", \"commercial\", \"community\", \"community\", \"community\", \"community\", \"comp\", \"comp\", \"comp\", \"comp\", \"compact\", \"compact\", \"compass\", \"compile\", \"compliant\", \"compress\", \"computer\", \"computer\", \"computing\", \"computing\", \"computing\", \"concurrent\", \"conference\", \"conference\", \"conference\", \"conference\", \"confidential\", \"connected\", \"connected\", \"connected\", \"connected\", \"connected\", \"connected\", \"connection\", \"connection\", \"connection\", \"connection\", \"connection\", \"connector\", \"consortium\", \"constant\", \"constant\", \"constitution\", \"contact\", \"contact\", \"contact\", \"contact\", \"contact\", \"contact\", \"contact\", \"contact\", \"continue\", \"continue\", \"continue\", \"continue\", \"continue\", \"contracts\", \"contrib\", \"control\", \"control\", \"control\", \"control\", \"control\", \"control\", \"control\", \"controller\", \"cooling\", \"cooling\", \"cooper\", \"copies\", \"copies\", \"copies\", \"copies\", \"copies\", \"cost\", \"cost\", \"cost\", \"cost\", \"cost\", \"could\", \"could\", \"could\", \"could\", \"could\", \"could\", \"countersteering\", \"court\", \"cover\", \"cover\", \"cover\", \"cover\", \"cover\", \"cover\", \"cranston\", \"crazy\", \"creative\", \"creative\", \"crime\", \"crimes\", \"criminal\", \"criminal\", \"criminals\", \"criticism\", \"criticism\", \"crohn\", \"cross\", \"cross\", \"cross\", \"cross\", \"cross\", \"cross\", \"cross\", \"crypt\", \"cryptography\", \"cryptography\", \"ctrl\", \"cubs\", \"current\", \"current\", \"current\", \"current\", \"current\", \"current\", \"current\", \"current\", \"current\", \"cycle\", \"cycle\", \"cylinder\", \"czech\", \"dallas\", \"damn\", \"darryl\", \"data\", \"data\", \"data\", \"data\", \"data\", \"data\", \"database\", \"database\", \"databases\", \"david\", \"david\", \"david\", \"david\", \"david\", \"david\", \"david\", \"david\", \"david\", \"david\", \"david\", \"davidsson\", \"davis\", \"davis\", \"davis\", \"dawn\", \"deck\", \"decrypted\", \"defects\", \"defenseman\", \"degrees\", \"degrees\", \"degrees\", \"degrees\", \"dept\", \"detector\", \"detectors\", \"detroit\", \"dial\", \"diamond\", \"differential\", \"differential\", \"digest\", \"digest\", \"directory\", \"directory\", \"directory\", \"disease\", \"diseases\", \"disk\", \"disks\", \"disks\", \"display\", \"display\", \"divine\", \"doctor\", \"doctor\", \"dodgers\", \"dortmund\", \"drawings\", \"drill\", \"drive\", \"drive\", \"drive\", \"driver\", \"driver\", \"driver\", \"driver\", \"drivers\", \"drivers\", \"drivers\", \"drivers\", \"drives\", \"drugs\", \"drugs\", \"drugs\", \"dtmedin\", \"earth\", \"earth\", \"earth\", \"earth\", \"earth\", \"earth\", \"earth\", \"earth\", \"east\", \"east\", \"east\", \"east\", \"east\", \"east\", \"east\", \"east\", \"echo\", \"economy\", \"economy\", \"edge\", \"edge\", \"edge\", \"edge\", \"edge\", \"edge\", \"edmonton\", \"education\", \"education\", \"education\", \"education\", \"eisa\", \"electric\", \"electric\", \"electric\", \"electric\", \"electrical\", \"electron\", \"electronic\", \"electronic\", \"electronic\", \"electronics\", \"electronics\", \"electronics\", \"email\", \"email\", \"email\", \"email\", \"emulation\", \"encrypted\", \"encrypted\", \"encryption\", \"enforcement\", \"enforcement\", \"engine\", \"engine\", \"engine\", \"engine\", \"engineering\", \"engineering\", \"engines\", \"engines\", \"engines\", \"enough\", \"enough\", \"enough\", \"enough\", \"enough\", \"enough\", \"enough\", \"entries\", \"entry\", \"entry\", \"entry\", \"equipment\", \"equipment\", \"equipment\", \"equipment\", \"equipment\", \"equipment\", \"erase\", \"erzurum\", \"escrow\", \"espn\", \"eternal\", \"eternal\", \"ether\", \"european\", \"european\", \"european\", \"european\", \"european\", \"evans\", \"even\", \"even\", \"even\", \"even\", \"even\", \"even\", \"evidence\", \"evidence\", \"evidence\", \"evidence\", \"excellent\", \"excellent\", \"excellent\", \"excellent\", \"excellent\", \"excellent\", \"excellent\", \"excellent\", \"excellent\", \"excess\", \"exhaust\", \"exist\", \"exist\", \"exist\", \"exist\", \"exist\", \"exist\", \"exist\", \"existence\", \"existence\", \"explanations\", \"exploration\", \"export\", \"export\", \"export\", \"expos\", \"eyes\", \"face\", \"face\", \"face\", \"face\", \"face\", \"face\", \"fact\", \"fact\", \"fact\", \"fact\", \"fact\", \"fact\", \"fade\", \"fairing\", \"faith\", \"fake\", \"fallacy\", \"fans\", \"fans\", \"fans\", \"fast\", \"fast\", \"fast\", \"fast\", \"fast\", \"fatal\", \"fatal\", \"featured\", \"federal\", \"federal\", \"field\", \"field\", \"field\", \"field\", \"field\", \"field\", \"field\", \"field\", \"fielding\", \"file\", \"file\", \"filename\", \"files\", \"files\", \"filler\", \"finals\", \"financial\", \"finland\", \"finland\", \"finnish\", \"firearms\", \"first\", \"first\", \"first\", \"first\", \"first\", \"first\", \"first\", \"first\", \"first\", \"first\", \"first\", \"first\", \"first\", \"first\", \"flame\", \"flame\", \"flat\", \"flat\", \"flight\", \"flight\", \"flight\", \"floppy\", \"fluke\", \"fluke\", \"flyers\", \"font\", \"font\", \"food\", \"food\", \"food\", \"foreground\", \"fork\", \"format\", \"format\", \"format\", \"format\", \"formats\", \"formats\", \"formats\", \"formats\", \"forsale\", \"forty\", \"france\", \"france\", \"france\", \"franchise\", \"front\", \"front\", \"front\", \"front\", \"front\", \"function\", \"function\", \"function\", \"function\", \"funds\", \"funds\", \"funny\", \"gainey\", \"game\", \"game\", \"game\", \"game\", \"game\", \"game\", \"games\", \"games\", \"games\", \"games\", \"gamma\", \"gamma\", \"gaza\", \"gear\", \"general\", \"general\", \"general\", \"general\", \"general\", \"general\", \"general\", \"general\", \"general\", \"genocide\", \"germany\", \"germany\", \"germany\", \"germany\", \"germany\", \"ghost\", \"giants\", \"gilmour\", \"goal\", \"goal\", \"goal\", \"goal\", \"goal\", \"goal\", \"goalie\", \"goaltender\", \"going\", \"going\", \"going\", \"going\", \"gone\", \"gone\", \"good\", \"good\", \"good\", \"good\", \"good\", \"good\", \"good\", \"good\", \"good\", \"gospel\", \"government\", \"government\", \"graphics\", \"graphics\", \"graphics\", \"graphics\", \"grass\", \"grass\", \"greece\", \"gretzky\", \"ground\", \"ground\", \"ground\", \"ground\", \"ground\", \"grounded\", \"groups\", \"groups\", \"groups\", \"groups\", \"groups\", \"guide\", \"guide\", \"guide\", \"guide\", \"guide\", \"guidelines\", \"guns\", \"guns\", \"guys\", \"guys\", \"handler\", \"handler\", \"hangs\", \"happen\", \"happen\", \"happen\", \"happened\", \"happened\", \"hard\", \"hard\", \"hard\", \"hard\", \"hard\", \"harddisk\", \"harley\", \"harley\", \"hartford\", \"hawks\", \"health\", \"health\", \"heat\", \"heat\", \"heat\", \"heat\", \"heaven\", \"heaven\", \"hebrews\", \"height\", \"height\", \"height\", \"height\", \"height\", \"helmet\", \"help\", \"help\", \"help\", \"help\", \"help\", \"help\", \"helper\", \"hemisphere\", \"henrik\", \"hewlett\", \"hicnet\", \"hitter\", \"hockey\", \"hockey\", \"holy\", \"holy\", \"home\", \"home\", \"home\", \"home\", \"home\", \"home\", \"home\", \"home\", \"homer\", \"homers\", \"homosexual\", \"homosexuals\", \"honda\", \"hong\", \"hospitalized\", \"house\", \"house\", \"house\", \"house\", \"house\", \"houston\", \"houston\", \"houston\", \"however\", \"however\", \"however\", \"however\", \"however\", \"however\", \"however\", \"however\", \"hulk\", \"human\", \"human\", \"human\", \"human\", \"human\", \"huntsville\", \"hurt\", \"hurt\", \"ieee\", \"illness\", \"image\", \"image\", \"image\", \"image\", \"image\", \"images\", \"images\", \"images\", \"imaging\", \"imaging\", \"imaging\", \"important\", \"important\", \"important\", \"important\", \"important\", \"important\", \"important\", \"include\", \"include\", \"include\", \"include\", \"include\", \"include\", \"include\", \"include\", \"include\", \"includes\", \"includes\", \"includes\", \"includes\", \"includes\", \"includes\", \"includes\", \"income\", \"incremental\", \"indians\", \"induce\", \"infection\", \"inflammation\", \"inflammation\", \"info\", \"info\", \"info\", \"info\", \"info\", \"informatik\", \"information\", \"information\", \"information\", \"information\", \"information\", \"information\", \"information\", \"ingr\", \"init\", \"injury\", \"injury\", \"injury\", \"injury\", \"inning\", \"innings\", \"insane\", \"insane\", \"install\", \"institute\", \"institute\", \"institute\", \"insurance\", \"insurance\", \"insurance\", \"insurance\", \"intake\", \"integration\", \"intentional\", \"internet\", \"internet\", \"internet\", \"internet\", \"internet\", \"internet\", \"intrinsics\", \"investigated\", \"investment\", \"iran\", \"ireland\", \"isaiah\", \"islam\", \"islamic\", \"islamic\", \"islanders\", \"islanders\", \"israel\", \"israel\", \"israeli\", \"israelis\", \"issue\", \"issue\", \"issue\", \"issue\", \"issue\", \"issue\", \"issue\", \"italy\", \"italy\", \"italy\", \"jagr\", \"james\", \"james\", \"james\", \"james\", \"james\", \"james\", \"james\", \"james\", \"japanese\", \"japanese\", \"japanese\", \"japanese\", \"japanese\", \"jays\", \"jesus\", \"jews\", \"jews\", \"jews\", \"jobs\", \"john\", \"john\", \"john\", \"john\", \"john\", \"john\", \"john\", \"john\", \"john\", \"john\", \"john\", \"jose\", \"jose\", \"jpeg\", \"jpeg\", \"judas\", \"judges\", \"june\", \"june\", \"june\", \"june\", \"june\", \"jupiter\", \"jupiter\", \"karabakh\", \"karina\", \"keyboards\", \"keys\", \"keys\", \"keys\", \"killed\", \"killed\", \"kings\", \"kings\", \"kirlian\", \"know\", \"know\", \"know\", \"know\", \"know\", \"laboratories\", \"laboratory\", \"laboratory\", \"lang\", \"last\", \"last\", \"last\", \"last\", \"last\", \"last\", \"last\", \"last\", \"last\", \"last\", \"last\", \"last\", \"latin\", \"latin\", \"launch\", \"launched\", \"launches\", \"lawn\", \"laws\", \"laws\", \"league\", \"league\", \"league\", \"league\", \"leather\", \"leather\", \"lebanese\", \"lebanon\", \"left\", \"left\", \"left\", \"left\", \"left\", \"left\", \"legal\", \"legal\", \"legal\", \"legal\", \"legal\", \"lemieux\", \"lemon\", \"lens\", \"lenses\", \"letting\", \"life\", \"life\", \"life\", \"life\", \"like\", \"like\", \"like\", \"like\", \"like\", \"like\", \"like\", \"lindros\", \"line\", \"line\", \"line\", \"line\", \"line\", \"line\", \"line\", \"line\", \"linked\", \"linked\", \"list\", \"list\", \"list\", \"list\", \"list\", \"list\", \"list\", \"list\", \"list\", \"list\", \"list\", \"listserv\", \"little\", \"little\", \"little\", \"little\", \"little\", \"little\", \"loan\", \"loan\", \"loans\", \"lock\", \"lock\", \"lock\", \"lock\", \"lock\", \"logos\", \"looking\", \"looking\", \"looking\", \"looking\", \"looking\", \"looking\", \"looking\", \"lord\", \"loser\", \"losses\", \"lost\", \"lost\", \"lost\", \"lost\", \"lost\", \"lost\", \"lost\", \"lost\", \"lost\", \"lucifer\", \"lunar\", \"macs\", \"made\", \"made\", \"made\", \"made\", \"made\", \"made\", \"made\", \"made\", \"made\", \"magellan\", \"mail\", \"mail\", \"mail\", \"mail\", \"mail\", \"mail\", \"mail\", \"mail\", \"mailing\", \"mailing\", \"mailing\", \"mailing\", \"maine\", \"mainstream\", \"make\", \"make\", \"make\", \"make\", \"make\", \"make\", \"make\", \"males\", \"mamma\", \"manuals\", \"many\", \"many\", \"many\", \"many\", \"many\", \"many\", \"many\", \"many\", \"many\", \"mapped\", \"maps\", \"maps\", \"maps\", \"married\", \"mars\", \"mask\", \"mask\", \"mass\", \"mass\", \"mass\", \"mass\", \"mass\", \"mass\", \"mass\", \"mass\", \"massage\", \"matthew\", \"matthew\", \"maybe\", \"maybe\", \"maybe\", \"maybe\", \"measurements\", \"medical\", \"medical\", \"medicine\", \"meeting\", \"meeting\", \"meeting\", \"memory\", \"memory\", \"memory\", \"memory\", \"memory\", \"memory\", \"mercury\", \"mercury\", \"mercury\", \"messenger\", \"metal\", \"metal\", \"metal\", \"metal\", \"mets\", \"metzger\", \"michael\", \"michael\", \"michael\", \"michael\", \"michael\", \"michael\", \"michael\", \"micronics\", \"microphone\", \"midnight\", \"mike\", \"mike\", \"mike\", \"mike\", \"mike\", \"mike\", \"mike\", \"miles\", \"miles\", \"miles\", \"military\", \"military\", \"military\", \"military\", \"militia\", \"minnesota\", \"minnesota\", \"mission\", \"mission\", \"mission\", \"mission\", \"missions\", \"missions\", \"mixer\", \"model\", \"model\", \"model\", \"model\", \"model\", \"model\", \"modem\", \"modem\", \"molecular\", \"moncton\", \"money\", \"money\", \"money\", \"monitor\", \"monitor\", \"montreal\", \"moon\", \"moon\", \"moral\", \"moral\", \"moral\", \"morality\", \"mormon\", \"mormons\", \"morris\", \"morris\", \"motherboard\", \"motif\", \"motorcycle\", \"motorcycles\", \"much\", \"much\", \"much\", \"much\", \"much\", \"much\", \"multimedia\", \"multimedia\", \"multitasking\", \"murray\", \"muscles\", \"muslim\", \"muslim\", \"muslims\", \"muslims\", \"muslims\", \"must\", \"must\", \"must\", \"must\", \"must\", \"must\", \"must\", \"myers\", \"myers\", \"nail\", \"name\", \"name\", \"name\", \"name\", \"name\", \"name\", \"name\", \"name\", \"nasa\", \"nasa\", \"nasa\", \"national\", \"national\", \"national\", \"national\", \"national\", \"national\", \"navy\", \"navy\", \"navy\", \"navy\", \"ncsa\", \"ncsl\", \"nearest\", \"need\", \"need\", \"need\", \"need\", \"need\", \"need\", \"need\", \"neighbor\", \"nerve\", \"netcom\", \"netcom\", \"netcom\", \"neutral\", \"neutral\", \"neutral\", \"never\", \"never\", \"never\", \"never\", \"never\", \"newest\", \"nintendo\", \"nist\", \"nist\", \"nope\", \"nope\", \"nords\", \"north\", \"north\", \"north\", \"north\", \"north\", \"north\", \"north\", \"north\", \"nubus\", \"nuclear\", \"nuclear\", \"nuclear\", \"null\", \"number\", \"number\", \"number\", \"number\", \"number\", \"number\", \"number\", \"number\", \"obfuscate\", \"obfuscation\", \"object\", \"object\", \"object\", \"object\", \"object\", \"object\", \"objects\", \"objects\", \"objects\", \"objects\", \"objects\", \"observatory\", \"observatory\", \"offense\", \"offense\", \"offer\", \"offer\", \"offer\", \"offer\", \"offer\", \"oklahoma\", \"olwm\", \"openwindows\", \"orbit\", \"orbit\", \"orbital\", \"orbiter\", \"orbiting\", \"orchid\", \"orioles\", \"ottoman\", \"outlet\", \"outline\", \"outline\", \"output\", \"output\", \"outs\", \"overlooked\", \"ozone\", \"pace\", \"pacific\", \"package\", \"package\", \"package\", \"package\", \"package\", \"packaging\", \"packard\", \"padded\", \"pain\", \"pain\", \"palestine\", \"palestinian\", \"palestinians\", \"panel\", \"panel\", \"panel\", \"panel\", \"paranoia\", \"part\", \"part\", \"part\", \"part\", \"part\", \"part\", \"part\", \"part\", \"particle\", \"passages\", \"patents\", \"patients\", \"pavement\", \"payload\", \"pbmplus\", \"pens\", \"people\", \"people\", \"people\", \"people\", \"people\", \"people\", \"period\", \"period\", \"period\", \"period\", \"period\", \"period\", \"period\", \"perry\", \"philadelphia\", \"philadelphia\", \"phillies\", \"photography\", \"photography\", \"physicist\", \"picture\", \"picture\", \"picture\", \"picture\", \"picture\", \"picture\", \"pictures\", \"pictures\", \"pictures\", \"pictures\", \"pictures\", \"pictures\", \"pictures\", \"pipes\", \"pitch\", \"pitch\", \"pitched\", \"pitcher\", \"pitchers\", \"pitching\", \"pittsburgh\", \"pittsburgh\", \"pixmap\", \"plane\", \"plane\", \"planes\", \"planes\", \"planetary\", \"planetary\", \"plant\", \"plant\", \"plant\", \"plants\", \"plate\", \"plate\", \"play\", \"play\", \"play\", \"play\", \"play\", \"play\", \"play\", \"played\", \"played\", \"played\", \"played\", \"player\", \"player\", \"player\", \"players\", \"players\", \"players\", \"playoffs\", \"please\", \"please\", \"please\", \"please\", \"please\", \"please\", \"please\", \"please\", \"plugs\", \"pluto\", \"pmetzger\", \"point\", \"point\", \"point\", \"point\", \"point\", \"point\", \"point\", \"point\", \"point\", \"points\", \"points\", \"points\", \"points\", \"points\", \"points\", \"pole\", \"police\", \"police\", \"porsche\", \"port\", \"port\", \"port\", \"portal\", \"ports\", \"postscript\", \"postscript\", \"power\", \"power\", \"power\", \"power\", \"power\", \"power\", \"power\", \"power\", \"power\", \"power\", \"powerbook\", \"powerpc\", \"prefix\", \"premium\", \"premium\", \"presentations\", \"president\", \"president\", \"prevention\", \"price\", \"price\", \"price\", \"price\", \"price\", \"price\", \"price\", \"price\", \"principles\", \"principles\", \"principles\", \"printer\", \"printf\", \"probe\", \"probe\", \"probes\", \"probes\", \"problem\", \"problem\", \"problem\", \"problem\", \"problem\", \"problem\", \"proceedings\", \"processing\", \"processing\", \"processing\", \"prof\", \"profile\", \"prog\", \"program\", \"program\", \"program\", \"program\", \"programmers\", \"propulsion\", \"propulsion\", \"prospects\", \"protect\", \"protect\", \"protect\", \"providence\", \"pseudo\", \"public\", \"public\", \"public\", \"public\", \"public\", \"puck\", \"push\", \"push\", \"push\", \"quack\", \"quebec\", \"quest\", \"quest\", \"question\", \"question\", \"question\", \"question\", \"question\", \"question\", \"questioning\", \"quran\", \"radar\", \"radio\", \"radio\", \"radio\", \"radio\", \"radio\", \"radio\", \"radio\", \"radio\", \"radio\", \"radius\", \"radius\", \"rainer\", \"rangers\", \"rangers\", \"ranking\", \"rapid\", \"rational\", \"rays\", \"rayshade\", \"read\", \"read\", \"read\", \"read\", \"read\", \"read\", \"read\", \"read\", \"really\", \"really\", \"really\", \"really\", \"really\", \"rear\", \"recchi\", \"recognition\", \"reds\", \"registers\", \"relay\", \"religion\", \"religion\", \"religions\", \"religious\", \"religious\", \"remark\", \"remember\", \"remember\", \"remember\", \"remember\", \"remember\", \"republicans\", \"request\", \"request\", \"request\", \"request\", \"request\", \"requests\", \"requests\", \"requests\", \"research\", \"research\", \"restaurant\", \"restaurant\", \"restaurants\", \"restaurants\", \"resurrection\", \"retail\", \"revelation\", \"rhode\", \"ride\", \"ride\", \"rider\", \"riders\", \"riders\", \"riding\", \"riding\", \"right\", \"right\", \"right\", \"right\", \"right\", \"right\", \"right\", \"rights\", \"rights\", \"ripem\", \"river\", \"river\", \"road\", \"road\", \"road\", \"road\", \"road\", \"robert\", \"robert\", \"robert\", \"robert\", \"robert\", \"robert\", \"robert\", \"robinson\", \"robinson\", \"rochester\", \"rochester\", \"rockefeller\", \"rocket\", \"rocket\", \"rocket\", \"rocket\", \"rocketry\", \"rockets\", \"rockets\", \"rockets\", \"rocky\", \"roger\", \"roger\", \"romans\", \"romans\", \"rotation\", \"rotation\", \"rtsg\", \"runs\", \"runs\", \"runs\", \"runs\", \"runs\", \"rushdie\", \"russia\", \"russia\", \"russia\", \"sabbath\", \"said\", \"said\", \"said\", \"said\", \"salary\", \"sale\", \"sale\", \"sale\", \"sale\", \"satan\", \"satellite\", \"satellite\", \"satellites\", \"scale\", \"scale\", \"scale\", \"scale\", \"scale\", \"scale\", \"scale\", \"scanned\", \"scope\", \"scope\", \"scope\", \"scope\", \"scopes\", \"scorer\", \"scores\", \"scores\", \"scoring\", \"scripture\", \"scsi\", \"scsi\", \"seagate\", \"season\", \"season\", \"second\", \"second\", \"second\", \"second\", \"second\", \"second\", \"second\", \"second\", \"second\", \"secret\", \"section\", \"section\", \"section\", \"section\", \"section\", \"section\", \"secular\", \"secure\", \"secure\", \"security\", \"security\", \"sega\", \"sells\", \"seminar\", \"senator\", \"send\", \"send\", \"send\", \"send\", \"send\", \"send\", \"send\", \"send\", \"send\", \"send\", \"senior\", \"senior\", \"sensing\", \"sentra\", \"sequences\", \"sequences\", \"serdar\", \"serial\", \"serial\", \"serial\", \"serpent\", \"server\", \"servers\", \"service\", \"service\", \"service\", \"service\", \"service\", \"service\", \"shaft\", \"shaft\", \"shareware\", \"shareware\", \"shareware\", \"shareware\", \"sharks\", \"shearson\", \"sheets\", \"shells\", \"shine\", \"shipping\", \"shipping\", \"shit\", \"shuttle\", \"siggraph\", \"silicon\", \"simms\", \"skepticism\", \"skipjack\", \"sleeve\", \"slip\", \"slots\", \"smith\", \"smith\", \"smith\", \"smith\", \"smith\", \"smith\", \"smith\", \"smokeless\", \"soda\", \"soda\", \"software\", \"software\", \"software\", \"solar\", \"something\", \"something\", \"something\", \"something\", \"something\", \"sony\", \"source\", \"source\", \"source\", \"source\", \"source\", \"source\", \"source\", \"space\", \"space\", \"space\", \"space\", \"space\", \"spacecraft\", \"spacecraft\", \"specs\", \"speed\", \"speed\", \"speed\", \"speed\", \"spirit\", \"spirit\", \"spoke\", \"spoofing\", \"sport\", \"sport\", \"sport\", \"sports\", \"spring\", \"spring\", \"spring\", \"spring\", \"spring\", \"springer\", \"springfield\", \"stacks\", \"staff\", \"staff\", \"staff\", \"stanley\", \"stanley\", \"star\", \"star\", \"star\", \"star\", \"star\", \"star\", \"star\", \"stars\", \"stars\", \"stars\", \"stars\", \"started\", \"started\", \"started\", \"started\", \"starters\", \"state\", \"state\", \"state\", \"state\", \"state\", \"state\", \"state\", \"states\", \"states\", \"states\", \"states\", \"states\", \"station\", \"station\", \"station\", \"station\", \"station\", \"steam\", \"stephen\", \"stephen\", \"stephen\", \"stereo\", \"stewart\", \"stewart\", \"still\", \"still\", \"still\", \"still\", \"still\", \"still\", \"still\", \"still\", \"stove\", \"strawberry\", \"streak\", \"stream\", \"stream\", \"string\", \"studies\", \"studies\", \"studies\", \"study\", \"study\", \"study\", \"study\", \"study\", \"stupid\", \"subject\", \"subject\", \"subject\", \"subject\", \"subject\", \"subject\", \"subject\", \"subject\", \"subject\", \"subject\", \"suck\", \"suite\", \"sumgait\", \"summaries\", \"summaries\", \"sunos\", \"support\", \"support\", \"support\", \"support\", \"support\", \"support\", \"support\", \"sure\", \"sure\", \"sure\", \"sure\", \"sure\", \"sure\", \"sure\", \"surface\", \"surface\", \"surface\", \"surface\", \"surface\", \"surface\", \"surface\", \"svga\", \"sweden\", \"switches\", \"symbol\", \"syria\", \"syrians\", \"system\", \"system\", \"system\", \"system\", \"system\", \"system\", \"system\", \"system\", \"system\", \"systems\", \"systems\", \"systems\", \"systems\", \"systems\", \"systems\", \"take\", \"take\", \"take\", \"take\", \"take\", \"take\", \"take\", \"tampa\", \"tape\", \"tape\", \"tape\", \"tape\", \"tape\", \"tapes\", \"tasks\", \"taurus\", \"taurus\", \"team\", \"team\", \"team\", \"team\", \"team\", \"teams\", \"teams\", \"technical\", \"technical\", \"technical\", \"technical\", \"technical\", \"technology\", \"technology\", \"technology\", \"technology\", \"tele\", \"telescope\", \"telescope\", \"telling\", \"telling\", \"temperature\", \"temporary\", \"temporary\", \"temporary\", \"terminals\", \"test\", \"test\", \"test\", \"test\", \"test\", \"test\", \"test\", \"test\", \"testament\", \"text\", \"text\", \"text\", \"text\", \"thanks\", \"thanks\", \"thanks\", \"thanks\", \"thanks\", \"thanks\", \"thanks\", \"thanks\", \"theist\", \"theory\", \"theory\", \"theory\", \"theory\", \"theory\", \"theory\", \"therapies\", \"therefore\", \"therefore\", \"therefore\", \"therefore\", \"therefore\", \"therefore\", \"theta\", \"thing\", \"thing\", \"thing\", \"thing\", \"thing\", \"things\", \"things\", \"things\", \"things\", \"things\", \"think\", \"think\", \"think\", \"think\", \"third\", \"third\", \"third\", \"third\", \"third\", \"third\", \"third\", \"third\", \"thought\", \"thought\", \"thought\", \"thought\", \"thoughts\", \"throttle\", \"thumbs\", \"ticket\", \"ticket\", \"tiff\", \"tiger\", \"tigers\", \"time\", \"time\", \"time\", \"time\", \"time\", \"time\", \"time\", \"time\", \"time\", \"tire\", \"tires\", \"titan\", \"title\", \"title\", \"title\", \"title\", \"title\", \"title\", \"title\", \"titled\", \"tobacco\", \"told\", \"told\", \"told\", \"told\", \"told\", \"tongues\", \"took\", \"took\", \"took\", \"took\", \"took\", \"toolkit\", \"toronto\", \"toronto\", \"toronto\", \"torque\", \"toshiba\", \"tower\", \"towers\", \"tracer\", \"traded\", \"traditions\", \"transformer\", \"treatment\", \"treatment\", \"treatment\", \"trinity\", \"truck\", \"true\", \"true\", \"true\", \"true\", \"true\", \"true\", \"true\", \"truetype\", \"truetype\", \"truth\", \"truth\", \"truth\", \"truth\", \"tubes\", \"turkey\", \"turkish\", \"turks\", \"tutorial\", \"twin\", \"twins\", \"tyre\", \"universe\", \"universe\", \"university\", \"university\", \"university\", \"unlocks\", \"unsigned\", \"unto\", \"unto\", \"upgrade\", \"upgrading\", \"used\", \"used\", \"used\", \"used\", \"used\", \"used\", \"used\", \"used\", \"user\", \"user\", \"user\", \"user\", \"users\", \"users\", \"users\", \"users\", \"using\", \"using\", \"using\", \"using\", \"using\", \"using\", \"using\", \"usually\", \"usually\", \"usually\", \"usually\", \"usually\", \"usually\", \"usually\", \"uuencode\", \"valve\", \"valve\", \"vehicle\", \"vehicle\", \"vehicle\", \"vehicle\", \"vehicle\", \"vehicle\", \"venus\", \"venus\", \"version\", \"version\", \"version\", \"version\", \"version\", \"video\", \"video\", \"video\", \"video\", \"viewers\", \"viewing\", \"viewing\", \"villages\", \"visualization\", \"volt\", \"voltage\", \"voltage\", \"volume\", \"volume\", \"volume\", \"volume\", \"volume\", \"volume\", \"volume\", \"volvo\", \"vpic\", \"vram\", \"wales\", \"walk\", \"walked\", \"want\", \"want\", \"want\", \"want\", \"want\", \"want\", \"want\", \"washer\", \"watched\", \"water\", \"water\", \"water\", \"waveform\", \"weapons\", \"weapons\", \"weaver\", \"weight\", \"weight\", \"weight\", \"weight\", \"weight\", \"weight\", \"weiss\", \"well\", \"well\", \"well\", \"well\", \"well\", \"well\", \"well\", \"well\", \"went\", \"went\", \"west\", \"west\", \"west\", \"west\", \"west\", \"west\", \"west\", \"whats\", \"wide\", \"wide\", \"wide\", \"wide\", \"wide\", \"wide\", \"wide\", \"wide\", \"wide\", \"widget\", \"widgets\", \"width\", \"width\", \"window\", \"window\", \"window\", \"windows\", \"windows\", \"windows\", \"winnipeg\", \"wipe\", \"wire\", \"wires\", \"wiretap\", \"wiring\", \"wolverine\", \"word\", \"word\", \"word\", \"word\", \"word\", \"word\", \"work\", \"work\", \"work\", \"work\", \"work\", \"work\", \"work\", \"workspace\", \"world\", \"world\", \"world\", \"world\", \"world\", \"world\", \"world\", \"world\", \"world\", \"world\", \"worse\", \"worse\", \"worship\", \"would\", \"would\", \"would\", \"would\", \"would\", \"would\", \"would\", \"would\", \"wrap\", \"wrap\", \"wright\", \"wrist\", \"xlib\", \"xsun\", \"xterm\", \"xview\", \"yankees\", \"yeah\", \"year\", \"year\", \"year\", \"year\", \"year\", \"year\", \"year\", \"year\", \"year\", \"year\", \"years\", \"years\", \"years\", \"years\", \"years\", \"years\", \"years\", \"years\", \"yeast\", \"yogurt\", \"york\", \"york\", \"york\", \"york\", \"york\", \"zeos\"]}, \"R\": 30, \"lambda.step\": 0.01, \"plot.opts\": {\"xlab\": \"PC1\", \"ylab\": \"PC2\"}, \"topic.order\": [10, 11, 15, 12, 13, 2, 1, 6, 16, 19, 3, 14, 4, 9, 20, 8, 18, 7, 17, 5]};\n",
       "\n",
       "function LDAvis_load_lib(url, callback){\n",
       "  var s = document.createElement('script');\n",
       "  s.src = url;\n",
       "  s.async = true;\n",
       "  s.onreadystatechange = s.onload = callback;\n",
       "  s.onerror = function(){console.warn(\"failed to load library \" + url);};\n",
       "  document.getElementsByTagName(\"head\")[0].appendChild(s);\n",
       "}\n",
       "\n",
       "if(typeof(LDAvis) !== \"undefined\"){\n",
       "   // already loaded: just create the visualization\n",
       "   !function(LDAvis){\n",
       "       new LDAvis(\"#\" + \"ldavis_el283220741771256167350532966\", ldavis_el283220741771256167350532966_data);\n",
       "   }(LDAvis);\n",
       "}else if(typeof define === \"function\" && define.amd){\n",
       "   // require.js is available: use it to load d3/LDAvis\n",
       "   require.config({paths: {d3: \"https://d3js.org/d3.v5\"}});\n",
       "   require([\"d3\"], function(d3){\n",
       "      window.d3 = d3;\n",
       "      LDAvis_load_lib(\"https://cdn.jsdelivr.net/gh/bmabey/pyLDAvis@3.3.1/pyLDAvis/js/ldavis.v3.0.0.js\", function(){\n",
       "        new LDAvis(\"#\" + \"ldavis_el283220741771256167350532966\", ldavis_el283220741771256167350532966_data);\n",
       "      });\n",
       "    });\n",
       "}else{\n",
       "    // require.js not available: dynamically load d3 & LDAvis\n",
       "    LDAvis_load_lib(\"https://d3js.org/d3.v5.js\", function(){\n",
       "         LDAvis_load_lib(\"https://cdn.jsdelivr.net/gh/bmabey/pyLDAvis@3.3.1/pyLDAvis/js/ldavis.v3.0.0.js\", function(){\n",
       "                 new LDAvis(\"#\" + \"ldavis_el283220741771256167350532966\", ldavis_el283220741771256167350532966_data);\n",
       "            })\n",
       "         });\n",
       "}\n",
       "</script>"
      ],
      "text/plain": [
       "<IPython.core.display.HTML object>"
      ]
     },
     "execution_count": 9,
     "metadata": {},
     "output_type": "execute_result"
    }
   ],
   "source": [
    "#!pip install pyLDAvis\n",
    "import pyLDAvis\n",
    "import pyLDAvis.gensim_models as gensimvis\n",
    "\n",
    "pyLDAvis.enable_notebook()\n",
    "vis = gensimvis.prepare(ldamodel, corpus, dictionary)\n",
    "pyLDAvis.display(vis)"
   ]
  },
  {
   "cell_type": "markdown",
   "id": "ca3be9f0",
   "metadata": {},
   "source": [
    "> 좌측의 원들은 각각의 20개의 토픽을 나타냄.  \n",
    "> 각 원과의 거리는 각 토픽들이 서로 얼마나 다른지를 보여줌.  \n",
    "> 즉, 만약 두 개의 원이 겹친다면, 이 두 개의 토픽은 유사한 토픽이라는 의미.  \n",
    "> 위의 그림에서는 10번 토픽을 클릭하였고, 이에 따라 우측에는 10번 토픽에 대한 정보가 나타남.  \n",
    "> LDA 시각화에서는 토픽의 번호가 1부터 시작하므로 각 토픽 번호는 이제 +1이 된 값인 1~20까지의 값을 가짐."
   ]
  },
  {
   "cell_type": "markdown",
   "id": "bc2dce53",
   "metadata": {},
   "source": [
    "### 4) 문서 별 토픽 분포 보기"
   ]
  },
  {
   "cell_type": "code",
   "execution_count": 10,
   "id": "47a4ea62",
   "metadata": {},
   "outputs": [
    {
     "name": "stdout",
     "output_type": "stream",
     "text": [
      "0 번째 문서의 topic 비율은 [(8, 0.028220577), (9, 0.50075346), (12, 0.17686784), (14, 0.2810203)]\n",
      "1 번째 문서의 topic 비율은 [(7, 0.027157798), (9, 0.32804304), (11, 0.59613645), (18, 0.0275897)]\n",
      "2 번째 문서의 topic 비율은 [(9, 0.303776), (11, 0.14587416), (14, 0.5365926)]\n",
      "3 번째 문서의 topic 비율은 [(9, 0.42864895), (10, 0.123212196), (12, 0.3520439), (16, 0.053966932), (17, 0.016628599), (18, 0.014518457)]\n",
      "4 번째 문서의 topic 비율은 [(1, 0.06814122), (2, 0.20865035), (5, 0.32057044), (9, 0.37299913)]\n"
     ]
    },
    {
     "name": "stderr",
     "output_type": "stream",
     "text": [
      "C:\\Users\\colin\\anaconda3\\envs\\DH\\lib\\site-packages\\ipykernel\\ipkernel.py:287: DeprecationWarning: `should_run_async` will not call `transform_cell` automatically in the future. Please pass the result to `transformed_cell` argument and any exception that happen during thetransform in `preprocessing_exc_tuple` in IPython 7.17 and above.\n",
      "  and should_run_async(code)\n"
     ]
    }
   ],
   "source": [
    "for i, topic_list in enumerate(ldamodel[corpus]):\n",
    "    if i==5:  # 상위 5개의 문서에 대해서만 토픽 분포를 확인\n",
    "        break\n",
    "    print(i,'번째 문서의 topic 비율은',topic_list)"
   ]
  },
  {
   "cell_type": "markdown",
   "id": "46c27013",
   "metadata": {},
   "source": [
    "> (숫자, 확률) : 각각 토픽 번호와 해당 토픽이 해당 문서에서 차지하는 분포도  \n",
    "> (3, 0.045884132) : 7번 토픽이 약 4.59%의 분포도를 가지는 것을 의미."
   ]
  },
  {
   "cell_type": "code",
   "execution_count": 11,
   "id": "3bb26953",
   "metadata": {},
   "outputs": [
    {
     "name": "stderr",
     "output_type": "stream",
     "text": [
      "C:\\Users\\colin\\anaconda3\\envs\\DH\\lib\\site-packages\\ipykernel\\ipkernel.py:287: DeprecationWarning: `should_run_async` will not call `transform_cell` automatically in the future. Please pass the result to `transformed_cell` argument and any exception that happen during thetransform in `preprocessing_exc_tuple` in IPython 7.17 and above.\n",
      "  and should_run_async(code)\n"
     ]
    }
   ],
   "source": [
    "# 깔끔한 형태인 데이터프레임 형식으로 출력 함수\n",
    "def make_topictable_per_doc(ldamodel, corpus):\n",
    "    topic_table = pd.DataFrame()\n",
    "\n",
    "    # 몇 번째 문서인지를 의미하는 문서 번호와 해당 문서의 토픽 비중을 한 줄씩 꺼내옴.\n",
    "    for i, topic_list in enumerate(ldamodel[corpus]):\n",
    "        doc = topic_list[0] if ldamodel.per_word_topics else topic_list            \n",
    "        doc = sorted(doc, key=lambda x: (x[1]), reverse=True)\n",
    "        # 각 문서에 대해서 비중이 높은 토픽순으로 토픽을 정렬.\n",
    "        # EX) 정렬 전 0번 문서 : (2번 토픽, 48.5%), (8번 토픽, 25%), (10번 토픽, 5%), (12번 토픽, 21.5%), \n",
    "        # Ex) 정렬 후 0번 문서 : (2번 토픽, 48.5%), (8번 토픽, 25%), (12번 토픽, 21.5%), (10번 토픽, 5%)\n",
    "        # 48 > 25 > 21 > 5 순으로 정렬이 된 것.\n",
    "\n",
    "        # 모든 문서에 대해서 각각 아래를 수행\n",
    "        for j, (topic_num, prop_topic) in enumerate(doc): #  몇 번 토픽인지와 비중을 나눠서 저장.\n",
    "            if j == 0:  # 정렬을 한 상태이므로 가장 앞에 있는 것이 가장 비중이 높은 토픽\n",
    "                topic_table = topic_table.append(pd.Series([int(topic_num), round(prop_topic,4), topic_list]), ignore_index=True)\n",
    "                # 가장 비중이 높은 토픽과, 가장 비중이 높은 토픽의 비중과, 전체 토픽의 비중을 저장.\n",
    "            else:\n",
    "                break\n",
    "    return(topic_table)"
   ]
  },
  {
   "cell_type": "code",
   "execution_count": 12,
   "id": "3dded4a1",
   "metadata": {},
   "outputs": [
    {
     "name": "stderr",
     "output_type": "stream",
     "text": [
      "C:\\Users\\colin\\anaconda3\\envs\\DH\\lib\\site-packages\\ipykernel\\ipkernel.py:287: DeprecationWarning: `should_run_async` will not call `transform_cell` automatically in the future. Please pass the result to `transformed_cell` argument and any exception that happen during thetransform in `preprocessing_exc_tuple` in IPython 7.17 and above.\n",
      "  and should_run_async(code)\n"
     ]
    },
    {
     "data": {
      "text/html": [
       "<div>\n",
       "<style scoped>\n",
       "    .dataframe tbody tr th:only-of-type {\n",
       "        vertical-align: middle;\n",
       "    }\n",
       "\n",
       "    .dataframe tbody tr th {\n",
       "        vertical-align: top;\n",
       "    }\n",
       "\n",
       "    .dataframe thead th {\n",
       "        text-align: right;\n",
       "    }\n",
       "</style>\n",
       "<table border=\"1\" class=\"dataframe\">\n",
       "  <thead>\n",
       "    <tr style=\"text-align: right;\">\n",
       "      <th></th>\n",
       "      <th>문서 번호</th>\n",
       "      <th>가장 비중이 높은 토픽</th>\n",
       "      <th>가장 높은 토픽의 비중</th>\n",
       "      <th>각 토픽의 비중</th>\n",
       "    </tr>\n",
       "  </thead>\n",
       "  <tbody>\n",
       "    <tr>\n",
       "      <th>0</th>\n",
       "      <td>0</td>\n",
       "      <td>9.0</td>\n",
       "      <td>0.5008</td>\n",
       "      <td>[(8, 0.028218502), (9, 0.5007528), (12, 0.1768...</td>\n",
       "    </tr>\n",
       "    <tr>\n",
       "      <th>1</th>\n",
       "      <td>1</td>\n",
       "      <td>11.0</td>\n",
       "      <td>0.5962</td>\n",
       "      <td>[(7, 0.027158072), (9, 0.3279989), (11, 0.5961...</td>\n",
       "    </tr>\n",
       "    <tr>\n",
       "      <th>2</th>\n",
       "      <td>2</td>\n",
       "      <td>14.0</td>\n",
       "      <td>0.5366</td>\n",
       "      <td>[(9, 0.30401802), (11, 0.14561947), (14, 0.536...</td>\n",
       "    </tr>\n",
       "    <tr>\n",
       "      <th>3</th>\n",
       "      <td>3</td>\n",
       "      <td>9.0</td>\n",
       "      <td>0.4287</td>\n",
       "      <td>[(9, 0.42870927), (10, 0.12313998), (12, 0.352...</td>\n",
       "    </tr>\n",
       "    <tr>\n",
       "      <th>4</th>\n",
       "      <td>4</td>\n",
       "      <td>9.0</td>\n",
       "      <td>0.3730</td>\n",
       "      <td>[(1, 0.068198204), (2, 0.20864098), (5, 0.3205...</td>\n",
       "    </tr>\n",
       "    <tr>\n",
       "      <th>5</th>\n",
       "      <td>5</td>\n",
       "      <td>11.0</td>\n",
       "      <td>0.4176</td>\n",
       "      <td>[(9, 0.3720263), (11, 0.4175943), (12, 0.05493...</td>\n",
       "    </tr>\n",
       "    <tr>\n",
       "      <th>6</th>\n",
       "      <td>6</td>\n",
       "      <td>10.0</td>\n",
       "      <td>0.4724</td>\n",
       "      <td>[(0, 0.041169383), (1, 0.0842644), (7, 0.03874...</td>\n",
       "    </tr>\n",
       "    <tr>\n",
       "      <th>7</th>\n",
       "      <td>7</td>\n",
       "      <td>9.0</td>\n",
       "      <td>0.4936</td>\n",
       "      <td>[(9, 0.4935685), (12, 0.18599443), (14, 0.3064...</td>\n",
       "    </tr>\n",
       "    <tr>\n",
       "      <th>8</th>\n",
       "      <td>8</td>\n",
       "      <td>9.0</td>\n",
       "      <td>0.6178</td>\n",
       "      <td>[(1, 0.13410424), (3, 0.029848594), (9, 0.6177...</td>\n",
       "    </tr>\n",
       "    <tr>\n",
       "      <th>9</th>\n",
       "      <td>9</td>\n",
       "      <td>9.0</td>\n",
       "      <td>0.5243</td>\n",
       "      <td>[(9, 0.5242529), (10, 0.276578), (12, 0.147285...</td>\n",
       "    </tr>\n",
       "  </tbody>\n",
       "</table>\n",
       "</div>"
      ],
      "text/plain": [
       "   문서 번호  가장 비중이 높은 토픽  가장 높은 토픽의 비중  \\\n",
       "0      0           9.0        0.5008   \n",
       "1      1          11.0        0.5962   \n",
       "2      2          14.0        0.5366   \n",
       "3      3           9.0        0.4287   \n",
       "4      4           9.0        0.3730   \n",
       "5      5          11.0        0.4176   \n",
       "6      6          10.0        0.4724   \n",
       "7      7           9.0        0.4936   \n",
       "8      8           9.0        0.6178   \n",
       "9      9           9.0        0.5243   \n",
       "\n",
       "                                            각 토픽의 비중  \n",
       "0  [(8, 0.028218502), (9, 0.5007528), (12, 0.1768...  \n",
       "1  [(7, 0.027158072), (9, 0.3279989), (11, 0.5961...  \n",
       "2  [(9, 0.30401802), (11, 0.14561947), (14, 0.536...  \n",
       "3  [(9, 0.42870927), (10, 0.12313998), (12, 0.352...  \n",
       "4  [(1, 0.068198204), (2, 0.20864098), (5, 0.3205...  \n",
       "5  [(9, 0.3720263), (11, 0.4175943), (12, 0.05493...  \n",
       "6  [(0, 0.041169383), (1, 0.0842644), (7, 0.03874...  \n",
       "7  [(9, 0.4935685), (12, 0.18599443), (14, 0.3064...  \n",
       "8  [(1, 0.13410424), (3, 0.029848594), (9, 0.6177...  \n",
       "9  [(9, 0.5242529), (10, 0.276578), (12, 0.147285...  "
      ]
     },
     "execution_count": 12,
     "metadata": {},
     "output_type": "execute_result"
    }
   ],
   "source": [
    "topictable = make_topictable_per_doc(ldamodel, corpus)\n",
    "topictable = topictable.reset_index() # 문서 번호을 의미하는 열(column)로 사용하기 위해서 인덱스 열을 하나 더 만듦.\n",
    "topictable.columns = ['문서 번호', '가장 비중이 높은 토픽', '가장 높은 토픽의 비중', '각 토픽의 비중']\n",
    "topictable[:10]"
   ]
  },
  {
   "cell_type": "markdown",
   "id": "408c115a",
   "metadata": {},
   "source": [
    "## 2. 실습2 - sklearn 사용"
   ]
  },
  {
   "cell_type": "markdown",
   "id": "51509640",
   "metadata": {},
   "source": [
    "### 1) 뉴스 기사 제목 데이터에 대한 이해"
   ]
  },
  {
   "cell_type": "code",
   "execution_count": 13,
   "id": "6ba8aa6c",
   "metadata": {},
   "outputs": [
    {
     "name": "stderr",
     "output_type": "stream",
     "text": [
      "C:\\Users\\colin\\anaconda3\\envs\\DH\\lib\\site-packages\\ipykernel\\ipkernel.py:287: DeprecationWarning: `should_run_async` will not call `transform_cell` automatically in the future. Please pass the result to `transformed_cell` argument and any exception that happen during thetransform in `preprocessing_exc_tuple` in IPython 7.17 and above.\n",
      "  and should_run_async(code)\n"
     ]
    },
    {
     "name": "stdout",
     "output_type": "stream",
     "text": [
      "1226258\n"
     ]
    }
   ],
   "source": [
    "import pandas as pd\n",
    "import urllib.request\n",
    "urllib.request.urlretrieve(\"https://raw.githubusercontent.com/franciscadias/data/master/abcnews-date-text.csv\", filename=\"abcnews-date-text.csv\")\n",
    "# 약 15년 동안 발행되었던 뉴스 기사 제목을 모아놓은 영어 데이터\n",
    "data = pd.read_csv('../Data/abcnews-date-text.csv', error_bad_lines=False)\n",
    "print(len(data))"
   ]
  },
  {
   "cell_type": "markdown",
   "id": "abfa8400",
   "metadata": {},
   "source": [
    "> 해당 데이터는 약 122만개의 샘플을 갖고 있음."
   ]
  },
  {
   "cell_type": "code",
   "execution_count": 14,
   "id": "40773387",
   "metadata": {},
   "outputs": [
    {
     "name": "stdout",
     "output_type": "stream",
     "text": [
      "   publish_date                                      headline_text\n",
      "0      20030219  aba decides against community broadcasting lic...\n",
      "1      20030219     act fire witnesses must be aware of defamation\n",
      "2      20030219     a g calls for infrastructure protection summit\n",
      "3      20030219           air nz staff in aust strike for pay rise\n",
      "4      20030219      air nz strike to affect australian travellers\n"
     ]
    },
    {
     "name": "stderr",
     "output_type": "stream",
     "text": [
      "C:\\Users\\colin\\anaconda3\\envs\\DH\\lib\\site-packages\\ipykernel\\ipkernel.py:287: DeprecationWarning: `should_run_async` will not call `transform_cell` automatically in the future. Please pass the result to `transformed_cell` argument and any exception that happen during thetransform in `preprocessing_exc_tuple` in IPython 7.17 and above.\n",
      "  and should_run_async(code)\n"
     ]
    }
   ],
   "source": [
    "# 상위 5개의 샘플\n",
    "print(data.head(5))"
   ]
  },
  {
   "cell_type": "code",
   "execution_count": 15,
   "id": "392f0f1b",
   "metadata": {},
   "outputs": [
    {
     "name": "stderr",
     "output_type": "stream",
     "text": [
      "C:\\Users\\colin\\anaconda3\\envs\\DH\\lib\\site-packages\\ipykernel\\ipkernel.py:287: DeprecationWarning: `should_run_async` will not call `transform_cell` automatically in the future. Please pass the result to `transformed_cell` argument and any exception that happen during thetransform in `preprocessing_exc_tuple` in IPython 7.17 and above.\n",
      "  and should_run_async(code)\n"
     ]
    },
    {
     "data": {
      "text/html": [
       "<div>\n",
       "<style scoped>\n",
       "    .dataframe tbody tr th:only-of-type {\n",
       "        vertical-align: middle;\n",
       "    }\n",
       "\n",
       "    .dataframe tbody tr th {\n",
       "        vertical-align: top;\n",
       "    }\n",
       "\n",
       "    .dataframe thead th {\n",
       "        text-align: right;\n",
       "    }\n",
       "</style>\n",
       "<table border=\"1\" class=\"dataframe\">\n",
       "  <thead>\n",
       "    <tr style=\"text-align: right;\">\n",
       "      <th></th>\n",
       "      <th>headline_text</th>\n",
       "    </tr>\n",
       "  </thead>\n",
       "  <tbody>\n",
       "    <tr>\n",
       "      <th>0</th>\n",
       "      <td>aba decides against community broadcasting lic...</td>\n",
       "    </tr>\n",
       "    <tr>\n",
       "      <th>1</th>\n",
       "      <td>act fire witnesses must be aware of defamation</td>\n",
       "    </tr>\n",
       "    <tr>\n",
       "      <th>2</th>\n",
       "      <td>a g calls for infrastructure protection summit</td>\n",
       "    </tr>\n",
       "    <tr>\n",
       "      <th>3</th>\n",
       "      <td>air nz staff in aust strike for pay rise</td>\n",
       "    </tr>\n",
       "    <tr>\n",
       "      <th>4</th>\n",
       "      <td>air nz strike to affect australian travellers</td>\n",
       "    </tr>\n",
       "  </tbody>\n",
       "</table>\n",
       "</div>"
      ],
      "text/plain": [
       "                                       headline_text\n",
       "0  aba decides against community broadcasting lic...\n",
       "1     act fire witnesses must be aware of defamation\n",
       "2     a g calls for infrastructure protection summit\n",
       "3           air nz staff in aust strike for pay rise\n",
       "4      air nz strike to affect australian travellers"
      ]
     },
     "execution_count": 15,
     "metadata": {},
     "output_type": "execute_result"
    }
   ],
   "source": [
    "# 뉴스 기사 제목\n",
    "text = data[['headline_text']]\n",
    "text.head(5)"
   ]
  },
  {
   "cell_type": "markdown",
   "id": "3844c353",
   "metadata": {},
   "source": [
    "### 2) 텍스트 전처리"
   ]
  },
  {
   "cell_type": "code",
   "execution_count": 16,
   "id": "8ce981f8",
   "metadata": {},
   "outputs": [
    {
     "name": "stderr",
     "output_type": "stream",
     "text": [
      "C:\\Users\\colin\\anaconda3\\envs\\DH\\lib\\site-packages\\ipykernel\\ipkernel.py:287: DeprecationWarning: `should_run_async` will not call `transform_cell` automatically in the future. Please pass the result to `transformed_cell` argument and any exception that happen during thetransform in `preprocessing_exc_tuple` in IPython 7.17 and above.\n",
      "  and should_run_async(code)\n"
     ]
    },
    {
     "name": "stdout",
     "output_type": "stream",
     "text": [
      "                                       headline_text\n",
      "0  [aba, decides, against, community, broadcastin...\n",
      "1  [act, fire, witnesses, must, be, aware, of, de...\n",
      "2  [a, g, calls, for, infrastructure, protection,...\n",
      "3  [air, nz, staff, in, aust, strike, for, pay, r...\n",
      "4  [air, nz, strike, to, affect, australian, trav...\n"
     ]
    },
    {
     "name": "stderr",
     "output_type": "stream",
     "text": [
      "<ipython-input-16-844c6e452e11>:3: SettingWithCopyWarning: \n",
      "A value is trying to be set on a copy of a slice from a DataFrame.\n",
      "Try using .loc[row_indexer,col_indexer] = value instead\n",
      "\n",
      "See the caveats in the documentation: https://pandas.pydata.org/pandas-docs/stable/user_guide/indexing.html#returning-a-view-versus-a-copy\n",
      "  text['headline_text'] = text.apply(lambda row: nltk.word_tokenize(row['headline_text']), axis=1)\n"
     ]
    }
   ],
   "source": [
    "import nltk\n",
    "# NLTK의 word_tokenize를 통해 단어 토큰화를 수행\n",
    "text['headline_text'] = text.apply(lambda row: nltk.word_tokenize(row['headline_text']), axis=1)\n",
    "print(text.head(5))"
   ]
  },
  {
   "cell_type": "code",
   "execution_count": 17,
   "id": "5da58d94",
   "metadata": {},
   "outputs": [
    {
     "name": "stderr",
     "output_type": "stream",
     "text": [
      "C:\\Users\\colin\\anaconda3\\envs\\DH\\lib\\site-packages\\ipykernel\\ipkernel.py:287: DeprecationWarning: `should_run_async` will not call `transform_cell` automatically in the future. Please pass the result to `transformed_cell` argument and any exception that happen during thetransform in `preprocessing_exc_tuple` in IPython 7.17 and above.\n",
      "  and should_run_async(code)\n"
     ]
    },
    {
     "name": "stdout",
     "output_type": "stream",
     "text": [
      "                                       headline_text\n",
      "0   [aba, decides, community, broadcasting, licence]\n",
      "1    [act, fire, witnesses, must, aware, defamation]\n",
      "2     [g, calls, infrastructure, protection, summit]\n",
      "3          [air, nz, staff, aust, strike, pay, rise]\n",
      "4  [air, nz, strike, affect, australian, travellers]\n"
     ]
    },
    {
     "name": "stderr",
     "output_type": "stream",
     "text": [
      "<ipython-input-17-b8e1d573c30a>:4: SettingWithCopyWarning: \n",
      "A value is trying to be set on a copy of a slice from a DataFrame.\n",
      "Try using .loc[row_indexer,col_indexer] = value instead\n",
      "\n",
      "See the caveats in the documentation: https://pandas.pydata.org/pandas-docs/stable/user_guide/indexing.html#returning-a-view-versus-a-copy\n",
      "  text['headline_text'] = text['headline_text'].apply(lambda x: [word for word in x if word not in (stop)])\n"
     ]
    }
   ],
   "source": [
    "# 불용어를 제거\n",
    "from nltk.corpus import stopwords\n",
    "stop = stopwords.words('english')\n",
    "text['headline_text'] = text['headline_text'].apply(lambda x: [word for word in x if word not in (stop)])\n",
    "print(text.head(5))"
   ]
  },
  {
   "cell_type": "markdown",
   "id": "f0eda4a4",
   "metadata": {},
   "source": [
    "> against, be, of, a, in, to 등의 단어가 제거됨."
   ]
  },
  {
   "cell_type": "code",
   "execution_count": 18,
   "id": "7d8ba536",
   "metadata": {},
   "outputs": [
    {
     "name": "stderr",
     "output_type": "stream",
     "text": [
      "C:\\Users\\colin\\anaconda3\\envs\\DH\\lib\\site-packages\\ipykernel\\ipkernel.py:287: DeprecationWarning: `should_run_async` will not call `transform_cell` automatically in the future. Please pass the result to `transformed_cell` argument and any exception that happen during thetransform in `preprocessing_exc_tuple` in IPython 7.17 and above.\n",
      "  and should_run_async(code)\n"
     ]
    },
    {
     "name": "stdout",
     "output_type": "stream",
     "text": [
      "                                       headline_text\n",
      "0       [aba, decide, community, broadcast, licence]\n",
      "1      [act, fire, witness, must, aware, defamation]\n",
      "2      [g, call, infrastructure, protection, summit]\n",
      "3          [air, nz, staff, aust, strike, pay, rise]\n",
      "4  [air, nz, strike, affect, australian, travellers]\n"
     ]
    },
    {
     "name": "stderr",
     "output_type": "stream",
     "text": [
      "<ipython-input-18-c88ff4091630>:4: SettingWithCopyWarning: \n",
      "A value is trying to be set on a copy of a slice from a DataFrame.\n",
      "Try using .loc[row_indexer,col_indexer] = value instead\n",
      "\n",
      "See the caveats in the documentation: https://pandas.pydata.org/pandas-docs/stable/user_guide/indexing.html#returning-a-view-versus-a-copy\n",
      "  text['headline_text'] = text['headline_text'].apply(lambda x: [WordNetLemmatizer().lemmatize(word, pos='v') for word in x])\n"
     ]
    }
   ],
   "source": [
    "#nltk.download('wordnet')\n",
    "# 표제어 추출 :  3인칭 단수 표현을 1인칭으로 바꾸고, 과거 현재형 동사를 현재형으로 바꿈.\n",
    "from nltk.stem import WordNetLemmatizer\n",
    "text['headline_text'] = text['headline_text'].apply(lambda x: [WordNetLemmatizer().lemmatize(word, pos='v') for word in x])\n",
    "print(text.head(5))"
   ]
  },
  {
   "cell_type": "code",
   "execution_count": 19,
   "id": "10a73304",
   "metadata": {},
   "outputs": [
    {
     "name": "stderr",
     "output_type": "stream",
     "text": [
      "C:\\Users\\colin\\anaconda3\\envs\\DH\\lib\\site-packages\\ipykernel\\ipkernel.py:287: DeprecationWarning: `should_run_async` will not call `transform_cell` automatically in the future. Please pass the result to `transformed_cell` argument and any exception that happen during thetransform in `preprocessing_exc_tuple` in IPython 7.17 and above.\n",
      "  and should_run_async(code)\n"
     ]
    },
    {
     "name": "stdout",
     "output_type": "stream",
     "text": [
      "0       [decide, community, broadcast, licence]\n",
      "1      [fire, witness, must, aware, defamation]\n",
      "2    [call, infrastructure, protection, summit]\n",
      "3                   [staff, aust, strike, rise]\n",
      "4      [strike, affect, australian, travellers]\n",
      "Name: headline_text, dtype: object\n"
     ]
    }
   ],
   "source": [
    "# 길이가 3이하인 단어에 대해서 제거\n",
    "tokenized_doc = text['headline_text'].apply(lambda x: [word for word in x if len(word) > 3])\n",
    "print(tokenized_doc[:5])"
   ]
  },
  {
   "cell_type": "markdown",
   "id": "117e61fd",
   "metadata": {},
   "source": [
    "### 3) TF-IDF 행렬 만들기"
   ]
  },
  {
   "cell_type": "code",
   "execution_count": 20,
   "id": "e19b0998",
   "metadata": {},
   "outputs": [
    {
     "name": "stderr",
     "output_type": "stream",
     "text": [
      "C:\\Users\\colin\\anaconda3\\envs\\DH\\lib\\site-packages\\ipykernel\\ipkernel.py:287: DeprecationWarning: `should_run_async` will not call `transform_cell` automatically in the future. Please pass the result to `transformed_cell` argument and any exception that happen during thetransform in `preprocessing_exc_tuple` in IPython 7.17 and above.\n",
      "  and should_run_async(code)\n",
      "<ipython-input-20-95179c13e001>:8: SettingWithCopyWarning: \n",
      "A value is trying to be set on a copy of a slice from a DataFrame.\n",
      "Try using .loc[row_indexer,col_indexer] = value instead\n",
      "\n",
      "See the caveats in the documentation: https://pandas.pydata.org/pandas-docs/stable/user_guide/indexing.html#returning-a-view-versus-a-copy\n",
      "  text['headline_text'] = detokenized_doc # 다시 text['headline_text']에 재저장\n"
     ]
    },
    {
     "data": {
      "text/plain": [
       "0       decide community broadcast licence\n",
       "1       fire witness must aware defamation\n",
       "2    call infrastructure protection summit\n",
       "3                   staff aust strike rise\n",
       "4      strike affect australian travellers\n",
       "Name: headline_text, dtype: object"
      ]
     },
     "execution_count": 20,
     "metadata": {},
     "output_type": "execute_result"
    }
   ],
   "source": [
    "# TfidfVectorizer는 기본적으로 토큰화가 되어있지 않은 텍스트 데이터를 입력으로 사용.\n",
    "# 역토큰화 (토큰화 작업을 되돌림)\n",
    "detokenized_doc = []\n",
    "for i in range(len(text)):\n",
    "    t = ' '.join(tokenized_doc[i])\n",
    "    detokenized_doc.append(t)\n",
    "\n",
    "text['headline_text'] = detokenized_doc # 다시 text['headline_text']에 재저장\n",
    "text['headline_text'][:5] # 5개의 샘플"
   ]
  },
  {
   "cell_type": "code",
   "execution_count": 21,
   "id": "8215fb7d",
   "metadata": {},
   "outputs": [
    {
     "name": "stderr",
     "output_type": "stream",
     "text": [
      "C:\\Users\\colin\\anaconda3\\envs\\DH\\lib\\site-packages\\ipykernel\\ipkernel.py:287: DeprecationWarning: `should_run_async` will not call `transform_cell` automatically in the future. Please pass the result to `transformed_cell` argument and any exception that happen during thetransform in `preprocessing_exc_tuple` in IPython 7.17 and above.\n",
      "  and should_run_async(code)\n"
     ]
    },
    {
     "data": {
      "text/plain": [
       "(1226258, 1000)"
      ]
     },
     "execution_count": 21,
     "metadata": {},
     "output_type": "execute_result"
    }
   ],
   "source": [
    "from sklearn.feature_extraction.text import TfidfVectorizer\n",
    "vectorizer = TfidfVectorizer(stop_words='english', \n",
    "max_features= 1000) # 상위 1,000개의 단어를 보존 \n",
    "X = vectorizer.fit_transform(text['headline_text'])\n",
    "X.shape # TF-IDF 행렬의 크기 확인"
   ]
  },
  {
   "cell_type": "markdown",
   "id": "8a763091",
   "metadata": {},
   "source": [
    "> 텍스트 데이터에 있는 모든 단어를 가지고 TF-IDF 행렬을 만들 수도 있겠지만, 여기서는 간단히 1,000개의 단어로 제한  \n",
    "> 1,226,258 × 1,000의 크기를 가진 가진 TF-IDF 행렬이 생김."
   ]
  },
  {
   "cell_type": "markdown",
   "id": "cb7c7d1d",
   "metadata": {},
   "source": [
    "### 4) 토픽 모델링(LDA 수행)"
   ]
  },
  {
   "cell_type": "code",
   "execution_count": 22,
   "id": "29783d08",
   "metadata": {},
   "outputs": [
    {
     "name": "stderr",
     "output_type": "stream",
     "text": [
      "C:\\Users\\colin\\anaconda3\\envs\\DH\\lib\\site-packages\\ipykernel\\ipkernel.py:287: DeprecationWarning: `should_run_async` will not call `transform_cell` automatically in the future. Please pass the result to `transformed_cell` argument and any exception that happen during thetransform in `preprocessing_exc_tuple` in IPython 7.17 and above.\n",
      "  and should_run_async(code)\n"
     ]
    },
    {
     "name": "stdout",
     "output_type": "stream",
     "text": [
      "[[1.00000865e-01 1.00000439e-01 1.00001997e-01 ... 1.00006873e-01\n",
      "  1.00003405e-01 1.00005209e-01]\n",
      " [1.00001642e-01 1.00000829e-01 6.40533260e+02 ... 1.00009111e-01\n",
      "  1.00004890e-01 5.79474578e+02]\n",
      " [1.00001468e-01 1.00000275e-01 1.00001496e-01 ... 1.00004592e-01\n",
      "  1.00001786e-01 1.00005396e-01]\n",
      " ...\n",
      " [1.00002822e-01 1.00000923e-01 1.00001462e-01 ... 1.00009141e-01\n",
      "  1.00005015e-01 1.00008595e-01]\n",
      " [1.00004695e-01 1.00002038e-01 1.00001419e-01 ... 1.00004812e-01\n",
      "  1.00002548e-01 1.00007925e-01]\n",
      " [1.07423402e+02 2.03964360e+02 1.00002187e-01 ... 1.00006822e-01\n",
      "  1.00003052e-01 1.00006310e-01]]\n",
      "\n",
      "(10, 1000)\n"
     ]
    }
   ],
   "source": [
    "from sklearn.decomposition import LatentDirichletAllocation\n",
    "lda_model=LatentDirichletAllocation(n_components=10,learning_method='online',random_state=777,max_iter=1)\n",
    "lda_top=lda_model.fit_transform(X)\n",
    "print(lda_model.components_)\n",
    "print()\n",
    "print(lda_model.components_.shape) "
   ]
  },
  {
   "cell_type": "code",
   "execution_count": 23,
   "id": "c3932a77",
   "metadata": {},
   "outputs": [
    {
     "name": "stdout",
     "output_type": "stream",
     "text": [
      "Topic 1: [('queensland', 12908.75), ('sydney', 10948.96), ('melbourne', 8900.08), ('change', 7262.83), ('crash', 6153.23)]\n",
      "Topic 2: [('australia', 19355.9), ('australian', 13286.11), ('leave', 4930.96), ('speak', 4845.83), ('perth', 4709.2)]\n",
      "Topic 3: [('donald', 9114.15), ('live', 7908.02), ('federal', 4711.88), ('rise', 4630.85), ('victorian', 4567.89)]\n",
      "Topic 4: [('health', 6349.63), ('tasmania', 6141.91), ('report', 5567.09), ('plan', 4834.44), ('time', 4744.41)]\n",
      "Topic 5: [('state', 6086.17), ('open', 6074.01), ('coast', 6015.08), ('restrictions', 5961.35), ('woman', 5921.79)]\n",
      "Topic 6: [('trump', 15903.94), ('police', 13931.38), ('home', 7318.39), ('test', 7241.0), ('market', 6529.05)]\n",
      "Topic 7: [('government', 9187.9), ('record', 6384.64), ('border', 6378.89), ('help', 5807.23), ('people', 5620.56)]\n",
      "Topic 8: [('coronavirus', 48038.98), ('covid', 19540.99), ('victoria', 10827.28), ('china', 8358.46), ('death', 7181.89)]\n",
      "Topic 9: [('case', 10138.89), ('charge', 8386.79), ('court', 8195.91), ('murder', 7177.55), ('years', 5828.17)]\n",
      "Topic 10: [('election', 9987.75), ('news', 8582.48), ('kill', 6939.16), ('world', 6872.76), ('school', 6214.29)]\n"
     ]
    },
    {
     "name": "stderr",
     "output_type": "stream",
     "text": [
      "C:\\Users\\colin\\anaconda3\\envs\\DH\\lib\\site-packages\\ipykernel\\ipkernel.py:287: DeprecationWarning: `should_run_async` will not call `transform_cell` automatically in the future. Please pass the result to `transformed_cell` argument and any exception that happen during thetransform in `preprocessing_exc_tuple` in IPython 7.17 and above.\n",
      "  and should_run_async(code)\n"
     ]
    }
   ],
   "source": [
    "terms = vectorizer.get_feature_names() # 단어 집합. 1,000개의 단어가 저장됨.\n",
    "\n",
    "def get_topics(components, feature_names, n=5):\n",
    "    for idx, topic in enumerate(components):\n",
    "        print(\"Topic %d:\" % (idx+1), [(feature_names[i], topic[i].round(2)) for i in topic.argsort()[:-n - 1:-1]])\n",
    "\n",
    "get_topics(lda_model.components_,terms)"
   ]
  },
  {
   "cell_type": "code",
   "execution_count": null,
   "id": "786fbb58",
   "metadata": {},
   "outputs": [],
   "source": []
  }
 ],
 "metadata": {
  "kernelspec": {
   "display_name": "DH",
   "language": "python",
   "name": "dh"
  },
  "language_info": {
   "codemirror_mode": {
    "name": "ipython",
    "version": 3
   },
   "file_extension": ".py",
   "mimetype": "text/x-python",
   "name": "python",
   "nbconvert_exporter": "python",
   "pygments_lexer": "ipython3",
   "version": "3.8.10"
  }
 },
 "nbformat": 4,
 "nbformat_minor": 5
}
