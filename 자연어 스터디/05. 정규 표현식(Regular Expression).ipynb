{
 "cells": [
  {
   "cell_type": "markdown",
   "id": "7c471c35",
   "metadata": {},
   "source": [
    "##  1. '.' 기호"
   ]
  },
  {
   "cell_type": "markdown",
   "id": "fc60501b",
   "metadata": {},
   "source": [
    "- .은 한 개의 임의의 문자를 나타냄"
   ]
  },
  {
   "cell_type": "code",
   "execution_count": 1,
   "id": "0ee9542a",
   "metadata": {},
   "outputs": [
    {
     "data": {
      "text/plain": [
       "<re.Match object; span=(0, 3), match='abc'>"
      ]
     },
     "execution_count": 1,
     "metadata": {},
     "output_type": "execute_result"
    }
   ],
   "source": [
    "import re\n",
    "r=re.compile(\"a.c\")\n",
    "r.search(\"kkk\") # 아무런 결과도 출력되지 않는다.\n",
    "r.search(\"abc\")\n"
   ]
  },
  {
   "cell_type": "markdown",
   "id": "59ae9e4f",
   "metadata": {},
   "source": [
    "##  2. '?' 기호"
   ]
  },
  {
   "cell_type": "markdown",
   "id": "cdb71a9c",
   "metadata": {},
   "source": [
    "- ?는 ? 앞의 문자가 존재할 수도 있고, 존재하지 않을 수도 있는 경우를 나타냄."
   ]
  },
  {
   "cell_type": "code",
   "execution_count": 2,
   "id": "b7f915ac",
   "metadata": {},
   "outputs": [
    {
     "data": {
      "text/plain": [
       "<re.Match object; span=(0, 3), match='abc'>"
      ]
     },
     "execution_count": 2,
     "metadata": {},
     "output_type": "execute_result"
    }
   ],
   "source": [
    "import re\n",
    "r=re.compile(\"ab?c\")\n",
    "r.search(\"abbc\") # 아무런 결과도 출력되지 않는다.\n",
    "r.search(\"abc\")"
   ]
  },
  {
   "cell_type": "markdown",
   "id": "3155bce9",
   "metadata": {},
   "source": [
    "> ?는 ? 앞의 문자가 존재할 수도 있고, 존재하지 않을 수도 있는 경우를 나타냄."
   ]
  },
  {
   "cell_type": "code",
   "execution_count": 3,
   "id": "a62008e5",
   "metadata": {},
   "outputs": [
    {
     "data": {
      "text/plain": [
       "<re.Match object; span=(0, 2), match='ac'>"
      ]
     },
     "execution_count": 3,
     "metadata": {},
     "output_type": "execute_result"
    }
   ],
   "source": [
    "r.search(\"ac\")"
   ]
  },
  {
   "cell_type": "markdown",
   "id": "b50624d7",
   "metadata": {},
   "source": [
    "> b가 없는 것으로 판단하여 ac를 매치하는 것을 볼 수 있습니다."
   ]
  },
  {
   "cell_type": "markdown",
   "id": "2b379277",
   "metadata": {},
   "source": [
    "##  3. '*' 기호"
   ]
  },
  {
   "cell_type": "markdown",
   "id": "9c8000f0",
   "metadata": {},
   "source": [
    "- 은 바로 앞의 문자가 0개 이상일 경우를 나타냄.\n",
    "- 앞의 문자는 존재하지 않을 수도 있으며, 또는 여러 개일 수도 있습니다."
   ]
  },
  {
   "cell_type": "code",
   "execution_count": 4,
   "id": "911f81b6",
   "metadata": {},
   "outputs": [
    {
     "data": {
      "text/plain": [
       "<re.Match object; span=(0, 2), match='ac'>"
      ]
     },
     "execution_count": 4,
     "metadata": {},
     "output_type": "execute_result"
    }
   ],
   "source": [
    "import re\n",
    "r=re.compile(\"ab*c\")\n",
    "r.search(\"a\") # 아무런 결과도 출력되지 않는다.\n",
    "r.search(\"ac\")"
   ]
  },
  {
   "cell_type": "code",
   "execution_count": 5,
   "id": "7833f787",
   "metadata": {},
   "outputs": [
    {
     "data": {
      "text/plain": [
       "<re.Match object; span=(0, 3), match='abc'>"
      ]
     },
     "execution_count": 5,
     "metadata": {},
     "output_type": "execute_result"
    }
   ],
   "source": [
    "r.search(\"abc\")"
   ]
  },
  {
   "cell_type": "code",
   "execution_count": 6,
   "id": "cbf45a26",
   "metadata": {},
   "outputs": [
    {
     "data": {
      "text/plain": [
       "<re.Match object; span=(0, 6), match='abbbbc'>"
      ]
     },
     "execution_count": 6,
     "metadata": {},
     "output_type": "execute_result"
    }
   ],
   "source": [
    "r.search(\"abbbbc\")"
   ]
  },
  {
   "cell_type": "markdown",
   "id": "6c6636bc",
   "metadata": {},
   "source": [
    "## 4. '+' 기호"
   ]
  },
  {
   "cell_type": "markdown",
   "id": "5ec4f159",
   "metadata": {},
   "source": [
    "- +는 *와 유사\n",
    "- 다른 점은 앞의 문자가 최소 1개 이상이어야 한다는 점"
   ]
  },
  {
   "cell_type": "code",
   "execution_count": 7,
   "id": "f4c2e525",
   "metadata": {},
   "outputs": [
    {
     "data": {
      "text/plain": [
       "<re.Match object; span=(0, 3), match='abc'>"
      ]
     },
     "execution_count": 7,
     "metadata": {},
     "output_type": "execute_result"
    }
   ],
   "source": [
    "import re\n",
    "r=re.compile(\"ab+c\")\n",
    "r.search(\"ac\") # 아무런 결과도 출력되지 않는다.\n",
    "r.search(\"abc\")"
   ]
  },
  {
   "cell_type": "code",
   "execution_count": 8,
   "id": "82ba0894",
   "metadata": {},
   "outputs": [
    {
     "data": {
      "text/plain": [
       "<re.Match object; span=(0, 6), match='abbbbc'>"
      ]
     },
     "execution_count": 8,
     "metadata": {},
     "output_type": "execute_result"
    }
   ],
   "source": [
    "r.search(\"abbbbc\")"
   ]
  },
  {
   "cell_type": "markdown",
   "id": "6cb36ab3",
   "metadata": {},
   "source": [
    "## 5. '^' 기호"
   ]
  },
  {
   "cell_type": "markdown",
   "id": "0ebe9e7f",
   "metadata": {},
   "source": [
    "- ^는 시작되는 글자를 지정"
   ]
  },
  {
   "cell_type": "code",
   "execution_count": 9,
   "id": "4cad852a",
   "metadata": {},
   "outputs": [
    {
     "data": {
      "text/plain": [
       "<re.Match object; span=(0, 1), match='a'>"
      ]
     },
     "execution_count": 9,
     "metadata": {},
     "output_type": "execute_result"
    }
   ],
   "source": [
    "import re\n",
    "r=re.compile(\"^a\")\n",
    "r.search(\"bbc\") # 아무런 결과도 출력되지 않는다.\n",
    "r.search(\"ab\")"
   ]
  },
  {
   "cell_type": "markdown",
   "id": "599df851",
   "metadata": {},
   "source": [
    "> bbc는 a로 시작되지 않지만, ab는 a로 시작되기 때문에 매치"
   ]
  },
  {
   "cell_type": "markdown",
   "id": "1ddccd71",
   "metadata": {},
   "source": [
    "## 6. '{숫자}' 기호"
   ]
  },
  {
   "cell_type": "markdown",
   "id": "d98d758e",
   "metadata": {},
   "source": [
    "- 문자에 해당 기호를 붙이면, 해당 문자를 숫자만큼 반복한 것을 나타냄"
   ]
  },
  {
   "cell_type": "code",
   "execution_count": 10,
   "id": "dcec4c64",
   "metadata": {},
   "outputs": [
    {
     "data": {
      "text/plain": [
       "<re.Match object; span=(0, 4), match='abbc'>"
      ]
     },
     "execution_count": 10,
     "metadata": {},
     "output_type": "execute_result"
    }
   ],
   "source": [
    "import re\n",
    "r=re.compile(\"ab{2}c\")\n",
    "r.search(\"ac\") # 아무런 결과도 출력되지 않는다.\n",
    "r.search(\"abc\") # 아무런 결과도 출력되지 않는다.\n",
    "r.search(\"abbc\")"
   ]
  },
  {
   "cell_type": "code",
   "execution_count": 11,
   "id": "a31e998f",
   "metadata": {},
   "outputs": [],
   "source": [
    "r.search(\"abbbbbc\") # 아무런 결과도 출력되지 않는다."
   ]
  },
  {
   "cell_type": "markdown",
   "id": "6be433bb",
   "metadata": {},
   "source": [
    "## 7. '{숫자1, 숫자2}' 기호"
   ]
  },
  {
   "cell_type": "markdown",
   "id": "c32b402b",
   "metadata": {},
   "source": [
    "- 문자에 해당 기호를 붙이면, 해당 문자를 숫자1 이상 숫자2 이하만큼 반복"
   ]
  },
  {
   "cell_type": "code",
   "execution_count": 12,
   "id": "299bfb00",
   "metadata": {},
   "outputs": [
    {
     "data": {
      "text/plain": [
       "<re.Match object; span=(0, 4), match='abbc'>"
      ]
     },
     "execution_count": 12,
     "metadata": {},
     "output_type": "execute_result"
    }
   ],
   "source": [
    "import re\n",
    "r=re.compile(\"ab{2,8}c\")\n",
    "r.search(\"ac\") # 아무런 결과도 출력되지 않는다.\n",
    "r.search(\"ac\") # 아무런 결과도 출력되지 않는다.\n",
    "r.search(\"abc\") # 아무런 결과도 출력되지 않는다.\n",
    "r.search(\"abbc\")"
   ]
  },
  {
   "cell_type": "code",
   "execution_count": 13,
   "id": "16172c20",
   "metadata": {},
   "outputs": [
    {
     "data": {
      "text/plain": [
       "<re.Match object; span=(0, 10), match='abbbbbbbbc'>"
      ]
     },
     "execution_count": 13,
     "metadata": {},
     "output_type": "execute_result"
    }
   ],
   "source": [
    "r.search(\"abbbbbbbbc\")"
   ]
  },
  {
   "cell_type": "code",
   "execution_count": 14,
   "id": "e95c37dd",
   "metadata": {},
   "outputs": [],
   "source": [
    "r.search(\"abbbbbbbbbc\") # 아무런 결과도 출력되지 않는다."
   ]
  },
  {
   "cell_type": "markdown",
   "id": "280a6e0d",
   "metadata": {},
   "source": [
    "## 8. '{숫자,}' 기호"
   ]
  },
  {
   "cell_type": "markdown",
   "id": "4b1cf083",
   "metadata": {},
   "source": [
    "\n",
    "- 문자에 해당 기호를 붙이면 해당 문자를 숫자 이상 만큼 반복"
   ]
  },
  {
   "cell_type": "code",
   "execution_count": 15,
   "id": "d14335fc",
   "metadata": {},
   "outputs": [
    {
     "data": {
      "text/plain": [
       "<re.Match object; span=(0, 4), match='aabc'>"
      ]
     },
     "execution_count": 15,
     "metadata": {},
     "output_type": "execute_result"
    }
   ],
   "source": [
    "import re\n",
    "r=re.compile(\"a{2,}bc\")\n",
    "r.search(\"bc\") # 아무런 결과도 출력되지 않는다.\n",
    "r.search(\"aa\") # 아무런 결과도 출력되지 않는다.\n",
    "r.search(\"aabc\")"
   ]
  },
  {
   "cell_type": "code",
   "execution_count": 16,
   "id": "38a5b4f0",
   "metadata": {},
   "outputs": [
    {
     "data": {
      "text/plain": [
       "<re.Match object; span=(0, 10), match='aaaaaaaabc'>"
      ]
     },
     "execution_count": 16,
     "metadata": {},
     "output_type": "execute_result"
    }
   ],
   "source": [
    "r.search(\"aaaaaaaabc\")"
   ]
  },
  {
   "cell_type": "markdown",
   "id": "109f8dc7",
   "metadata": {},
   "source": [
    "## 9. 기호"
   ]
  },
  {
   "cell_type": "markdown",
   "id": "b5a8ec8a",
   "metadata": {},
   "source": [
    "- [ ]안에 문자들을 넣으면 그 문자들 중 한 개의 문자와 매치라는 의미를 가짐."
   ]
  },
  {
   "cell_type": "code",
   "execution_count": 17,
   "id": "997dc2b7",
   "metadata": {},
   "outputs": [
    {
     "data": {
      "text/plain": [
       "<re.Match object; span=(0, 1), match='a'>"
      ]
     },
     "execution_count": 17,
     "metadata": {},
     "output_type": "execute_result"
    }
   ],
   "source": [
    "import re\n",
    "r=re.compile(\"[abc]\") # [abc]는 [a-c]와 같다.\n",
    "r.search(\"zzz\") # 아무런 결과도 출력되지 않는다.\n",
    "r.search(\"a\")"
   ]
  },
  {
   "cell_type": "code",
   "execution_count": 18,
   "id": "c9c0c381",
   "metadata": {},
   "outputs": [
    {
     "data": {
      "text/plain": [
       "<re.Match object; span=(0, 1), match='a'>"
      ]
     },
     "execution_count": 18,
     "metadata": {},
     "output_type": "execute_result"
    }
   ],
   "source": [
    "r.search(\"aaaaaaa\")"
   ]
  },
  {
   "cell_type": "code",
   "execution_count": 19,
   "id": "5daeef05",
   "metadata": {},
   "outputs": [
    {
     "data": {
      "text/plain": [
       "<re.Match object; span=(0, 1), match='b'>"
      ]
     },
     "execution_count": 19,
     "metadata": {},
     "output_type": "execute_result"
    }
   ],
   "source": [
    "r.search(\"baac\")"
   ]
  },
  {
   "cell_type": "markdown",
   "id": "dad041ce",
   "metadata": {},
   "source": [
    "- 알파벳 소문자에 대해서만 범위 지정"
   ]
  },
  {
   "cell_type": "code",
   "execution_count": 20,
   "id": "4baf17c2",
   "metadata": {},
   "outputs": [
    {
     "data": {
      "text/plain": [
       "<re.Match object; span=(0, 1), match='a'>"
      ]
     },
     "execution_count": 20,
     "metadata": {},
     "output_type": "execute_result"
    }
   ],
   "source": [
    "import re\n",
    "r=re.compile(\"[a-z]\")\n",
    "r.search(\"AAA\") # 아무런 결과도 출력되지 않는다.\n",
    "r.search(\"aBC\")"
   ]
  },
  {
   "cell_type": "code",
   "execution_count": 21,
   "id": "9a219563",
   "metadata": {},
   "outputs": [],
   "source": [
    "r.search(\"111\") # 아무런 결과도 출력되지 않는다."
   ]
  },
  {
   "cell_type": "markdown",
   "id": "adf37378",
   "metadata": {},
   "source": [
    "## 10. '[^문자]' 기호"
   ]
  },
  {
   "cell_type": "markdown",
   "id": "b67f4d71",
   "metadata": {},
   "source": [
    "- [^문자]는 5)에서 설명한 ^와는 완전히 다른 의미로 쓰임.\n",
    "- ^ 기호 뒤에 붙은 문자들을 제외한 모든 문자를 매치하는 역할"
   ]
  },
  {
   "cell_type": "code",
   "execution_count": 22,
   "id": "a86d6aa4",
   "metadata": {},
   "outputs": [
    {
     "data": {
      "text/plain": [
       "<re.Match object; span=(0, 1), match='d'>"
      ]
     },
     "execution_count": 22,
     "metadata": {},
     "output_type": "execute_result"
    }
   ],
   "source": [
    "import re\n",
    "r=re.compile(\"[^abc]\")\n",
    "r.search(\"a\") # 아무런 결과도 출력되지 않는다.\n",
    "r.search(\"ab\") # 아무런 결과도 출력되지 않는다.\n",
    "r.search(\"b\") # 아무런 결과도 출력되지 않는다.\n",
    "r.search(\"d\")"
   ]
  },
  {
   "cell_type": "code",
   "execution_count": 23,
   "id": "af24d2de",
   "metadata": {},
   "outputs": [
    {
     "data": {
      "text/plain": [
       "<re.Match object; span=(0, 1), match='1'>"
      ]
     },
     "execution_count": 23,
     "metadata": {},
     "output_type": "execute_result"
    }
   ],
   "source": [
    "r.search(\"1\")"
   ]
  },
  {
   "cell_type": "markdown",
   "id": "a6e939ea",
   "metadata": {},
   "source": [
    "## 11. 정규 표현식 모듈 함수 예제"
   ]
  },
  {
   "cell_type": "markdown",
   "id": "3c06b0c5",
   "metadata": {},
   "source": [
    "### **1) re.match() 와 re.search()의 차이**\n",
    "\n",
    "- search()가 정규 표현식 전체에 대해서 문자열이 매치하는지를 본다면, match()는 문자열의 첫 부분부터 정규 표현식과 매치하는지를 확인\n",
    "- 문자열 중간에 찾을 패턴이 있다고 하더라도, match 함수는 문자열의 시작에서 패턴이 일치하지 않으면 찾지 않음."
   ]
  },
  {
   "cell_type": "code",
   "execution_count": 24,
   "id": "fa984069",
   "metadata": {},
   "outputs": [
    {
     "data": {
      "text/plain": [
       "<re.Match object; span=(3, 6), match='abc'>"
      ]
     },
     "execution_count": 24,
     "metadata": {},
     "output_type": "execute_result"
    }
   ],
   "source": [
    "import re\n",
    "r=re.compile(\"ab.\")\n",
    "r.search(\"kkkabc\")"
   ]
  },
  {
   "cell_type": "code",
   "execution_count": 25,
   "id": "a4667a86",
   "metadata": {},
   "outputs": [
    {
     "data": {
      "text/plain": [
       "<re.Match object; span=(0, 3), match='abc'>"
      ]
     },
     "execution_count": 25,
     "metadata": {},
     "output_type": "execute_result"
    }
   ],
   "source": [
    "r.match(\"kkkabc\")  #아무런 결과도 출력되지 않는다.\n",
    "r.match(\"abckkk\")"
   ]
  },
  {
   "cell_type": "markdown",
   "id": "e20c2115",
   "metadata": {},
   "source": [
    "### **2) re.split()**\n",
    "\n",
    "- split() 함수는 입력된 정규 표현식을 기준으로 문자열들을 분리하여 리스트로 리턴\n",
    "- 자연어 처리에 있어서 가장 많이 사용되는 정규 표현식 함수 중 하나인데, 토큰화에 유용하게 쓰일 수 있기 때문"
   ]
  },
  {
   "cell_type": "code",
   "execution_count": 26,
   "id": "5d18a42b",
   "metadata": {},
   "outputs": [
    {
     "data": {
      "text/plain": [
       "['사과', '딸기', '수박', '메론', '바나나']"
      ]
     },
     "execution_count": 26,
     "metadata": {},
     "output_type": "execute_result"
    }
   ],
   "source": [
    "import re\n",
    "text=\"사과 딸기 수박 메론 바나나\"\n",
    "re.split(\" \",text)"
   ]
  },
  {
   "cell_type": "code",
   "execution_count": 27,
   "id": "7d32eaff",
   "metadata": {},
   "outputs": [
    {
     "data": {
      "text/plain": [
       "['사과', '딸기', '수박', '메론', '바나나']"
      ]
     },
     "execution_count": 27,
     "metadata": {},
     "output_type": "execute_result"
    }
   ],
   "source": [
    "import re\n",
    "text=\"\"\"사과\n",
    "딸기\n",
    "수박\n",
    "메론\n",
    "바나나\"\"\"\n",
    "re.split(\"\\n\",text)"
   ]
  },
  {
   "cell_type": "code",
   "execution_count": 28,
   "id": "6fd7df64",
   "metadata": {},
   "outputs": [
    {
     "data": {
      "text/plain": [
       "['사과', '딸기', '수박', '메론', '바나나']"
      ]
     },
     "execution_count": 28,
     "metadata": {},
     "output_type": "execute_result"
    }
   ],
   "source": [
    "import re\n",
    "text=\"사과+딸기+수박+메론+바나나\"\n",
    "re.split(\"\\+\",text)"
   ]
  },
  {
   "cell_type": "markdown",
   "id": "bd79321e",
   "metadata": {},
   "source": [
    "> 줄바꿈이나 다른 정규 표현식을 기준으로 텍스트를 분리할 수도 있습니다."
   ]
  },
  {
   "cell_type": "markdown",
   "id": "d17387b6",
   "metadata": {},
   "source": [
    "### **3) re.findall()**\n",
    "\n",
    "- findall() 함수는 정규 표현식과 매치되는 모든 문자열들을 리스트로 리턴\n",
    "- 단, 매치되는 문자열이 없다면 빈 리스트를 리턴"
   ]
  },
  {
   "cell_type": "code",
   "execution_count": 29,
   "id": "799391a1",
   "metadata": {},
   "outputs": [
    {
     "data": {
      "text/plain": [
       "['010', '1234', '1234', '30']"
      ]
     },
     "execution_count": 29,
     "metadata": {},
     "output_type": "execute_result"
    }
   ],
   "source": [
    "import re\n",
    "text=\"\"\"이름 : 김철수\n",
    "전화번호 : 010 - 1234 - 1234\n",
    "나이 : 30\n",
    "성별 : 남\"\"\"\n",
    "re.findall(\"\\d+\",text)\n"
   ]
  },
  {
   "cell_type": "code",
   "execution_count": 30,
   "id": "1baa94ed",
   "metadata": {},
   "outputs": [
    {
     "data": {
      "text/plain": [
       "[]"
      ]
     },
     "execution_count": 30,
     "metadata": {},
     "output_type": "execute_result"
    }
   ],
   "source": [
    "re.findall(\"\\d+\", \"문자열입니다.\")"
   ]
  },
  {
   "cell_type": "markdown",
   "id": "46550644",
   "metadata": {},
   "source": [
    "### **4) re.sub()**\n",
    "\n",
    "- sub() 함수는 정규 표현식 패턴과 일치하는 문자열을 찾아 다른 문자열로 대체"
   ]
  },
  {
   "cell_type": "code",
   "execution_count": 31,
   "id": "334c7692",
   "metadata": {},
   "outputs": [
    {
     "data": {
      "text/plain": [
       "'Regular expression   A regular expression  regex or regexp     sometimes called a rational expression        is  in theoretical computer science and formal language theory  a sequence of characters that define a search pattern '"
      ]
     },
     "execution_count": 31,
     "metadata": {},
     "output_type": "execute_result"
    }
   ],
   "source": [
    "import re\n",
    "text=\"Regular expression : A regular expression, regex or regexp[1] (sometimes called a rational expression)[2][3] is, in theoretical computer science and formal language theory, a sequence of characters that define a search pattern.\"\n",
    "re.sub('[^a-zA-Z]',' ',text)"
   ]
  },
  {
   "cell_type": "markdown",
   "id": "ebaf4b89",
   "metadata": {},
   "source": [
    "> 위와 같은 경우, 영어 문장에 각주 등과 같은 이유로 특수 문자가 섞여있음.\n",
    "> 자연어 처리를 위해 특수 문자를 제거하고 싶다면 알파벳 외의 문자는 공백으로 처리하는 등의 사용 용도로 쓸 수 있음."
   ]
  },
  {
   "cell_type": "markdown",
   "id": "801c2788",
   "metadata": {},
   "source": [
    "## 12. 정규 표현식 텍스트 전처리 예제"
   ]
  },
  {
   "cell_type": "code",
   "execution_count": 32,
   "id": "98ec116b",
   "metadata": {},
   "outputs": [
    {
     "data": {
      "text/plain": [
       "['100', 'John', 'PROF', '101', 'James', 'STUD', '102', 'Mac', 'STUD']"
      ]
     },
     "execution_count": 32,
     "metadata": {},
     "output_type": "execute_result"
    }
   ],
   "source": [
    "import re\n",
    "\n",
    "text = \"\"\"100 John    PROF\n",
    "101 James   STUD\n",
    "102 Mac   STUD\"\"\"\n",
    "\n",
    "re.split('\\s+', text)"
   ]
  },
  {
   "cell_type": "markdown",
   "id": "8dbfaa47",
   "metadata": {},
   "source": [
    "> '\\s+'는 공백을 찾아내는 정규표현식    \n",
    "> 뒤에 붙는 +는 최소 1개 이상의 패턴을 찾아낸다는 의미  \n",
    "> s는 공백을 의미하기 때문에 최소 1개 이상의 공백인 패턴을 찾아냄.  \n",
    "> 입력으로 테이블 형식의 데이터를 텍스트에 저장"
   ]
  },
  {
   "cell_type": "code",
   "execution_count": 33,
   "id": "4e4e8cd3",
   "metadata": {},
   "outputs": [
    {
     "data": {
      "text/plain": [
       "['100', '101', '102']"
      ]
     },
     "execution_count": 33,
     "metadata": {},
     "output_type": "execute_result"
    }
   ],
   "source": [
    "re.findall('\\d+',text)"
   ]
  },
  {
   "cell_type": "markdown",
   "id": "ededdecf",
   "metadata": {},
   "source": [
    "> 여기서 \\d는 숫자에 해당되는 정규표현식  \n",
    "> +를 붙였으므로 최소 1개 이상의 숫자에 해당하는 값을 의미    \n",
    "> findall은 해당 정규 표현식에 일치하는 값을 찾아내는 메소드"
   ]
  },
  {
   "cell_type": "code",
   "execution_count": 34,
   "id": "21d28711",
   "metadata": {},
   "outputs": [
    {
     "data": {
      "text/plain": [
       "['J', 'P', 'R', 'O', 'F', 'J', 'S', 'T', 'U', 'D', 'M', 'S', 'T', 'U', 'D']"
      ]
     },
     "execution_count": 34,
     "metadata": {},
     "output_type": "execute_result"
    }
   ],
   "source": [
    "re.findall('[A-Z]',text)"
   ]
  },
  {
   "cell_type": "code",
   "execution_count": 35,
   "id": "8aa525e7",
   "metadata": {},
   "outputs": [
    {
     "data": {
      "text/plain": [
       "['PROF', 'STUD', 'STUD']"
      ]
     },
     "execution_count": 35,
     "metadata": {},
     "output_type": "execute_result"
    }
   ],
   "source": [
    "re.findall('[A-Z]{4}',text)"
   ]
  },
  {
   "cell_type": "code",
   "execution_count": 36,
   "id": "4d3e7615",
   "metadata": {},
   "outputs": [
    {
     "data": {
      "text/plain": [
       "['John', 'James', 'Mac']"
      ]
     },
     "execution_count": 36,
     "metadata": {},
     "output_type": "execute_result"
    }
   ],
   "source": [
    "re.findall('[A-Z][a-z]+',text)"
   ]
  },
  {
   "cell_type": "code",
   "execution_count": 37,
   "id": "da61210c",
   "metadata": {},
   "outputs": [],
   "source": [
    "import re\n",
    "letters_only = re.sub('[^a-zA-Z]', ' ', text)"
   ]
  },
  {
   "cell_type": "markdown",
   "id": "9172ced4",
   "metadata": {},
   "source": [
    "> 위 코드는 영문자가 아닌 문자는 전부 공백으로 치환합니다."
   ]
  },
  {
   "cell_type": "markdown",
   "id": "8779b3d2",
   "metadata": {},
   "source": [
    "## 13**. 정규 표현식을 이용한 토큰화**\n",
    "\n",
    "- NLTK에서는 정규 표현식을 사용해서 단어 토큰화를 수행하는 RegexpTokenizer를 지원\n",
    "- RegexpTokenizer()에서 괄호 안에 원하는 정규 표현식을 넣어서 토큰화를 수행"
   ]
  },
  {
   "cell_type": "code",
   "execution_count": 38,
   "id": "1cb32dae",
   "metadata": {},
   "outputs": [
    {
     "name": "stdout",
     "output_type": "stream",
     "text": [
      "['Don', 't', 'be', 'fooled', 'by', 'the', 'dark', 'sounding', 'name', 'Mr', 'Jone', 's', 'Orphanage', 'is', 'as', 'cheery', 'as', 'cheery', 'goes', 'for', 'a', 'pastry', 'shop']\n"
     ]
    }
   ],
   "source": [
    "import nltk\n",
    "from nltk.tokenize import RegexpTokenizer\n",
    "tokenizer=RegexpTokenizer(\"[\\w]+\")\n",
    "print(tokenizer.tokenize(\"Don't be fooled by the dark sounding name, Mr. Jone's Orphanage is as cheery as cheery goes for a pastry shop\"))"
   ]
  },
  {
   "cell_type": "markdown",
   "id": "5595d836",
   "metadata": {},
   "source": [
    "> tokenizer=RegexpTokenizer(\"[\\w]+\")에서 \\+는 문자 또는 숫자가 1개 이상인 경우를 인식  \n",
    "> 그렇기 때문에 이 코드는 문장에서 구두점을 제외하고, 단어들만을 가지고 토큰화를 수행"
   ]
  },
  {
   "cell_type": "code",
   "execution_count": 39,
   "id": "56228012",
   "metadata": {},
   "outputs": [
    {
     "name": "stdout",
     "output_type": "stream",
     "text": [
      "[\"Don't\", 'be', 'fooled', 'by', 'the', 'dark', 'sounding', 'name,', 'Mr.', \"Jone's\", 'Orphanage', 'is', 'as', 'cheery', 'as', 'cheery', 'goes', 'for', 'a', 'pastry', 'shop']\n"
     ]
    }
   ],
   "source": [
    "import nltk\n",
    "from nltk.tokenize import RegexpTokenizer\n",
    "tokenizer=RegexpTokenizer(\"[\\s]+\", gaps=True)\n",
    "print(tokenizer.tokenize(\"Don't be fooled by the dark sounding name, Mr. Jone's Orphanage is as cheery as cheery goes for a pastry shop\"))"
   ]
  },
  {
   "cell_type": "markdown",
   "id": "6cf45c92",
   "metadata": {},
   "source": [
    "> 위 코드에서 gaps=true는 해당 정규 표현식을 토큰으로 나누기 위한 기준으로\n",
    "> 만약 gaps=True라는 부분을 기재하지 않는다면, 토큰화의 결과는 공백들만 나옴."
   ]
  }
 ],
 "metadata": {
  "kernelspec": {
   "display_name": "DH",
   "language": "python",
   "name": "dh"
  },
  "language_info": {
   "codemirror_mode": {
    "name": "ipython",
    "version": 3
   },
   "file_extension": ".py",
   "mimetype": "text/x-python",
   "name": "python",
   "nbconvert_exporter": "python",
   "pygments_lexer": "ipython3",
   "version": "3.8.8"
  }
 },
 "nbformat": 4,
 "nbformat_minor": 5
}
