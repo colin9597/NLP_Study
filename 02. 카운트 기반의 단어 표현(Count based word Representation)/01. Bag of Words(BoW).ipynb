{
 "cells": [
  {
   "cell_type": "markdown",
   "id": "a1850ed3",
   "metadata": {},
   "source": [
    "## 1. Bag of Words"
   ]
  },
  {
   "cell_type": "markdown",
   "id": "5c134a25",
   "metadata": {},
   "source": [
    "- 문서1 : 정부가 발표하는 물가상승률과 소비자가 느끼는 물가상승률은 다르다."
   ]
  },
  {
   "cell_type": "code",
   "execution_count": 1,
   "id": "0045256a",
   "metadata": {
    "scrolled": true
   },
   "outputs": [
    {
     "name": "stdout",
     "output_type": "stream",
     "text": [
      "[word2index]\n",
      "{'정부': 0, '가': 1, '발표': 2, '하는': 3, '물가상승률': 4, '과': 5, '소비자': 6, '느끼는': 7, '은': 8, '다르다': 9}\n",
      "\n",
      "[bow]\n",
      "[1, 2, 1, 1, 2, 1, 1, 1, 1, 1]\n"
     ]
    }
   ],
   "source": [
    "from konlpy.tag import Okt\n",
    "import re  \n",
    "okt=Okt()  \n",
    "\n",
    "# 정규 표현식을 통해 온점을 제거하는 정제 작업 \n",
    "token=re.sub(\"(\\.)\",\"\",\"정부가 발표하는 물가상승률과 소비자가 느끼는 물가상승률은 다르다.\")  \n",
    "# OKT 형태소 분석기를 통해 토큰화 작업을 수행한 뒤에, token에다가 넣음.\n",
    "token=okt.morphs(token)   \n",
    "\n",
    "word2index={}  \n",
    "bow=[]  \n",
    "# token을 읽으면서, word2index에 없는 (not in) 단어는 새로 추가하고, 이미 있는 단어는 넘김.\n",
    "for voca in token:  \n",
    "    if voca not in word2index.keys():  \n",
    "        word2index[voca]=len(word2index)  \n",
    "        # BoW 전체에 전부 기본값 1을 넣어줌.(단어의 개수는 최소 1개 이상이기 때문)  \n",
    "        bow.insert(len(word2index)-1,1)\n",
    "    else:\n",
    "        # 재등장하는 단어의 인덱스를 받아옴.\n",
    "        index=word2index.get(voca)\n",
    "        # 재등장한 단어는 해당하는 인덱스의 위치에 1을 더해줌.(단어의 개수를 세는 것)  \n",
    "        bow[index]=bow[index]+1\n",
    "\n",
    "print(\"[word2index]\")\n",
    "print(word2index)  \n",
    "\n",
    "print(\"\\n[bow]\")\n",
    "print(bow)"
   ]
  },
  {
   "cell_type": "markdown",
   "id": "93141afd",
   "metadata": {},
   "source": [
    "- 문서2 : 소비자는 주로 소비하는 상품을 기준으로 물가상승률을 느낀다."
   ]
  },
  {
   "cell_type": "code",
   "execution_count": 2,
   "id": "fd607932",
   "metadata": {},
   "outputs": [
    {
     "name": "stdout",
     "output_type": "stream",
     "text": [
      "[word2index]\n",
      "{'소비자': 0, '는': 1, '주로': 2, '소비': 3, '하는': 4, '상품': 5, '을': 6, '기준': 7, '으로': 8, '물가상승률': 9, '느낀다': 10}\n",
      "\n",
      "[bow]\n",
      "[1, 1, 1, 1, 1, 1, 2, 1, 1, 1, 1]\n"
     ]
    }
   ],
   "source": [
    "from konlpy.tag import Okt\n",
    "import re  \n",
    "okt=Okt()  \n",
    "\n",
    "# 정규 표현식을 통해 온점을 제거하는 정제 작업 \n",
    "token=re.sub(\"(\\.)\",\"\",\"소비자는 주로 소비하는 상품을 기준으로 물가상승률을 느낀다.\")  \n",
    "# OKT 형태소 분석기를 통해 토큰화 작업을 수행한 뒤에, token에다가 넣음.\n",
    "token=okt.morphs(token)   \n",
    "\n",
    "word2index={}  \n",
    "bow=[]  \n",
    "# token을 읽으면서, word2index에 없는 (not in) 단어는 새로 추가하고, 이미 있는 단어는 넘김.\n",
    "for voca in token:  \n",
    "    if voca not in word2index.keys():  \n",
    "        word2index[voca]=len(word2index)  \n",
    "        # BoW 전체에 전부 기본값 1을 넣어줌.(단어의 개수는 최소 1개 이상이기 때문)  \n",
    "        bow.insert(len(word2index)-1,1)\n",
    "    else:\n",
    "        # 재등장하는 단어의 인덱스를 받아옴.\n",
    "        index=word2index.get(voca)\n",
    "        # 재등장한 단어는 해당하는 인덱스의 위치에 1을 더해줌.(단어의 개수를 세는 것)  \n",
    "        bow[index]=bow[index]+1\n",
    "\n",
    "print(\"[word2index]\")\n",
    "print(word2index)  \n",
    "\n",
    "print(\"\\n[bow]\")\n",
    "print(bow)"
   ]
  },
  {
   "cell_type": "markdown",
   "id": "4d6a2030",
   "metadata": {},
   "source": [
    "- 문서3 : 정부가 발표하는 물가상승률과 소비자가 느끼는 물가상승률은 다르다. 소비자는 주로 소비하는 상품을 기준으로 물가상승률을 느낀다."
   ]
  },
  {
   "cell_type": "code",
   "execution_count": 3,
   "id": "3dc536f8",
   "metadata": {},
   "outputs": [
    {
     "name": "stdout",
     "output_type": "stream",
     "text": [
      "[word2index]\n",
      "{'정부': 0, '가': 1, '발표': 2, '하는': 3, '물가상승률': 4, '과': 5, '소비자': 6, '느끼는': 7, '은': 8, '다르다': 9, '는': 10, '주로': 11, '소비': 12, '상품': 13, '을': 14, '기준': 15, '으로': 16, '느낀다': 17}\n",
      "\n",
      "[bow]\n",
      "[1, 2, 1, 2, 3, 1, 2, 1, 1, 1, 1, 1, 1, 1, 2, 1, 1, 1]\n"
     ]
    }
   ],
   "source": [
    "from konlpy.tag import Okt\n",
    "import re  \n",
    "okt=Okt()  \n",
    "\n",
    "# 정규 표현식을 통해 온점을 제거하는 정제 작업 \n",
    "token=re.sub(\"(\\.)\",\"\",\"정부가 발표하는 물가상승률과 소비자가 느끼는 물가상승률은 다르다. 소비자는 주로 소비하는 상품을 기준으로 물가상승률을 느낀다.\")  \n",
    "# OKT 형태소 분석기를 통해 토큰화 작업을 수행한 뒤에, token에다가 넣음.\n",
    "token=okt.morphs(token)   \n",
    "\n",
    "word2index={}  \n",
    "bow=[]  \n",
    "# token을 읽으면서, word2index에 없는 (not in) 단어는 새로 추가하고, 이미 있는 단어는 넘김.\n",
    "for voca in token:  \n",
    "    if voca not in word2index.keys():  \n",
    "        word2index[voca]=len(word2index)  \n",
    "        # BoW 전체에 전부 기본값 1을 넣어줌.(단어의 개수는 최소 1개 이상이기 때문)  \n",
    "        bow.insert(len(word2index)-1,1)\n",
    "    else:\n",
    "        # 재등장하는 단어의 인덱스를 받아옴.\n",
    "        index=word2index.get(voca)\n",
    "        # 재등장한 단어는 해당하는 인덱스의 위치에 1을 더해줌.(단어의 개수를 세는 것)  \n",
    "        bow[index]=bow[index]+1\n",
    "\n",
    "print(\"[word2index]\")\n",
    "print(word2index)  \n",
    "\n",
    "print(\"\\n[bow]\")\n",
    "print(bow)"
   ]
  },
  {
   "cell_type": "markdown",
   "id": "59502115",
   "metadata": {},
   "source": [
    "## 2. CountVectorizer 클래스로 BoW 만들기"
   ]
  },
  {
   "cell_type": "code",
   "execution_count": 4,
   "id": "ffb2ed04",
   "metadata": {},
   "outputs": [
    {
     "name": "stdout",
     "output_type": "stream",
     "text": [
      "[[1 1 2 1 2 1]]\n",
      "{'you': 4, 'know': 1, 'want': 3, 'your': 5, 'love': 2, 'because': 0}\n"
     ]
    }
   ],
   "source": [
    "from sklearn.feature_extraction.text import CountVectorizer\n",
    "corpus = ['you know I want your love. because I love you.']\n",
    "vector = CountVectorizer()\n",
    "# 코퍼스로부터 각 단어의 빈도 수를 기록\n",
    "print(vector.fit_transform(corpus).toarray()) \n",
    "# 각 단어의 인덱스가 어떻게 부여되었는지를 보여줌.\n",
    "print(vector.vocabulary_) "
   ]
  },
  {
   "cell_type": "markdown",
   "id": "69cdcb6a",
   "metadata": {},
   "source": [
    "## 3. 불용어를 제거한 BoW 만들기"
   ]
  },
  {
   "cell_type": "markdown",
   "id": "47560122",
   "metadata": {},
   "source": [
    "### 1) 사용자가 직접 정의한 불용어 사용"
   ]
  },
  {
   "cell_type": "code",
   "execution_count": 5,
   "id": "131b64e8",
   "metadata": {},
   "outputs": [
    {
     "name": "stdout",
     "output_type": "stream",
     "text": [
      "[[1 1 1 1 1]]\n",
      "{'family': 1, 'important': 2, 'thing': 4, 'it': 3, 'everything': 0}\n"
     ]
    }
   ],
   "source": [
    "from sklearn.feature_extraction.text import CountVectorizer\n",
    "\n",
    "text=[\"Family is not an important thing. It's everything.\"]\n",
    "# 불용어 정의\n",
    "vect = CountVectorizer(stop_words=[\"the\", \"a\", \"an\", \"is\", \"not\"])\n",
    "print(vect.fit_transform(text).toarray()) \n",
    "print(vect.vocabulary_)"
   ]
  },
  {
   "cell_type": "markdown",
   "id": "e1ac7b06",
   "metadata": {},
   "source": [
    "### 2) CountVectorizer에서 제공하는 자체 불용어 사용"
   ]
  },
  {
   "cell_type": "code",
   "execution_count": 6,
   "id": "3a1c385d",
   "metadata": {},
   "outputs": [
    {
     "name": "stdout",
     "output_type": "stream",
     "text": [
      "[[1 1 1]]\n",
      "{'family': 0, 'important': 1, 'thing': 2}\n"
     ]
    }
   ],
   "source": [
    "from sklearn.feature_extraction.text import CountVectorizer\n",
    "\n",
    "text=[\"Family is not an important thing. It's everything.\"]\n",
    "# CountVectorizer에서 불용어 제공\n",
    "vect = CountVectorizer(stop_words=\"english\")\n",
    "print(vect.fit_transform(text).toarray())\n",
    "print(vect.vocabulary_)"
   ]
  },
  {
   "cell_type": "markdown",
   "id": "226f8638",
   "metadata": {},
   "source": [
    "### 3) NLTK에서 지원하는 불용어 사용"
   ]
  },
  {
   "cell_type": "code",
   "execution_count": 7,
   "id": "884f64cb",
   "metadata": {},
   "outputs": [
    {
     "name": "stdout",
     "output_type": "stream",
     "text": [
      "[[1 1 1 1]]\n",
      "{'family': 1, 'important': 2, 'thing': 3, 'everything': 0}\n"
     ]
    }
   ],
   "source": [
    "# import nltk\n",
    "# nltk.download('stopwords')\n",
    "from sklearn.feature_extraction.text import CountVectorizer\n",
    "from nltk.corpus import stopwords\n",
    "\n",
    "text=[\"Family is not an important thing. It's everything.\"]\n",
    "# NLTK에서 불용어 제공\n",
    "sw = stopwords.words(\"english\")\n",
    "vect = CountVectorizer(stop_words =sw)\n",
    "print(vect.fit_transform(text).toarray()) \n",
    "print(vect.vocabulary_)"
   ]
  }
 ],
 "metadata": {
  "kernelspec": {
   "display_name": "DH",
   "language": "python",
   "name": "dh"
  },
  "language_info": {
   "codemirror_mode": {
    "name": "ipython",
    "version": 3
   },
   "file_extension": ".py",
   "mimetype": "text/x-python",
   "name": "python",
   "nbconvert_exporter": "python",
   "pygments_lexer": "ipython3",
   "version": "3.8.10"
  }
 },
 "nbformat": 4,
 "nbformat_minor": 5
}
